{
  "nbformat": 4,
  "nbformat_minor": 0,
  "metadata": {
    "colab": {
      "provenance": [],
      "authorship_tag": "ABX9TyM4rRO7cNRa2rJbG4eRHoTO",
      "include_colab_link": true
    },
    "kernelspec": {
      "name": "python3",
      "display_name": "Python 3"
    },
    "language_info": {
      "name": "python"
    }
  },
  "cells": [
    {
      "cell_type": "markdown",
      "metadata": {
        "id": "view-in-github",
        "colab_type": "text"
      },
      "source": [
        "<a href=\"https://colab.research.google.com/github/akshatjain2k/Data-Science-NLP/blob/Amey/MA_news.ipynb\" target=\"_parent\"><img src=\"https://colab.research.google.com/assets/colab-badge.svg\" alt=\"Open In Colab\"/></a>"
      ]
    },
    {
      "cell_type": "markdown",
      "source": [
        "# Scrapping the Merger/Acquisition news data\n",
        "\n",
        "#### https://www.vccircle.com/"
      ],
      "metadata": {
        "id": "fCwsikh922UA"
      }
    },
    {
      "cell_type": "code",
      "source": [
        "from bs4 import BeautifulSoup\n",
        "import requests\n",
        "import pandas as pd"
      ],
      "metadata": {
        "id": "dzd90fjocGGC"
      },
      "execution_count": null,
      "outputs": []
    },
    {
      "cell_type": "markdown",
      "source": [
        "## Trail: Scrapping one page"
      ],
      "metadata": {
        "id": "qoYeAXBO3KNl"
      }
    },
    {
      "cell_type": "code",
      "source": [
        "response = requests.get(\"https://www.vccircle.com/deal-type/m-a/all/1\")\n",
        "soup = BeautifulSoup(response.text)\n",
        "news = soup.find_all(\"div\",class_='newsCard_content__Glu72')\n",
        "\n",
        "for new in news:\n",
        "  try:\n",
        "    title = new.find(\"h4\", class_ = \"listingPage_list-heading__5XeLA\")\n",
        "    link = title.find('a')['href']\n",
        "    date = new.find('li').text\n",
        "    print(title.text)\n",
        "  except:\n",
        "    break\n"
      ],
      "metadata": {
        "colab": {
          "base_uri": "https://localhost:8080/"
        },
        "id": "ZwsCMlt5cRwJ",
        "outputId": "6ef2c64c-22ae-4ed5-e05e-809a57268b0f"
      },
      "execution_count": null,
      "outputs": [
        {
          "output_type": "stream",
          "name": "stdout",
          "text": [
            "Lifelong Group-led consortium snaps up GoMechanic\n",
            "Kae Capital-backed LoanTap snaps up Unofin to boost healthcare lending play\n",
            "Jindal Stainless buys $157-mn stake in Indonesian firm to secure nickel supply\n",
            "Bessemer-backed Medi Assist buys Raksha Health; Sportzcraazy snaps up Kabaddi Adda\n",
            "First Citizens Bank agrees to buy Silicon Valley Bank\n",
            "VC-backed Redcliffe buys diagnostic lab chain in first acquisition\n",
            "Why dealmakers expect M&A activity to pick up despite facing 'brick wall'\n",
            "Unacademy eyes stake in Byju's-owned Aakash\n",
            "PhysicsWallah strikes maiden overseas bet with UAE firm Knowledge Planet\n",
            "Times Group's OTT platform MX Player may go for a song\n"
          ]
        },
        {
          "output_type": "execute_result",
          "data": {
            "text/plain": [
              "[]"
            ]
          },
          "metadata": {},
          "execution_count": 73
        }
      ]
    },
    {
      "cell_type": "markdown",
      "source": [
        "## Scrapping the link page for news body"
      ],
      "metadata": {
        "id": "C-keL3F63NdR"
      }
    },
    {
      "cell_type": "code",
      "source": [
        "response = requests.get(\"https://www.vccircle.com/lifelonggroup-led-consortium-snaps-up-gomechanic\")\n",
        "soup2 = BeautifulSoup(response.text)\n",
        "body = soup2.find_all(\"p\", class_ = \"\")\n",
        "para =[]\n",
        "for i in body:\n",
        "  para.append(i.text)\n",
        "s = ''.join(para)\n",
        "\n",
        "s"
      ],
      "metadata": {
        "colab": {
          "base_uri": "https://localhost:8080/",
          "height": 122
        },
        "id": "BJ7wtCJNpsRo",
        "outputId": "305484ee-f675-401f-d5bc-0111b3a90aef"
      },
      "execution_count": null,
      "outputs": [
        {
          "output_type": "execute_result",
          "data": {
            "text/plain": [
              "\"A consortium led by auto component maker Lifelong Group on Wednesday said it has bought beleaguered car workshop and auto spare parts platform GoMechanic, nearly two months after the latter’s co-founders admitted to falsifying figures to investors.The financial details of the deal were not disclosed.Lifelong Group will become the majority shareholder under Gurugram-based car care startup Servizzy, marking a new phase for the GoMechanic business, it said in a statement.The acquisition of GoMechanic business aligns with the group's strategic vision of synergizing its proven expertise in the automotive industry, said Lifelong, which caters to major players such as Hero Moto Corp, General Motors, Arvin Meritor, and Stanley Black & Decker. \\xa0The sale was initiated by the board and shareholders of GoMechanic, with support from venture debt investor Stride Ventures, in response to recent financial difficulties at the Gurgaon-based company. The Servizzy consortium, led by the Lifelong Group, emerged as the strongest bidder in the sale process, based on the core value proposition offered by GoMechanic.The acquisition will enable the preservation of the ecosystem at large, and the continued livelihood of GoMechanic's employees, LifeLong pointed out in a press statement. \\xa0\\xa0Founded in 2016, GoMechanic connects car owners with repair service providers locally to provide a range of services, including regular maintenance, repairs, and car cleaning. It had 1,100-1,200 employees before it laid off nearly 70% of its staff. \\xa0Late last year, Japanese marquee investor SoftBank found irregularities in the five-year-old firm’s growth and revenue numbers while inspecting financial accounts ahead of a potential investment. The startup was looking to raise fresh capital from SoftBank and Khazanah Nasional at a valuation of over $800 million. \\xa0The founders of GoMechanic admitted to falsifying figures in January. Following this, GoMechanic’s investors ordered a forensic audit of its accounts by EY to examine claims of fraud and financial misreporting. “We are deeply distressed by the fact that the founders knowingly misstated facts, including but not limited to the inflation of revenue, which the founders have acknowledged. All of this was kept from investors,” major investors of the company said in a joint statement.\\xa0GoMechanic was last valued at $285 million after raising $42 million, according to estimates by VCCedge, the data intelligence platform of VCCircle. It counts Sequoia Capital, Tiger Global Management, Orios Venture Partners, Brand Capital, Chiratae Ventures and Elina Investments as its investors.\\xa0Sequoia Capital owned the largest stake at 26.89%, followed by Orios Venture Partners at 17.1%, Tiger Global at 10.03%, and other investors with a combined 11.2% stake. Orios has already written down its investment in the startup.Post admitting to the financial irregularities, GoMechanic continued operations across 800 workshops and serviced 30,000 vehicles in January, Lifelong added.Share article on\""
            ],
            "application/vnd.google.colaboratory.intrinsic+json": {
              "type": "string"
            }
          },
          "metadata": {},
          "execution_count": 49
        }
      ]
    },
    {
      "cell_type": "markdown",
      "source": [
        "## Loop for scrapping 100 pages"
      ],
      "metadata": {
        "id": "yKiWbldW3cHg"
      }
    },
    {
      "cell_type": "code",
      "source": [
        "def scrapper():\n",
        "    date_ = []\n",
        "    title_ = []\n",
        "    link_ = []\n",
        "    body_news_ = []\n",
        "\n",
        "    for i in range(1,100):\n",
        "            try:\n",
        "                response = requests.get(f\"https://www.vccircle.com/deal-type/m-a/all/{i}\")\n",
        "            except:\n",
        "                print(\"link not working\")\n",
        "            soup = BeautifulSoup(response.text)\n",
        "            news = soup.find_all(\"div\", class_ = \"newsCard_content__Glu72\")\n",
        "            for new in news:\n",
        "                title = new.find(\"h4\", class_ = \"listingPage_list-heading__5XeLA\")\n",
        "                try:\n",
        "                  link = title.find('a')['href']\n",
        "                except:\n",
        "                  pass\n",
        "                date = new.find(\"li\")\n",
        "                \n",
        "                \n",
        "                ### for title \n",
        "                try:             \n",
        "                    title_text = title.text\n",
        "                    title_.append(title_text)\n",
        "                except:\n",
        "                    title_.append(\"None\")\n",
        "                    \n",
        "                    \n",
        "                    \n",
        "                ### for links    \n",
        "                try:             \n",
        "                    \n",
        "                    l = f\"https://www.vccircle.com/{link}\"\n",
        "                    link_.append(l)\n",
        "                    #print(l)\n",
        "                    \n",
        "                    \n",
        "                except:\n",
        "                    link_.append(\"None\")\n",
        "                    \n",
        "                    \n",
        "                ### for date\n",
        "                try:             \n",
        "                    \n",
        "                    d = date.text\n",
        "                    \n",
        "                    date_.append(d)\n",
        "                    #print(d)\n",
        "                    \n",
        "                except:\n",
        "                    date_.append(\"None\")\n",
        "                    \n",
        "                    \n",
        "                ### code for the next page deatiled news\n",
        "                try:    \n",
        "                    resp = requests.get(l)\n",
        "                    n_url = resp.text\n",
        "                except:\n",
        "                    print(\"Link not working for next page\")\n",
        "                    \n",
        "                soup2 = BeautifulSoup(n_url)\n",
        "                body = soup2.find_all(\"p\", class_ = \"\")\n",
        "\n",
        "                \n",
        "                ### for body of the news in next page\n",
        "                try:\n",
        "                    para =[]\n",
        "                    for i in body:\n",
        "                      para.append(i.text)\n",
        "                    body = ''.join(para)\n",
        "                    \n",
        "                    body_news_.append(body)\n",
        "                    #print(body.text)\n",
        "                except:\n",
        "                    body_news_.append(\"None\")\n",
        "    return date_, title_, link_, body_news_"
      ],
      "metadata": {
        "id": "TDv5PPc6cMdV"
      },
      "execution_count": null,
      "outputs": []
    },
    {
      "cell_type": "code",
      "source": [
        "date_, title_, link_, body_news_ = scrapper()"
      ],
      "metadata": {
        "id": "8I5zSKI8sALs"
      },
      "execution_count": null,
      "outputs": []
    },
    {
      "cell_type": "code",
      "source": [
        "print(len(date_))\n",
        "print(len(title_))\n",
        "print(len(link_))\n",
        "print(len(body_news_))"
      ],
      "metadata": {
        "colab": {
          "base_uri": "https://localhost:8080/"
        },
        "id": "1O778IKatFB0",
        "outputId": "18eaf46d-7106-4617-b045-ef2d64e33cd8"
      },
      "execution_count": null,
      "outputs": [
        {
          "output_type": "stream",
          "name": "stdout",
          "text": [
            "16\n",
            "16\n",
            "16\n",
            "16\n"
          ]
        }
      ]
    },
    {
      "cell_type": "code",
      "source": [
        "# Converting into DataFrame\n",
        "dict_ = {\"Date_Time\":date_, \"Title\":title_, \"Full_News\":body_news_, \"Links\": link_, \"Category\": \"Merger/Acquisition\"}\n",
        "df = pd.DataFrame(dict_)"
      ],
      "metadata": {
        "id": "5s8pp8_wsC3k"
      },
      "execution_count": null,
      "outputs": []
    },
    {
      "cell_type": "code",
      "source": [
        "df.head()"
      ],
      "metadata": {
        "colab": {
          "base_uri": "https://localhost:8080/",
          "height": 206
        },
        "id": "H7dt4QXXsDkh",
        "outputId": "8383dcf9-9460-4c9b-f58f-6f373a47fef4"
      },
      "execution_count": null,
      "outputs": [
        {
          "output_type": "execute_result",
          "data": {
            "text/plain": [
              "  Date_Time                                              Title  \\\n",
              "0  29 March  Lifelong Group-led consortium snaps up GoMechanic   \n",
              "1  29 March  Kae Capital-backed LoanTap snaps up Unofin to ...   \n",
              "2  28 March  Jindal Stainless buys $157-mn stake in Indones...   \n",
              "3  27 March  Bessemer-backed Medi Assist buys Raksha Health...   \n",
              "4  27 March  First Citizens Bank agrees to buy Silicon Vall...   \n",
              "\n",
              "                                           Full_News  \\\n",
              "0  A consortium led by auto component maker Lifel...   \n",
              "1  Pune-based digital lending platform LoanTap Fi...   \n",
              "2  India's Jindal Stainless Ltd on Tuesday said i...   \n",
              "3  Health insurance third-party administrator Med...   \n",
              "4  First Citizens BancShares Inc said on Monday i...   \n",
              "\n",
              "                                               Links            Category  \n",
              "0  https://www.vccircle.com//lifelonggroup-led-co...  Merger/Acquisition  \n",
              "1  https://www.vccircle.com//kaecapital-backed-lo...  Merger/Acquisition  \n",
              "2  https://www.vccircle.com//jindalstainless-buys...  Merger/Acquisition  \n",
              "3  https://www.vccircle.com//bessemerbacked-medi-...  Merger/Acquisition  \n",
              "4  https://www.vccircle.com//firstcitizens-bank-a...  Merger/Acquisition  "
            ],
            "text/html": [
              "\n",
              "  <div id=\"df-abdecd79-d247-4b32-965e-5db5ebac512f\">\n",
              "    <div class=\"colab-df-container\">\n",
              "      <div>\n",
              "<style scoped>\n",
              "    .dataframe tbody tr th:only-of-type {\n",
              "        vertical-align: middle;\n",
              "    }\n",
              "\n",
              "    .dataframe tbody tr th {\n",
              "        vertical-align: top;\n",
              "    }\n",
              "\n",
              "    .dataframe thead th {\n",
              "        text-align: right;\n",
              "    }\n",
              "</style>\n",
              "<table border=\"1\" class=\"dataframe\">\n",
              "  <thead>\n",
              "    <tr style=\"text-align: right;\">\n",
              "      <th></th>\n",
              "      <th>Date_Time</th>\n",
              "      <th>Title</th>\n",
              "      <th>Full_News</th>\n",
              "      <th>Links</th>\n",
              "      <th>Category</th>\n",
              "    </tr>\n",
              "  </thead>\n",
              "  <tbody>\n",
              "    <tr>\n",
              "      <th>0</th>\n",
              "      <td>29 March</td>\n",
              "      <td>Lifelong Group-led consortium snaps up GoMechanic</td>\n",
              "      <td>A consortium led by auto component maker Lifel...</td>\n",
              "      <td>https://www.vccircle.com//lifelonggroup-led-co...</td>\n",
              "      <td>Merger/Acquisition</td>\n",
              "    </tr>\n",
              "    <tr>\n",
              "      <th>1</th>\n",
              "      <td>29 March</td>\n",
              "      <td>Kae Capital-backed LoanTap snaps up Unofin to ...</td>\n",
              "      <td>Pune-based digital lending platform LoanTap Fi...</td>\n",
              "      <td>https://www.vccircle.com//kaecapital-backed-lo...</td>\n",
              "      <td>Merger/Acquisition</td>\n",
              "    </tr>\n",
              "    <tr>\n",
              "      <th>2</th>\n",
              "      <td>28 March</td>\n",
              "      <td>Jindal Stainless buys $157-mn stake in Indones...</td>\n",
              "      <td>India's Jindal Stainless Ltd on Tuesday said i...</td>\n",
              "      <td>https://www.vccircle.com//jindalstainless-buys...</td>\n",
              "      <td>Merger/Acquisition</td>\n",
              "    </tr>\n",
              "    <tr>\n",
              "      <th>3</th>\n",
              "      <td>27 March</td>\n",
              "      <td>Bessemer-backed Medi Assist buys Raksha Health...</td>\n",
              "      <td>Health insurance third-party administrator Med...</td>\n",
              "      <td>https://www.vccircle.com//bessemerbacked-medi-...</td>\n",
              "      <td>Merger/Acquisition</td>\n",
              "    </tr>\n",
              "    <tr>\n",
              "      <th>4</th>\n",
              "      <td>27 March</td>\n",
              "      <td>First Citizens Bank agrees to buy Silicon Vall...</td>\n",
              "      <td>First Citizens BancShares Inc said on Monday i...</td>\n",
              "      <td>https://www.vccircle.com//firstcitizens-bank-a...</td>\n",
              "      <td>Merger/Acquisition</td>\n",
              "    </tr>\n",
              "  </tbody>\n",
              "</table>\n",
              "</div>\n",
              "      <button class=\"colab-df-convert\" onclick=\"convertToInteractive('df-abdecd79-d247-4b32-965e-5db5ebac512f')\"\n",
              "              title=\"Convert this dataframe to an interactive table.\"\n",
              "              style=\"display:none;\">\n",
              "        \n",
              "  <svg xmlns=\"http://www.w3.org/2000/svg\" height=\"24px\"viewBox=\"0 0 24 24\"\n",
              "       width=\"24px\">\n",
              "    <path d=\"M0 0h24v24H0V0z\" fill=\"none\"/>\n",
              "    <path d=\"M18.56 5.44l.94 2.06.94-2.06 2.06-.94-2.06-.94-.94-2.06-.94 2.06-2.06.94zm-11 1L8.5 8.5l.94-2.06 2.06-.94-2.06-.94L8.5 2.5l-.94 2.06-2.06.94zm10 10l.94 2.06.94-2.06 2.06-.94-2.06-.94-.94-2.06-.94 2.06-2.06.94z\"/><path d=\"M17.41 7.96l-1.37-1.37c-.4-.4-.92-.59-1.43-.59-.52 0-1.04.2-1.43.59L10.3 9.45l-7.72 7.72c-.78.78-.78 2.05 0 2.83L4 21.41c.39.39.9.59 1.41.59.51 0 1.02-.2 1.41-.59l7.78-7.78 2.81-2.81c.8-.78.8-2.07 0-2.86zM5.41 20L4 18.59l7.72-7.72 1.47 1.35L5.41 20z\"/>\n",
              "  </svg>\n",
              "      </button>\n",
              "      \n",
              "  <style>\n",
              "    .colab-df-container {\n",
              "      display:flex;\n",
              "      flex-wrap:wrap;\n",
              "      gap: 12px;\n",
              "    }\n",
              "\n",
              "    .colab-df-convert {\n",
              "      background-color: #E8F0FE;\n",
              "      border: none;\n",
              "      border-radius: 50%;\n",
              "      cursor: pointer;\n",
              "      display: none;\n",
              "      fill: #1967D2;\n",
              "      height: 32px;\n",
              "      padding: 0 0 0 0;\n",
              "      width: 32px;\n",
              "    }\n",
              "\n",
              "    .colab-df-convert:hover {\n",
              "      background-color: #E2EBFA;\n",
              "      box-shadow: 0px 1px 2px rgba(60, 64, 67, 0.3), 0px 1px 3px 1px rgba(60, 64, 67, 0.15);\n",
              "      fill: #174EA6;\n",
              "    }\n",
              "\n",
              "    [theme=dark] .colab-df-convert {\n",
              "      background-color: #3B4455;\n",
              "      fill: #D2E3FC;\n",
              "    }\n",
              "\n",
              "    [theme=dark] .colab-df-convert:hover {\n",
              "      background-color: #434B5C;\n",
              "      box-shadow: 0px 1px 3px 1px rgba(0, 0, 0, 0.15);\n",
              "      filter: drop-shadow(0px 1px 2px rgba(0, 0, 0, 0.3));\n",
              "      fill: #FFFFFF;\n",
              "    }\n",
              "  </style>\n",
              "\n",
              "      <script>\n",
              "        const buttonEl =\n",
              "          document.querySelector('#df-abdecd79-d247-4b32-965e-5db5ebac512f button.colab-df-convert');\n",
              "        buttonEl.style.display =\n",
              "          google.colab.kernel.accessAllowed ? 'block' : 'none';\n",
              "\n",
              "        async function convertToInteractive(key) {\n",
              "          const element = document.querySelector('#df-abdecd79-d247-4b32-965e-5db5ebac512f');\n",
              "          const dataTable =\n",
              "            await google.colab.kernel.invokeFunction('convertToInteractive',\n",
              "                                                     [key], {});\n",
              "          if (!dataTable) return;\n",
              "\n",
              "          const docLinkHtml = 'Like what you see? Visit the ' +\n",
              "            '<a target=\"_blank\" href=https://colab.research.google.com/notebooks/data_table.ipynb>data table notebook</a>'\n",
              "            + ' to learn more about interactive tables.';\n",
              "          element.innerHTML = '';\n",
              "          dataTable['output_type'] = 'display_data';\n",
              "          await google.colab.output.renderOutput(dataTable, element);\n",
              "          const docLink = document.createElement('div');\n",
              "          docLink.innerHTML = docLinkHtml;\n",
              "          element.appendChild(docLink);\n",
              "        }\n",
              "      </script>\n",
              "    </div>\n",
              "  </div>\n",
              "  "
            ]
          },
          "metadata": {},
          "execution_count": 79
        }
      ]
    },
    {
      "cell_type": "markdown",
      "source": [
        "## Dropping the none values"
      ],
      "metadata": {
        "id": "mNZIS89l3iL4"
      }
    },
    {
      "cell_type": "code",
      "source": [
        "# replace none in df with nan\n",
        "df.replace(\"None\", float(\"NaN\"), inplace = True)"
      ],
      "metadata": {
        "id": "ovf5V3gnvBrG"
      },
      "execution_count": null,
      "outputs": []
    },
    {
      "cell_type": "code",
      "source": [
        "df.isna().sum()"
      ],
      "metadata": {
        "colab": {
          "base_uri": "https://localhost:8080/"
        },
        "id": "fnpJwyYm1Stp",
        "outputId": "8389cbfd-06bb-4294-9cb6-d3c68280e228"
      },
      "execution_count": null,
      "outputs": [
        {
          "output_type": "execute_result",
          "data": {
            "text/plain": [
              "Date_Time    6\n",
              "Title        6\n",
              "Full_News    0\n",
              "Links        0\n",
              "Category     0\n",
              "dtype: int64"
            ]
          },
          "metadata": {},
          "execution_count": 81
        }
      ]
    },
    {
      "cell_type": "code",
      "source": [
        "df.dropna(inplace = True)"
      ],
      "metadata": {
        "id": "STvoWeOb1VxV"
      },
      "execution_count": null,
      "outputs": []
    },
    {
      "cell_type": "code",
      "source": [
        "df.isna().sum()"
      ],
      "metadata": {
        "colab": {
          "base_uri": "https://localhost:8080/"
        },
        "id": "rLM6wkTB1WXg",
        "outputId": "86c78c10-06e7-49d6-9151-dda802cbb001"
      },
      "execution_count": null,
      "outputs": [
        {
          "output_type": "execute_result",
          "data": {
            "text/plain": [
              "Date_Time    0\n",
              "Title        0\n",
              "Full_News    0\n",
              "Links        0\n",
              "Category     0\n",
              "dtype: int64"
            ]
          },
          "metadata": {},
          "execution_count": 83
        }
      ]
    },
    {
      "cell_type": "code",
      "source": [
        "# save dataframe\n",
        "df.to_csv('Stocks_news.csv', index=False)"
      ],
      "metadata": {
        "id": "ygPOIIwX1Yfq"
      },
      "execution_count": null,
      "outputs": []
    },
    {
      "cell_type": "code",
      "source": [
        "df.head()"
      ],
      "metadata": {
        "colab": {
          "base_uri": "https://localhost:8080/",
          "height": 206
        },
        "id": "VdeoqvSM1ao9",
        "outputId": "3d85d7ae-28d5-4ff6-defb-69fc47ba03f9"
      },
      "execution_count": null,
      "outputs": [
        {
          "output_type": "execute_result",
          "data": {
            "text/plain": [
              "  Date_Time                                              Title  \\\n",
              "0  29 March  Lifelong Group-led consortium snaps up GoMechanic   \n",
              "1  29 March  Kae Capital-backed LoanTap snaps up Unofin to ...   \n",
              "2  28 March  Jindal Stainless buys $157-mn stake in Indones...   \n",
              "3  27 March  Bessemer-backed Medi Assist buys Raksha Health...   \n",
              "4  27 March  First Citizens Bank agrees to buy Silicon Vall...   \n",
              "\n",
              "                                           Full_News  \\\n",
              "0  A consortium led by auto component maker Lifel...   \n",
              "1  Pune-based digital lending platform LoanTap Fi...   \n",
              "2  India's Jindal Stainless Ltd on Tuesday said i...   \n",
              "3  Health insurance third-party administrator Med...   \n",
              "4  First Citizens BancShares Inc said on Monday i...   \n",
              "\n",
              "                                               Links            Category  \n",
              "0  https://www.vccircle.com//lifelonggroup-led-co...  Merger/Acquisition  \n",
              "1  https://www.vccircle.com//kaecapital-backed-lo...  Merger/Acquisition  \n",
              "2  https://www.vccircle.com//jindalstainless-buys...  Merger/Acquisition  \n",
              "3  https://www.vccircle.com//bessemerbacked-medi-...  Merger/Acquisition  \n",
              "4  https://www.vccircle.com//firstcitizens-bank-a...  Merger/Acquisition  "
            ],
            "text/html": [
              "\n",
              "  <div id=\"df-f38064ff-c029-41a9-b115-b61226d9d21a\">\n",
              "    <div class=\"colab-df-container\">\n",
              "      <div>\n",
              "<style scoped>\n",
              "    .dataframe tbody tr th:only-of-type {\n",
              "        vertical-align: middle;\n",
              "    }\n",
              "\n",
              "    .dataframe tbody tr th {\n",
              "        vertical-align: top;\n",
              "    }\n",
              "\n",
              "    .dataframe thead th {\n",
              "        text-align: right;\n",
              "    }\n",
              "</style>\n",
              "<table border=\"1\" class=\"dataframe\">\n",
              "  <thead>\n",
              "    <tr style=\"text-align: right;\">\n",
              "      <th></th>\n",
              "      <th>Date_Time</th>\n",
              "      <th>Title</th>\n",
              "      <th>Full_News</th>\n",
              "      <th>Links</th>\n",
              "      <th>Category</th>\n",
              "    </tr>\n",
              "  </thead>\n",
              "  <tbody>\n",
              "    <tr>\n",
              "      <th>0</th>\n",
              "      <td>29 March</td>\n",
              "      <td>Lifelong Group-led consortium snaps up GoMechanic</td>\n",
              "      <td>A consortium led by auto component maker Lifel...</td>\n",
              "      <td>https://www.vccircle.com//lifelonggroup-led-co...</td>\n",
              "      <td>Merger/Acquisition</td>\n",
              "    </tr>\n",
              "    <tr>\n",
              "      <th>1</th>\n",
              "      <td>29 March</td>\n",
              "      <td>Kae Capital-backed LoanTap snaps up Unofin to ...</td>\n",
              "      <td>Pune-based digital lending platform LoanTap Fi...</td>\n",
              "      <td>https://www.vccircle.com//kaecapital-backed-lo...</td>\n",
              "      <td>Merger/Acquisition</td>\n",
              "    </tr>\n",
              "    <tr>\n",
              "      <th>2</th>\n",
              "      <td>28 March</td>\n",
              "      <td>Jindal Stainless buys $157-mn stake in Indones...</td>\n",
              "      <td>India's Jindal Stainless Ltd on Tuesday said i...</td>\n",
              "      <td>https://www.vccircle.com//jindalstainless-buys...</td>\n",
              "      <td>Merger/Acquisition</td>\n",
              "    </tr>\n",
              "    <tr>\n",
              "      <th>3</th>\n",
              "      <td>27 March</td>\n",
              "      <td>Bessemer-backed Medi Assist buys Raksha Health...</td>\n",
              "      <td>Health insurance third-party administrator Med...</td>\n",
              "      <td>https://www.vccircle.com//bessemerbacked-medi-...</td>\n",
              "      <td>Merger/Acquisition</td>\n",
              "    </tr>\n",
              "    <tr>\n",
              "      <th>4</th>\n",
              "      <td>27 March</td>\n",
              "      <td>First Citizens Bank agrees to buy Silicon Vall...</td>\n",
              "      <td>First Citizens BancShares Inc said on Monday i...</td>\n",
              "      <td>https://www.vccircle.com//firstcitizens-bank-a...</td>\n",
              "      <td>Merger/Acquisition</td>\n",
              "    </tr>\n",
              "  </tbody>\n",
              "</table>\n",
              "</div>\n",
              "      <button class=\"colab-df-convert\" onclick=\"convertToInteractive('df-f38064ff-c029-41a9-b115-b61226d9d21a')\"\n",
              "              title=\"Convert this dataframe to an interactive table.\"\n",
              "              style=\"display:none;\">\n",
              "        \n",
              "  <svg xmlns=\"http://www.w3.org/2000/svg\" height=\"24px\"viewBox=\"0 0 24 24\"\n",
              "       width=\"24px\">\n",
              "    <path d=\"M0 0h24v24H0V0z\" fill=\"none\"/>\n",
              "    <path d=\"M18.56 5.44l.94 2.06.94-2.06 2.06-.94-2.06-.94-.94-2.06-.94 2.06-2.06.94zm-11 1L8.5 8.5l.94-2.06 2.06-.94-2.06-.94L8.5 2.5l-.94 2.06-2.06.94zm10 10l.94 2.06.94-2.06 2.06-.94-2.06-.94-.94-2.06-.94 2.06-2.06.94z\"/><path d=\"M17.41 7.96l-1.37-1.37c-.4-.4-.92-.59-1.43-.59-.52 0-1.04.2-1.43.59L10.3 9.45l-7.72 7.72c-.78.78-.78 2.05 0 2.83L4 21.41c.39.39.9.59 1.41.59.51 0 1.02-.2 1.41-.59l7.78-7.78 2.81-2.81c.8-.78.8-2.07 0-2.86zM5.41 20L4 18.59l7.72-7.72 1.47 1.35L5.41 20z\"/>\n",
              "  </svg>\n",
              "      </button>\n",
              "      \n",
              "  <style>\n",
              "    .colab-df-container {\n",
              "      display:flex;\n",
              "      flex-wrap:wrap;\n",
              "      gap: 12px;\n",
              "    }\n",
              "\n",
              "    .colab-df-convert {\n",
              "      background-color: #E8F0FE;\n",
              "      border: none;\n",
              "      border-radius: 50%;\n",
              "      cursor: pointer;\n",
              "      display: none;\n",
              "      fill: #1967D2;\n",
              "      height: 32px;\n",
              "      padding: 0 0 0 0;\n",
              "      width: 32px;\n",
              "    }\n",
              "\n",
              "    .colab-df-convert:hover {\n",
              "      background-color: #E2EBFA;\n",
              "      box-shadow: 0px 1px 2px rgba(60, 64, 67, 0.3), 0px 1px 3px 1px rgba(60, 64, 67, 0.15);\n",
              "      fill: #174EA6;\n",
              "    }\n",
              "\n",
              "    [theme=dark] .colab-df-convert {\n",
              "      background-color: #3B4455;\n",
              "      fill: #D2E3FC;\n",
              "    }\n",
              "\n",
              "    [theme=dark] .colab-df-convert:hover {\n",
              "      background-color: #434B5C;\n",
              "      box-shadow: 0px 1px 3px 1px rgba(0, 0, 0, 0.15);\n",
              "      filter: drop-shadow(0px 1px 2px rgba(0, 0, 0, 0.3));\n",
              "      fill: #FFFFFF;\n",
              "    }\n",
              "  </style>\n",
              "\n",
              "      <script>\n",
              "        const buttonEl =\n",
              "          document.querySelector('#df-f38064ff-c029-41a9-b115-b61226d9d21a button.colab-df-convert');\n",
              "        buttonEl.style.display =\n",
              "          google.colab.kernel.accessAllowed ? 'block' : 'none';\n",
              "\n",
              "        async function convertToInteractive(key) {\n",
              "          const element = document.querySelector('#df-f38064ff-c029-41a9-b115-b61226d9d21a');\n",
              "          const dataTable =\n",
              "            await google.colab.kernel.invokeFunction('convertToInteractive',\n",
              "                                                     [key], {});\n",
              "          if (!dataTable) return;\n",
              "\n",
              "          const docLinkHtml = 'Like what you see? Visit the ' +\n",
              "            '<a target=\"_blank\" href=https://colab.research.google.com/notebooks/data_table.ipynb>data table notebook</a>'\n",
              "            + ' to learn more about interactive tables.';\n",
              "          element.innerHTML = '';\n",
              "          dataTable['output_type'] = 'display_data';\n",
              "          await google.colab.output.renderOutput(dataTable, element);\n",
              "          const docLink = document.createElement('div');\n",
              "          docLink.innerHTML = docLinkHtml;\n",
              "          element.appendChild(docLink);\n",
              "        }\n",
              "      </script>\n",
              "    </div>\n",
              "  </div>\n",
              "  "
            ]
          },
          "metadata": {},
          "execution_count": 85
        }
      ]
    },
    {
      "cell_type": "code",
      "source": [
        "df.info()"
      ],
      "metadata": {
        "colab": {
          "base_uri": "https://localhost:8080/"
        },
        "id": "sOxI_4FS1czI",
        "outputId": "0e8eebeb-4df4-44b2-986a-24eca0f714ba"
      },
      "execution_count": null,
      "outputs": [
        {
          "output_type": "stream",
          "name": "stdout",
          "text": [
            "<class 'pandas.core.frame.DataFrame'>\n",
            "Int64Index: 10 entries, 0 to 9\n",
            "Data columns (total 5 columns):\n",
            " #   Column     Non-Null Count  Dtype \n",
            "---  ------     --------------  ----- \n",
            " 0   Date_Time  10 non-null     object\n",
            " 1   Title      10 non-null     object\n",
            " 2   Full_News  10 non-null     object\n",
            " 3   Links      10 non-null     object\n",
            " 4   Category   10 non-null     object\n",
            "dtypes: object(5)\n",
            "memory usage: 480.0+ bytes\n"
          ]
        }
      ]
    },
    {
      "cell_type": "code",
      "source": [],
      "metadata": {
        "id": "u4OtgtVJ1fLo"
      },
      "execution_count": null,
      "outputs": []
    }
  ]
}