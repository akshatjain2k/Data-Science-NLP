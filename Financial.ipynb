{
  "nbformat": 4,
  "nbformat_minor": 0,
  "metadata": {
    "colab": {
      "provenance": [],
      "authorship_tag": "ABX9TyORNCv7+bcTykC51+hM5Uhv",
      "include_colab_link": true
    },
    "kernelspec": {
      "name": "python3",
      "display_name": "Python 3"
    },
    "language_info": {
      "name": "python"
    }
  },
  "cells": [
    {
      "cell_type": "markdown",
      "metadata": {
        "id": "view-in-github",
        "colab_type": "text"
      },
      "source": [
        "<a href=\"https://colab.research.google.com/github/akshatjain2k/Data-Science-NLP/blob/Amey/Financial.ipynb\" target=\"_parent\"><img src=\"https://colab.research.google.com/assets/colab-badge.svg\" alt=\"Open In Colab\"/></a>"
      ]
    },
    {
      "cell_type": "markdown",
      "source": [
        "# Scapping financial news category data\n",
        "\n",
        "#### https://www.vccircle.com/"
      ],
      "metadata": {
        "id": "4G01-3wa2wpE"
      }
    },
    {
      "cell_type": "code",
      "source": [
        "from bs4 import BeautifulSoup\n",
        "import requests\n",
        "import pandas as pd"
      ],
      "metadata": {
        "id": "qgUkVLwZzJ6x"
      },
      "execution_count": 5,
      "outputs": []
    },
    {
      "cell_type": "markdown",
      "source": [
        "## Trial: Scrapping main page"
      ],
      "metadata": {
        "id": "rCVLHBOn2JRP"
      }
    },
    {
      "cell_type": "code",
      "source": [
        "response = requests.get(\"https://www.vccircle.com/economy/finance/all/1\")\n",
        "soup = BeautifulSoup(response.text)\n",
        "news = soup.find_all(\"div\",class_='newsCard_content__Glu72')\n",
        "\n",
        "for new in news:\n",
        "  try:\n",
        "    title = new.find(\"h4\", class_ = \"listingPage_list-heading__5XeLA\")\n",
        "    link = title.find('a')['href']\n",
        "    date = new.find('li').text\n",
        "    print(link)\n",
        "  except:\n",
        "    break\n"
      ],
      "metadata": {
        "colab": {
          "base_uri": "https://localhost:8080/"
        },
        "id": "rMTkfLAFzJ3Q",
        "outputId": "f21a3a00-13c5-437e-af4c-32fd72466a01"
      },
      "execution_count": 6,
      "outputs": [
        {
          "output_type": "stream",
          "name": "stdout",
          "text": [
            "/rbito-raise-rates-once-more-on-april-6-but-leave-door-open-for-more-poll\n",
            "/sensexnifty-slip-again-after-fresh-sell-off-in-adani-stocks\n",
            "/relcap-s-lenders-to-move-ahead-with-second-auction-after-sc-nod\n",
            "/arthaindia-ventures-backs-kenya-s-buupass-in-third-african-bet\n",
            "/belgiums-colruyt-joins-as-lp-for-indian-vc-fund\n",
            "/globalhedge-funds-move-stakes-out-of-american-lenders-after-svb-fall\n",
            "/pefirm-samara-capital-inks-buyout-deal-in-bfsi-segment\n",
            "/howdebt-fund-taxation-changes-may-weaken-corporate-bond-demand\n",
            "/truenorth-eyes-spectacular-returns-from-financial-services-deal\n",
            "/firstcitizens-bank-agrees-to-buy-silicon-valley-bank\n"
          ]
        },
        {
          "output_type": "execute_result",
          "data": {
            "text/plain": [
              "[]"
            ]
          },
          "metadata": {},
          "execution_count": 6
        }
      ]
    },
    {
      "cell_type": "markdown",
      "source": [
        "## Srapping the link page for news body"
      ],
      "metadata": {
        "id": "fj-M7kh32OCo"
      }
    },
    {
      "cell_type": "code",
      "source": [
        "response = requests.get(\"https://www.vccircle.com/rbito-raise-rates-once-more-on-april-6-but-leave-door-open-for-more-poll\")\n",
        "soup2 = BeautifulSoup(response.text)\n",
        "body = soup2.find_all(\"p\", class_ = \"\")\n",
        "para =[]\n",
        "for i in body:\n",
        "  para.append(i.text)\n",
        "s = ''.join(para)\n",
        "\n",
        "s"
      ],
      "metadata": {
        "colab": {
          "base_uri": "https://localhost:8080/",
          "height": 122
        },
        "id": "mk-WaOiPzJ00",
        "outputId": "ca4c9780-69c5-44ac-d7a4-794bd20da63f"
      },
      "execution_count": 7,
      "outputs": [
        {
          "output_type": "execute_result",
          "data": {
            "text/plain": [
              "'The Reserve Bank of India will raise its main interest rate by 25 basis points on April 6 and then pause for the rest of the year, according to a Reuters poll of economists who said the central bank would still maintain its tightening stance.\\n\\nInflation in Asia\\'s third-largest economy remains above the central bank\\'s upper tolerance limit of 6.00%, reaching 6.52% in January and easing only slightly to 6.44% in February, a key reason for the RBI to hike again.A strong majority of economists, 49 of 62, said the RBI would lift its repo rate by 25 basis points to a seven-year high of 6.75% at the conclusion of its April 3-6 meeting.A majority of economists in the March 23-28 Reuters poll also said the RBI would then keep the rate steady for the rest of the year.If realised, that would mark a cumulative 275 basis point increase from the Monetary Policy Committee since last May, a relatively modest rate cycle compared with some other central banks like the U.S. Federal Reserve, which started earlier.\"It\\'s not just headline - even core inflation, which the MPC did emphasize substantially in the last two policy reviews, continues to be a point of concern for them,\" said Vivek Kumar, an economist at QuantEco.\"The Fed has done what it roughly telegraphed, and given that backdrop ... we see no reason why the RBI should stay back, especially when inflation is running ahead of the upper end of the comfort band.\"A majority of respondents, 20 of 36, said the central bank would maintain its withdrawal of accommodation stance at the April meeting. The remaining 16 said it would shift to neutral.\"We expect no change in the stance. There is still a residual expectation of one more Fed rate hike in May. Until that is behind us, the RBI probably will not be very comfortable in signalling that they are done with rate hikes,\" said QuantEco\\'s Kumar.Of the 33 respondents who answered a separate question, just over half, 18, said the bigger risk to their terminal rate forecast was it would be higher than they predicted, while the remaining 15 said it was that it would be lower.In last month\\'s poll, all economists said the bigger risk was it would be higher than they predicted.Seventeen economists who answered another question on how high the rate might go if 6.75% is not the peak gave a median forecast of 7.00%.\"With inflation a persistent concern, (the) RBI will likely keep all its options open to deal with the near- and medium-term inflationary risks,\" noted Kaushik Das, chief economist, India and South Asia at Deutsche Bank.The survey showed inflation was expected to average 6.7% in the current fiscal year, and then fall to 5.2% in the next, remaining above the 4.0% medium-term target.The Indian economy was forecast to grow 6.9% this fiscal year and then slow to 6.0% in the next. These estimates were unchanged from the February poll.Share article on'"
            ],
            "application/vnd.google.colaboratory.intrinsic+json": {
              "type": "string"
            }
          },
          "metadata": {},
          "execution_count": 7
        }
      ]
    },
    {
      "cell_type": "markdown",
      "source": [
        "## Loop for scrapping 100 pages"
      ],
      "metadata": {
        "id": "0UnD-VE62TVL"
      }
    },
    {
      "cell_type": "code",
      "source": [
        "def scrapper():\n",
        "    date_ = []\n",
        "    title_ = []\n",
        "    link_ = []\n",
        "    body_news_ = []\n",
        "\n",
        "    for i in range(1,100):\n",
        "            try:\n",
        "                response = requests.get(f\"https://www.vccircle.com/economy/finance/all/{i}\")\n",
        "            except:\n",
        "                print(\"link not working\")\n",
        "            soup = BeautifulSoup(response.text)\n",
        "            news = soup.find_all(\"div\", class_ = \"newsCard_content__Glu72\")\n",
        "            for new in news:\n",
        "                title = new.find(\"h4\", class_ = \"listingPage_list-heading__5XeLA\")\n",
        "                try:\n",
        "                  link = title.find('a')['href']\n",
        "                except:\n",
        "                  pass\n",
        "                date = new.find(\"li\")\n",
        "                \n",
        "                \n",
        "                ### for title \n",
        "                try:             \n",
        "                    title_text = title.text\n",
        "                    title_.append(title_text)\n",
        "                except:\n",
        "                    title_.append(\"None\")\n",
        "                    \n",
        "                    \n",
        "                    \n",
        "                ### for links    \n",
        "                try:             \n",
        "                    \n",
        "                    l = f\"https://www.vccircle.com/{link}\"\n",
        "                    link_.append(l)\n",
        "                    #print(l)\n",
        "                    \n",
        "                    \n",
        "                except:\n",
        "                    link_.append(\"None\")\n",
        "                    \n",
        "                    \n",
        "                ### for date\n",
        "                try:             \n",
        "                    \n",
        "                    d = date.text\n",
        "                    \n",
        "                    date_.append(d)\n",
        "                    #print(d)\n",
        "                    \n",
        "                except:\n",
        "                    date_.append(\"None\")\n",
        "                    \n",
        "                    \n",
        "                ### code for the next page deatiled news\n",
        "                try:    \n",
        "                    resp = requests.get(l)\n",
        "                    n_url = resp.text\n",
        "                except:\n",
        "                    print(\"Link not working for next page\")\n",
        "                    \n",
        "                soup2 = BeautifulSoup(n_url)\n",
        "                body = soup2.find_all(\"p\", class_ = \"\")\n",
        "\n",
        "                \n",
        "                ### for body of the news in next page\n",
        "                try:\n",
        "                    para =[]\n",
        "                    for i in body:\n",
        "                      para.append(i.text)\n",
        "                    body = ''.join(para)\n",
        "                    \n",
        "                    body_news_.append(body)\n",
        "                    #print(body.text)\n",
        "                except:\n",
        "                    body_news_.append(\"None\")\n",
        "    return date_, title_, link_, body_news_"
      ],
      "metadata": {
        "id": "cMwpRJL1zJyi"
      },
      "execution_count": 8,
      "outputs": []
    },
    {
      "cell_type": "code",
      "source": [
        "date_, title_, link_, body_news_ = scrapper()"
      ],
      "metadata": {
        "id": "oNdRWTC3zJwX"
      },
      "execution_count": 9,
      "outputs": []
    },
    {
      "cell_type": "code",
      "source": [
        "print(len(date_))\n",
        "print(len(title_))\n",
        "print(len(link_))\n",
        "print(len(body_news_))"
      ],
      "metadata": {
        "colab": {
          "base_uri": "https://localhost:8080/"
        },
        "id": "eLWzlA4y0ivK",
        "outputId": "8820284a-6929-45f7-8aa0-600cf403a059"
      },
      "execution_count": 10,
      "outputs": [
        {
          "output_type": "stream",
          "name": "stdout",
          "text": [
            "16\n",
            "16\n",
            "16\n",
            "16\n"
          ]
        }
      ]
    },
    {
      "cell_type": "code",
      "source": [
        "# Converting into DataFrame\n",
        "dict_ = {\"Date_Time\":date_, \"Title\":title_, \"Full_News\":body_news_, \"Links\": link_, \"Category\": \"Merger/Acquisition\"}\n",
        "df = pd.DataFrame(dict_)"
      ],
      "metadata": {
        "id": "V0d3hYs40jUm"
      },
      "execution_count": 11,
      "outputs": []
    },
    {
      "cell_type": "code",
      "source": [
        "df.head()"
      ],
      "metadata": {
        "colab": {
          "base_uri": "https://localhost:8080/",
          "height": 206
        },
        "id": "EgTar12z0nA2",
        "outputId": "423613f1-a611-4b4d-8842-84f20f8cbe4a"
      },
      "execution_count": 12,
      "outputs": [
        {
          "output_type": "execute_result",
          "data": {
            "text/plain": [
              "  Date_Time                                              Title  \\\n",
              "0  29 March  RBI to raise rates once more on April 6 but le...   \n",
              "1  28 March  Sensex, Nifty slip again after fresh sell-off ...   \n",
              "2  28 March  Reliance Capital's lenders to move ahead with ...   \n",
              "3  28 March  Artha India Ventures backs Kenya's BuuPass in ...   \n",
              "4  28 March   Belgium's Colruyt joins as LP for Indian VC fund   \n",
              "\n",
              "                                           Full_News  \\\n",
              "0  The Reserve Bank of India will raise its main ...   \n",
              "1  Shares settled lower on Tuesday as caution ove...   \n",
              "2  The lenders of Reliance Capital have decided t...   \n",
              "3  Artha India Ventures, the alternative investme...   \n",
              "4  Belgium-based family office Colruyt Group, whi...   \n",
              "\n",
              "                                               Links            Category  \n",
              "0  https://www.vccircle.com//rbito-raise-rates-on...  Merger/Acquisition  \n",
              "1  https://www.vccircle.com//sensexnifty-slip-aga...  Merger/Acquisition  \n",
              "2  https://www.vccircle.com//relcap-s-lenders-to-...  Merger/Acquisition  \n",
              "3  https://www.vccircle.com//arthaindia-ventures-...  Merger/Acquisition  \n",
              "4  https://www.vccircle.com//belgiums-colruyt-joi...  Merger/Acquisition  "
            ],
            "text/html": [
              "\n",
              "  <div id=\"df-845dddf2-4dea-4bc7-bf9f-5d59fce3db2f\">\n",
              "    <div class=\"colab-df-container\">\n",
              "      <div>\n",
              "<style scoped>\n",
              "    .dataframe tbody tr th:only-of-type {\n",
              "        vertical-align: middle;\n",
              "    }\n",
              "\n",
              "    .dataframe tbody tr th {\n",
              "        vertical-align: top;\n",
              "    }\n",
              "\n",
              "    .dataframe thead th {\n",
              "        text-align: right;\n",
              "    }\n",
              "</style>\n",
              "<table border=\"1\" class=\"dataframe\">\n",
              "  <thead>\n",
              "    <tr style=\"text-align: right;\">\n",
              "      <th></th>\n",
              "      <th>Date_Time</th>\n",
              "      <th>Title</th>\n",
              "      <th>Full_News</th>\n",
              "      <th>Links</th>\n",
              "      <th>Category</th>\n",
              "    </tr>\n",
              "  </thead>\n",
              "  <tbody>\n",
              "    <tr>\n",
              "      <th>0</th>\n",
              "      <td>29 March</td>\n",
              "      <td>RBI to raise rates once more on April 6 but le...</td>\n",
              "      <td>The Reserve Bank of India will raise its main ...</td>\n",
              "      <td>https://www.vccircle.com//rbito-raise-rates-on...</td>\n",
              "      <td>Merger/Acquisition</td>\n",
              "    </tr>\n",
              "    <tr>\n",
              "      <th>1</th>\n",
              "      <td>28 March</td>\n",
              "      <td>Sensex, Nifty slip again after fresh sell-off ...</td>\n",
              "      <td>Shares settled lower on Tuesday as caution ove...</td>\n",
              "      <td>https://www.vccircle.com//sensexnifty-slip-aga...</td>\n",
              "      <td>Merger/Acquisition</td>\n",
              "    </tr>\n",
              "    <tr>\n",
              "      <th>2</th>\n",
              "      <td>28 March</td>\n",
              "      <td>Reliance Capital's lenders to move ahead with ...</td>\n",
              "      <td>The lenders of Reliance Capital have decided t...</td>\n",
              "      <td>https://www.vccircle.com//relcap-s-lenders-to-...</td>\n",
              "      <td>Merger/Acquisition</td>\n",
              "    </tr>\n",
              "    <tr>\n",
              "      <th>3</th>\n",
              "      <td>28 March</td>\n",
              "      <td>Artha India Ventures backs Kenya's BuuPass in ...</td>\n",
              "      <td>Artha India Ventures, the alternative investme...</td>\n",
              "      <td>https://www.vccircle.com//arthaindia-ventures-...</td>\n",
              "      <td>Merger/Acquisition</td>\n",
              "    </tr>\n",
              "    <tr>\n",
              "      <th>4</th>\n",
              "      <td>28 March</td>\n",
              "      <td>Belgium's Colruyt joins as LP for Indian VC fund</td>\n",
              "      <td>Belgium-based family office Colruyt Group, whi...</td>\n",
              "      <td>https://www.vccircle.com//belgiums-colruyt-joi...</td>\n",
              "      <td>Merger/Acquisition</td>\n",
              "    </tr>\n",
              "  </tbody>\n",
              "</table>\n",
              "</div>\n",
              "      <button class=\"colab-df-convert\" onclick=\"convertToInteractive('df-845dddf2-4dea-4bc7-bf9f-5d59fce3db2f')\"\n",
              "              title=\"Convert this dataframe to an interactive table.\"\n",
              "              style=\"display:none;\">\n",
              "        \n",
              "  <svg xmlns=\"http://www.w3.org/2000/svg\" height=\"24px\"viewBox=\"0 0 24 24\"\n",
              "       width=\"24px\">\n",
              "    <path d=\"M0 0h24v24H0V0z\" fill=\"none\"/>\n",
              "    <path d=\"M18.56 5.44l.94 2.06.94-2.06 2.06-.94-2.06-.94-.94-2.06-.94 2.06-2.06.94zm-11 1L8.5 8.5l.94-2.06 2.06-.94-2.06-.94L8.5 2.5l-.94 2.06-2.06.94zm10 10l.94 2.06.94-2.06 2.06-.94-2.06-.94-.94-2.06-.94 2.06-2.06.94z\"/><path d=\"M17.41 7.96l-1.37-1.37c-.4-.4-.92-.59-1.43-.59-.52 0-1.04.2-1.43.59L10.3 9.45l-7.72 7.72c-.78.78-.78 2.05 0 2.83L4 21.41c.39.39.9.59 1.41.59.51 0 1.02-.2 1.41-.59l7.78-7.78 2.81-2.81c.8-.78.8-2.07 0-2.86zM5.41 20L4 18.59l7.72-7.72 1.47 1.35L5.41 20z\"/>\n",
              "  </svg>\n",
              "      </button>\n",
              "      \n",
              "  <style>\n",
              "    .colab-df-container {\n",
              "      display:flex;\n",
              "      flex-wrap:wrap;\n",
              "      gap: 12px;\n",
              "    }\n",
              "\n",
              "    .colab-df-convert {\n",
              "      background-color: #E8F0FE;\n",
              "      border: none;\n",
              "      border-radius: 50%;\n",
              "      cursor: pointer;\n",
              "      display: none;\n",
              "      fill: #1967D2;\n",
              "      height: 32px;\n",
              "      padding: 0 0 0 0;\n",
              "      width: 32px;\n",
              "    }\n",
              "\n",
              "    .colab-df-convert:hover {\n",
              "      background-color: #E2EBFA;\n",
              "      box-shadow: 0px 1px 2px rgba(60, 64, 67, 0.3), 0px 1px 3px 1px rgba(60, 64, 67, 0.15);\n",
              "      fill: #174EA6;\n",
              "    }\n",
              "\n",
              "    [theme=dark] .colab-df-convert {\n",
              "      background-color: #3B4455;\n",
              "      fill: #D2E3FC;\n",
              "    }\n",
              "\n",
              "    [theme=dark] .colab-df-convert:hover {\n",
              "      background-color: #434B5C;\n",
              "      box-shadow: 0px 1px 3px 1px rgba(0, 0, 0, 0.15);\n",
              "      filter: drop-shadow(0px 1px 2px rgba(0, 0, 0, 0.3));\n",
              "      fill: #FFFFFF;\n",
              "    }\n",
              "  </style>\n",
              "\n",
              "      <script>\n",
              "        const buttonEl =\n",
              "          document.querySelector('#df-845dddf2-4dea-4bc7-bf9f-5d59fce3db2f button.colab-df-convert');\n",
              "        buttonEl.style.display =\n",
              "          google.colab.kernel.accessAllowed ? 'block' : 'none';\n",
              "\n",
              "        async function convertToInteractive(key) {\n",
              "          const element = document.querySelector('#df-845dddf2-4dea-4bc7-bf9f-5d59fce3db2f');\n",
              "          const dataTable =\n",
              "            await google.colab.kernel.invokeFunction('convertToInteractive',\n",
              "                                                     [key], {});\n",
              "          if (!dataTable) return;\n",
              "\n",
              "          const docLinkHtml = 'Like what you see? Visit the ' +\n",
              "            '<a target=\"_blank\" href=https://colab.research.google.com/notebooks/data_table.ipynb>data table notebook</a>'\n",
              "            + ' to learn more about interactive tables.';\n",
              "          element.innerHTML = '';\n",
              "          dataTable['output_type'] = 'display_data';\n",
              "          await google.colab.output.renderOutput(dataTable, element);\n",
              "          const docLink = document.createElement('div');\n",
              "          docLink.innerHTML = docLinkHtml;\n",
              "          element.appendChild(docLink);\n",
              "        }\n",
              "      </script>\n",
              "    </div>\n",
              "  </div>\n",
              "  "
            ]
          },
          "metadata": {},
          "execution_count": 12
        }
      ]
    },
    {
      "cell_type": "markdown",
      "source": [
        "## Dropping the None values"
      ],
      "metadata": {
        "id": "4_-Sp3uz2qV9"
      }
    },
    {
      "cell_type": "code",
      "source": [
        "# replace none in df with nan\n",
        "df.replace(\"None\", float(\"NaN\"), inplace = True)"
      ],
      "metadata": {
        "id": "p6BcGzjq0lOp"
      },
      "execution_count": 13,
      "outputs": []
    },
    {
      "cell_type": "code",
      "source": [
        "df.isna().sum()"
      ],
      "metadata": {
        "colab": {
          "base_uri": "https://localhost:8080/"
        },
        "id": "eWm12Qai2bFO",
        "outputId": "5a46c758-d04a-497c-8606-4a17d2b5f5b4"
      },
      "execution_count": 14,
      "outputs": [
        {
          "output_type": "execute_result",
          "data": {
            "text/plain": [
              "Date_Time    6\n",
              "Title        6\n",
              "Full_News    0\n",
              "Links        0\n",
              "Category     0\n",
              "dtype: int64"
            ]
          },
          "metadata": {},
          "execution_count": 14
        }
      ]
    },
    {
      "cell_type": "code",
      "source": [
        "df.dropna(inplace = True)"
      ],
      "metadata": {
        "id": "spTNCo352fQC"
      },
      "execution_count": 15,
      "outputs": []
    },
    {
      "cell_type": "code",
      "source": [
        "df.isna().sum()"
      ],
      "metadata": {
        "colab": {
          "base_uri": "https://localhost:8080/"
        },
        "id": "3nWKJBkv2g-o",
        "outputId": "f28fac2f-9767-4186-eea5-011637839faf"
      },
      "execution_count": 16,
      "outputs": [
        {
          "output_type": "execute_result",
          "data": {
            "text/plain": [
              "Date_Time    0\n",
              "Title        0\n",
              "Full_News    0\n",
              "Links        0\n",
              "Category     0\n",
              "dtype: int64"
            ]
          },
          "metadata": {},
          "execution_count": 16
        }
      ]
    },
    {
      "cell_type": "code",
      "source": [
        "# save dataframe\n",
        "df.to_csv('Stocks_news.csv', index=False)"
      ],
      "metadata": {
        "id": "EXPMELqx2isj"
      },
      "execution_count": 17,
      "outputs": []
    },
    {
      "cell_type": "code",
      "source": [
        "df.head()"
      ],
      "metadata": {
        "colab": {
          "base_uri": "https://localhost:8080/",
          "height": 206
        },
        "id": "WT2Cph5S2kuE",
        "outputId": "1fad9535-b20a-4b6c-ad55-d07111663ca7"
      },
      "execution_count": 18,
      "outputs": [
        {
          "output_type": "execute_result",
          "data": {
            "text/plain": [
              "  Date_Time                                              Title  \\\n",
              "0  29 March  RBI to raise rates once more on April 6 but le...   \n",
              "1  28 March  Sensex, Nifty slip again after fresh sell-off ...   \n",
              "2  28 March  Reliance Capital's lenders to move ahead with ...   \n",
              "3  28 March  Artha India Ventures backs Kenya's BuuPass in ...   \n",
              "4  28 March   Belgium's Colruyt joins as LP for Indian VC fund   \n",
              "\n",
              "                                           Full_News  \\\n",
              "0  The Reserve Bank of India will raise its main ...   \n",
              "1  Shares settled lower on Tuesday as caution ove...   \n",
              "2  The lenders of Reliance Capital have decided t...   \n",
              "3  Artha India Ventures, the alternative investme...   \n",
              "4  Belgium-based family office Colruyt Group, whi...   \n",
              "\n",
              "                                               Links            Category  \n",
              "0  https://www.vccircle.com//rbito-raise-rates-on...  Merger/Acquisition  \n",
              "1  https://www.vccircle.com//sensexnifty-slip-aga...  Merger/Acquisition  \n",
              "2  https://www.vccircle.com//relcap-s-lenders-to-...  Merger/Acquisition  \n",
              "3  https://www.vccircle.com//arthaindia-ventures-...  Merger/Acquisition  \n",
              "4  https://www.vccircle.com//belgiums-colruyt-joi...  Merger/Acquisition  "
            ],
            "text/html": [
              "\n",
              "  <div id=\"df-918db44f-d07d-4bad-ab92-3367854364f8\">\n",
              "    <div class=\"colab-df-container\">\n",
              "      <div>\n",
              "<style scoped>\n",
              "    .dataframe tbody tr th:only-of-type {\n",
              "        vertical-align: middle;\n",
              "    }\n",
              "\n",
              "    .dataframe tbody tr th {\n",
              "        vertical-align: top;\n",
              "    }\n",
              "\n",
              "    .dataframe thead th {\n",
              "        text-align: right;\n",
              "    }\n",
              "</style>\n",
              "<table border=\"1\" class=\"dataframe\">\n",
              "  <thead>\n",
              "    <tr style=\"text-align: right;\">\n",
              "      <th></th>\n",
              "      <th>Date_Time</th>\n",
              "      <th>Title</th>\n",
              "      <th>Full_News</th>\n",
              "      <th>Links</th>\n",
              "      <th>Category</th>\n",
              "    </tr>\n",
              "  </thead>\n",
              "  <tbody>\n",
              "    <tr>\n",
              "      <th>0</th>\n",
              "      <td>29 March</td>\n",
              "      <td>RBI to raise rates once more on April 6 but le...</td>\n",
              "      <td>The Reserve Bank of India will raise its main ...</td>\n",
              "      <td>https://www.vccircle.com//rbito-raise-rates-on...</td>\n",
              "      <td>Merger/Acquisition</td>\n",
              "    </tr>\n",
              "    <tr>\n",
              "      <th>1</th>\n",
              "      <td>28 March</td>\n",
              "      <td>Sensex, Nifty slip again after fresh sell-off ...</td>\n",
              "      <td>Shares settled lower on Tuesday as caution ove...</td>\n",
              "      <td>https://www.vccircle.com//sensexnifty-slip-aga...</td>\n",
              "      <td>Merger/Acquisition</td>\n",
              "    </tr>\n",
              "    <tr>\n",
              "      <th>2</th>\n",
              "      <td>28 March</td>\n",
              "      <td>Reliance Capital's lenders to move ahead with ...</td>\n",
              "      <td>The lenders of Reliance Capital have decided t...</td>\n",
              "      <td>https://www.vccircle.com//relcap-s-lenders-to-...</td>\n",
              "      <td>Merger/Acquisition</td>\n",
              "    </tr>\n",
              "    <tr>\n",
              "      <th>3</th>\n",
              "      <td>28 March</td>\n",
              "      <td>Artha India Ventures backs Kenya's BuuPass in ...</td>\n",
              "      <td>Artha India Ventures, the alternative investme...</td>\n",
              "      <td>https://www.vccircle.com//arthaindia-ventures-...</td>\n",
              "      <td>Merger/Acquisition</td>\n",
              "    </tr>\n",
              "    <tr>\n",
              "      <th>4</th>\n",
              "      <td>28 March</td>\n",
              "      <td>Belgium's Colruyt joins as LP for Indian VC fund</td>\n",
              "      <td>Belgium-based family office Colruyt Group, whi...</td>\n",
              "      <td>https://www.vccircle.com//belgiums-colruyt-joi...</td>\n",
              "      <td>Merger/Acquisition</td>\n",
              "    </tr>\n",
              "  </tbody>\n",
              "</table>\n",
              "</div>\n",
              "      <button class=\"colab-df-convert\" onclick=\"convertToInteractive('df-918db44f-d07d-4bad-ab92-3367854364f8')\"\n",
              "              title=\"Convert this dataframe to an interactive table.\"\n",
              "              style=\"display:none;\">\n",
              "        \n",
              "  <svg xmlns=\"http://www.w3.org/2000/svg\" height=\"24px\"viewBox=\"0 0 24 24\"\n",
              "       width=\"24px\">\n",
              "    <path d=\"M0 0h24v24H0V0z\" fill=\"none\"/>\n",
              "    <path d=\"M18.56 5.44l.94 2.06.94-2.06 2.06-.94-2.06-.94-.94-2.06-.94 2.06-2.06.94zm-11 1L8.5 8.5l.94-2.06 2.06-.94-2.06-.94L8.5 2.5l-.94 2.06-2.06.94zm10 10l.94 2.06.94-2.06 2.06-.94-2.06-.94-.94-2.06-.94 2.06-2.06.94z\"/><path d=\"M17.41 7.96l-1.37-1.37c-.4-.4-.92-.59-1.43-.59-.52 0-1.04.2-1.43.59L10.3 9.45l-7.72 7.72c-.78.78-.78 2.05 0 2.83L4 21.41c.39.39.9.59 1.41.59.51 0 1.02-.2 1.41-.59l7.78-7.78 2.81-2.81c.8-.78.8-2.07 0-2.86zM5.41 20L4 18.59l7.72-7.72 1.47 1.35L5.41 20z\"/>\n",
              "  </svg>\n",
              "      </button>\n",
              "      \n",
              "  <style>\n",
              "    .colab-df-container {\n",
              "      display:flex;\n",
              "      flex-wrap:wrap;\n",
              "      gap: 12px;\n",
              "    }\n",
              "\n",
              "    .colab-df-convert {\n",
              "      background-color: #E8F0FE;\n",
              "      border: none;\n",
              "      border-radius: 50%;\n",
              "      cursor: pointer;\n",
              "      display: none;\n",
              "      fill: #1967D2;\n",
              "      height: 32px;\n",
              "      padding: 0 0 0 0;\n",
              "      width: 32px;\n",
              "    }\n",
              "\n",
              "    .colab-df-convert:hover {\n",
              "      background-color: #E2EBFA;\n",
              "      box-shadow: 0px 1px 2px rgba(60, 64, 67, 0.3), 0px 1px 3px 1px rgba(60, 64, 67, 0.15);\n",
              "      fill: #174EA6;\n",
              "    }\n",
              "\n",
              "    [theme=dark] .colab-df-convert {\n",
              "      background-color: #3B4455;\n",
              "      fill: #D2E3FC;\n",
              "    }\n",
              "\n",
              "    [theme=dark] .colab-df-convert:hover {\n",
              "      background-color: #434B5C;\n",
              "      box-shadow: 0px 1px 3px 1px rgba(0, 0, 0, 0.15);\n",
              "      filter: drop-shadow(0px 1px 2px rgba(0, 0, 0, 0.3));\n",
              "      fill: #FFFFFF;\n",
              "    }\n",
              "  </style>\n",
              "\n",
              "      <script>\n",
              "        const buttonEl =\n",
              "          document.querySelector('#df-918db44f-d07d-4bad-ab92-3367854364f8 button.colab-df-convert');\n",
              "        buttonEl.style.display =\n",
              "          google.colab.kernel.accessAllowed ? 'block' : 'none';\n",
              "\n",
              "        async function convertToInteractive(key) {\n",
              "          const element = document.querySelector('#df-918db44f-d07d-4bad-ab92-3367854364f8');\n",
              "          const dataTable =\n",
              "            await google.colab.kernel.invokeFunction('convertToInteractive',\n",
              "                                                     [key], {});\n",
              "          if (!dataTable) return;\n",
              "\n",
              "          const docLinkHtml = 'Like what you see? Visit the ' +\n",
              "            '<a target=\"_blank\" href=https://colab.research.google.com/notebooks/data_table.ipynb>data table notebook</a>'\n",
              "            + ' to learn more about interactive tables.';\n",
              "          element.innerHTML = '';\n",
              "          dataTable['output_type'] = 'display_data';\n",
              "          await google.colab.output.renderOutput(dataTable, element);\n",
              "          const docLink = document.createElement('div');\n",
              "          docLink.innerHTML = docLinkHtml;\n",
              "          element.appendChild(docLink);\n",
              "        }\n",
              "      </script>\n",
              "    </div>\n",
              "  </div>\n",
              "  "
            ]
          },
          "metadata": {},
          "execution_count": 18
        }
      ]
    },
    {
      "cell_type": "code",
      "source": [
        "df.info()"
      ],
      "metadata": {
        "colab": {
          "base_uri": "https://localhost:8080/"
        },
        "id": "Uv6vuRr62mVb",
        "outputId": "6f0884bd-4a53-409e-9da2-0e67e780166e"
      },
      "execution_count": 19,
      "outputs": [
        {
          "output_type": "stream",
          "name": "stdout",
          "text": [
            "<class 'pandas.core.frame.DataFrame'>\n",
            "Int64Index: 10 entries, 0 to 9\n",
            "Data columns (total 5 columns):\n",
            " #   Column     Non-Null Count  Dtype \n",
            "---  ------     --------------  ----- \n",
            " 0   Date_Time  10 non-null     object\n",
            " 1   Title      10 non-null     object\n",
            " 2   Full_News  10 non-null     object\n",
            " 3   Links      10 non-null     object\n",
            " 4   Category   10 non-null     object\n",
            "dtypes: object(5)\n",
            "memory usage: 480.0+ bytes\n"
          ]
        }
      ]
    },
    {
      "cell_type": "code",
      "source": [],
      "metadata": {
        "id": "RDaX_f9y2nHj"
      },
      "execution_count": null,
      "outputs": []
    }
  ]
}