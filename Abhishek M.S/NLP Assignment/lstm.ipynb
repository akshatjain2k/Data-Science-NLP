{
  "cells": [
    {
      "cell_type": "code",
      "execution_count": 1,
      "metadata": {
        "colab": {
          "base_uri": "https://localhost:8080/"
        },
        "id": "SG2vxWEPxoZl",
        "outputId": "969c4cfc-dfb6-41e1-c918-42c0bffda8ce"
      },
      "outputs": [
        {
          "name": "stdout",
          "output_type": "stream",
          "text": [
            "Mounted at /content/drive\n"
          ]
        }
      ],
      "source": [
        "from google.colab import drive\n",
        "drive.mount('/content/drive')"
      ]
    },
    {
      "cell_type": "code",
      "execution_count": null,
      "metadata": {
        "id": "3Moux0Czxfeb"
      },
      "outputs": [],
      "source": []
    },
    {
      "cell_type": "code",
      "execution_count": 47,
      "metadata": {
        "colab": {
          "base_uri": "https://localhost:8080/"
        },
        "id": "ESBzazCsxX9R",
        "outputId": "d4a1e076-7c34-41da-b72c-020c675a6ec3"
      },
      "outputs": [
        {
          "name": "stderr",
          "output_type": "stream",
          "text": [
            "[nltk_data] Downloading package stopwords to /root/nltk_data...\n",
            "[nltk_data]   Package stopwords is already up-to-date!\n",
            "[nltk_data] Downloading package wordnet to /root/nltk_data...\n",
            "[nltk_data]   Package wordnet is already up-to-date!\n"
          ]
        }
      ],
      "source": [
        "# import libraries\n",
        "\n",
        "import torch.optim as optim\n",
        "import pandas as pd\n",
        "import numpy as np\n",
        "import matplotlib.pyplot as plt\n",
        "\n",
        "%matplotlib inline\n",
        "\n",
        "import re\n",
        "import nltk\n",
        "nltk.download('stopwords')\n",
        "nltk.download('wordnet')\n",
        "\n",
        "from nltk.corpus import stopwords\n",
        "from nltk.stem import WordNetLemmatizer\n",
        "from nltk.tokenize import word_tokenize\n",
        "from keras.preprocessing.text import Tokenizer\n",
        "from tensorflow.keras.preprocessing.sequence import pad_sequences\n",
        "\n",
        "from sklearn.model_selection import train_test_split\n",
        "from sklearn.metrics import classification_report, accuracy_score\n",
        "\n",
        "\n",
        "import torch\n",
        "from torch.utils.data import TensorDataset, DataLoader\n",
        "import torch.nn as nn\n",
        "import torch.nn.functional as F\n",
        "\n",
        "from tqdm import tqdm\n",
        "\n",
        "import warnings\n",
        "warnings.filterwarnings('ignore')"
      ]
    },
    {
      "cell_type": "code",
      "execution_count": 48,
      "metadata": {
        "colab": {
          "base_uri": "https://localhost:8080/",
          "height": 206
        },
        "id": "4Qg6LzgrxX9U",
        "outputId": "5c67a020-eabd-4c6d-8354-506868ae3c37"
      },
      "outputs": [
        {
          "data": {
            "text/html": [
              "\n",
              "  <div id=\"df-4546f0ff-f164-4a67-9213-e31686447f26\">\n",
              "    <div class=\"colab-df-container\">\n",
              "      <div>\n",
              "<style scoped>\n",
              "    .dataframe tbody tr th:only-of-type {\n",
              "        vertical-align: middle;\n",
              "    }\n",
              "\n",
              "    .dataframe tbody tr th {\n",
              "        vertical-align: top;\n",
              "    }\n",
              "\n",
              "    .dataframe thead th {\n",
              "        text-align: right;\n",
              "    }\n",
              "</style>\n",
              "<table border=\"1\" class=\"dataframe\">\n",
              "  <thead>\n",
              "    <tr style=\"text-align: right;\">\n",
              "      <th></th>\n",
              "      <th>text</th>\n",
              "      <th>category</th>\n",
              "    </tr>\n",
              "  </thead>\n",
              "  <tbody>\n",
              "    <tr>\n",
              "      <th>0</th>\n",
              "      <td>long covid community open growing community pe...</td>\n",
              "      <td>1</td>\n",
              "    </tr>\n",
              "    <tr>\n",
              "      <th>1</th>\n",
              "      <td>government test prep platform adda october sai...</td>\n",
              "      <td>5</td>\n",
              "    </tr>\n",
              "    <tr>\n",
              "      <th>2</th>\n",
              "      <td>private equity venture capital investment diwa...</td>\n",
              "      <td>2</td>\n",
              "    </tr>\n",
              "    <tr>\n",
              "      <th>3</th>\n",
              "      <td>digital book keeping startup khatabook said au...</td>\n",
              "      <td>5</td>\n",
              "    </tr>\n",
              "    <tr>\n",
              "      <th>4</th>\n",
              "      <td>event always important exciting organize kind ...</td>\n",
              "      <td>6</td>\n",
              "    </tr>\n",
              "  </tbody>\n",
              "</table>\n",
              "</div>\n",
              "      <button class=\"colab-df-convert\" onclick=\"convertToInteractive('df-4546f0ff-f164-4a67-9213-e31686447f26')\"\n",
              "              title=\"Convert this dataframe to an interactive table.\"\n",
              "              style=\"display:none;\">\n",
              "        \n",
              "  <svg xmlns=\"http://www.w3.org/2000/svg\" height=\"24px\"viewBox=\"0 0 24 24\"\n",
              "       width=\"24px\">\n",
              "    <path d=\"M0 0h24v24H0V0z\" fill=\"none\"/>\n",
              "    <path d=\"M18.56 5.44l.94 2.06.94-2.06 2.06-.94-2.06-.94-.94-2.06-.94 2.06-2.06.94zm-11 1L8.5 8.5l.94-2.06 2.06-.94-2.06-.94L8.5 2.5l-.94 2.06-2.06.94zm10 10l.94 2.06.94-2.06 2.06-.94-2.06-.94-.94-2.06-.94 2.06-2.06.94z\"/><path d=\"M17.41 7.96l-1.37-1.37c-.4-.4-.92-.59-1.43-.59-.52 0-1.04.2-1.43.59L10.3 9.45l-7.72 7.72c-.78.78-.78 2.05 0 2.83L4 21.41c.39.39.9.59 1.41.59.51 0 1.02-.2 1.41-.59l7.78-7.78 2.81-2.81c.8-.78.8-2.07 0-2.86zM5.41 20L4 18.59l7.72-7.72 1.47 1.35L5.41 20z\"/>\n",
              "  </svg>\n",
              "      </button>\n",
              "      \n",
              "  <style>\n",
              "    .colab-df-container {\n",
              "      display:flex;\n",
              "      flex-wrap:wrap;\n",
              "      gap: 12px;\n",
              "    }\n",
              "\n",
              "    .colab-df-convert {\n",
              "      background-color: #E8F0FE;\n",
              "      border: none;\n",
              "      border-radius: 50%;\n",
              "      cursor: pointer;\n",
              "      display: none;\n",
              "      fill: #1967D2;\n",
              "      height: 32px;\n",
              "      padding: 0 0 0 0;\n",
              "      width: 32px;\n",
              "    }\n",
              "\n",
              "    .colab-df-convert:hover {\n",
              "      background-color: #E2EBFA;\n",
              "      box-shadow: 0px 1px 2px rgba(60, 64, 67, 0.3), 0px 1px 3px 1px rgba(60, 64, 67, 0.15);\n",
              "      fill: #174EA6;\n",
              "    }\n",
              "\n",
              "    [theme=dark] .colab-df-convert {\n",
              "      background-color: #3B4455;\n",
              "      fill: #D2E3FC;\n",
              "    }\n",
              "\n",
              "    [theme=dark] .colab-df-convert:hover {\n",
              "      background-color: #434B5C;\n",
              "      box-shadow: 0px 1px 3px 1px rgba(0, 0, 0, 0.15);\n",
              "      filter: drop-shadow(0px 1px 2px rgba(0, 0, 0, 0.3));\n",
              "      fill: #FFFFFF;\n",
              "    }\n",
              "  </style>\n",
              "\n",
              "      <script>\n",
              "        const buttonEl =\n",
              "          document.querySelector('#df-4546f0ff-f164-4a67-9213-e31686447f26 button.colab-df-convert');\n",
              "        buttonEl.style.display =\n",
              "          google.colab.kernel.accessAllowed ? 'block' : 'none';\n",
              "\n",
              "        async function convertToInteractive(key) {\n",
              "          const element = document.querySelector('#df-4546f0ff-f164-4a67-9213-e31686447f26');\n",
              "          const dataTable =\n",
              "            await google.colab.kernel.invokeFunction('convertToInteractive',\n",
              "                                                     [key], {});\n",
              "          if (!dataTable) return;\n",
              "\n",
              "          const docLinkHtml = 'Like what you see? Visit the ' +\n",
              "            '<a target=\"_blank\" href=https://colab.research.google.com/notebooks/data_table.ipynb>data table notebook</a>'\n",
              "            + ' to learn more about interactive tables.';\n",
              "          element.innerHTML = '';\n",
              "          dataTable['output_type'] = 'display_data';\n",
              "          await google.colab.output.renderOutput(dataTable, element);\n",
              "          const docLink = document.createElement('div');\n",
              "          docLink.innerHTML = docLinkHtml;\n",
              "          element.appendChild(docLink);\n",
              "        }\n",
              "      </script>\n",
              "    </div>\n",
              "  </div>\n",
              "  "
            ],
            "text/plain": [
              "                                                text  category\n",
              "0  long covid community open growing community pe...         1\n",
              "1  government test prep platform adda october sai...         5\n",
              "2  private equity venture capital investment diwa...         2\n",
              "3  digital book keeping startup khatabook said au...         5\n",
              "4  event always important exciting organize kind ...         6"
            ]
          },
          "execution_count": 48,
          "metadata": {},
          "output_type": "execute_result"
        }
      ],
      "source": [
        "# Read the Final Dataset\n",
        "df = pd.read_csv(r'/content/drive/MyDrive/Colab_Work/Pytorch/NLP Assignment/final_preprocessed_data.csv')\n",
        "df.head()"
      ]
    },
    {
      "cell_type": "code",
      "execution_count": 49,
      "metadata": {
        "colab": {
          "base_uri": "https://localhost:8080/"
        },
        "id": "HJ7mWp25xX9U",
        "outputId": "2d0ca7a8-2091-431a-8f6c-563e8e506f91"
      },
      "outputs": [
        {
          "name": "stdout",
          "output_type": "stream",
          "text": [
            "<class 'pandas.core.frame.DataFrame'>\n",
            "RangeIndex: 4069 entries, 0 to 4068\n",
            "Data columns (total 2 columns):\n",
            " #   Column    Non-Null Count  Dtype \n",
            "---  ------    --------------  ----- \n",
            " 0   text      4069 non-null   object\n",
            " 1   category  4069 non-null   int64 \n",
            "dtypes: int64(1), object(1)\n",
            "memory usage: 63.7+ KB\n"
          ]
        }
      ],
      "source": [
        "df.info()"
      ]
    },
    {
      "cell_type": "code",
      "execution_count": 50,
      "metadata": {
        "colab": {
          "base_uri": "https://localhost:8080/"
        },
        "id": "RlPE7RZZxX9V",
        "outputId": "e34cfebc-6631-49eb-d6c9-b116425380c2"
      },
      "outputs": [
        {
          "data": {
            "text/plain": [
              "1    600\n",
              "5    600\n",
              "2    600\n",
              "4    600\n",
              "3    600\n",
              "0    600\n",
              "6    469\n",
              "Name: category, dtype: int64"
            ]
          },
          "execution_count": 50,
          "metadata": {},
          "output_type": "execute_result"
        }
      ],
      "source": [
        "df.category.value_counts()"
      ]
    },
    {
      "cell_type": "code",
      "execution_count": 51,
      "metadata": {
        "colab": {
          "base_uri": "https://localhost:8080/"
        },
        "id": "yLnDHuYrxX9V",
        "outputId": "b174a08d-2c91-4a9a-be51-3acb2422eeb5"
      },
      "outputs": [
        {
          "data": {
            "text/plain": [
              "Index(['text', 'category'], dtype='object')"
            ]
          },
          "execution_count": 51,
          "metadata": {},
          "output_type": "execute_result"
        }
      ],
      "source": [
        "df.columns"
      ]
    },
    {
      "cell_type": "code",
      "execution_count": 52,
      "metadata": {
        "id": "VBCId8koxX9W"
      },
      "outputs": [],
      "source": [
        "# define the lstm model\n",
        "class LSTM(nn.Module):\n",
        "    def __init__(self, vocab_size, embedding_dim, hidden_dim, output_dim, n_layers, bidirectional, dropout):\n",
        "        super().__init__()\n",
        "\n",
        "        self.embedding = nn.Embedding(vocab_size, embedding_dim) # embedding layer\n",
        "        self.lstm = nn.LSTM(embedding_dim, hidden_dim, num_layers=n_layers,\n",
        "                            bidirectional=bidirectional, dropout=dropout, batch_first=True) # lstm layer\n",
        "        self.fc = nn.Linear(hidden_dim * 2, output_dim) # fully connected layer\n",
        "        self.dropout = nn.Dropout(dropout) # dropout layer\n",
        "\n",
        "    def forward(self, text):\n",
        "        embedded = self.embedding(text) # embedded = [batch size, sent len, emb dim]\n",
        "        output, (hidden, cell) = self.lstm(embedded) # output = [batch size, sent len, hid dim * num directions]\n",
        "        hidden = self.dropout(\n",
        "            torch.cat((hidden[-2, :, :], hidden[-1, :, :]), dim=1)) # hidden = [batch size, hid dim * num directions]\n",
        "        return self.fc(hidden.squeeze(0))\n"
      ]
    },
    {
      "cell_type": "code",
      "execution_count": 1,
      "metadata": {},
      "outputs": [],
      "source": [
        "from tensorflow.keras.utils import pad_sequences\n"
      ]
    },
    {
      "cell_type": "code",
      "execution_count": 53,
      "metadata": {
        "colab": {
          "base_uri": "https://localhost:8080/"
        },
        "id": "Lp3KRGMhxX9W",
        "outputId": "39186fe4-f625-4157-feb5-b75aeded3913"
      },
      "outputs": [
        {
          "name": "stdout",
          "output_type": "stream",
          "text": [
            "2000\n",
            "(4069, 2000)\n"
          ]
        }
      ],
      "source": [
        "# perform padding for lstm model\n",
        "\n",
        "# from tensorflow.keras.preprocessing.sequence import pad_sequences\n",
        "from tensorflow.keras.utils import pad_sequences\n",
        "\n",
        "# max length of text\n",
        "max_length = max([len(i) for i in df.text])\n",
        "print(max_length)\n",
        "\n",
        "# tokenize the text\n",
        "tokenizer = Tokenizer() # create a tokenizer\n",
        "tokenizer.fit_on_texts(df.text) # fit the tokenizer on the documents\n",
        "sequences = tokenizer.texts_to_sequences(df.text) # convert text to a sequence of tokens\n",
        "padded = pad_sequences(sequences, maxlen=max_length,\n",
        "                       padding='post', truncating='post') # pad the sequences\n",
        "print(padded.shape)\n"
      ]
    },
    {
      "cell_type": "code",
      "execution_count": 54,
      "metadata": {
        "colab": {
          "base_uri": "https://localhost:8080/"
        },
        "id": "lYr_9XhyxX9W",
        "outputId": "6a63a6a6-f943-427c-9776-a260b91ef0e6"
      },
      "outputs": [
        {
          "name": "stdout",
          "output_type": "stream",
          "text": [
            "(3255, 2000)\n",
            "(814, 2000)\n",
            "(3255,)\n",
            "(814,)\n"
          ]
        }
      ],
      "source": [
        "# split the data into train and test\n",
        "\n",
        "X_train, X_test, y_train, y_test = train_test_split(\n",
        "    padded, df.category, test_size=0.2, random_state=42)\n",
        "\n",
        "print(X_train.shape)\n",
        "print(X_test.shape)\n",
        "print(y_train.shape)\n",
        "print(y_test.shape)\n"
      ]
    },
    {
      "cell_type": "code",
      "execution_count": 55,
      "metadata": {
        "id": "YelWDoHTxX9X"
      },
      "outputs": [],
      "source": [
        "train_data = TensorDataset(torch.from_numpy(\n",
        "    X_train), torch.from_numpy(y_train.values)) # create Tensor datasets\n",
        "test_data = TensorDataset(torch.from_numpy(\n",
        "    X_test), torch.from_numpy(y_test.values)) # create Tensor datasets\n",
        "\n",
        "batch_size = 64\n",
        "\n",
        "trainloader = DataLoader(train_data, shuffle=True, batch_size=batch_size) \n",
        "testloader = DataLoader(test_data, shuffle=True, batch_size=batch_size)\n"
      ]
    },
    {
      "cell_type": "code",
      "execution_count": 56,
      "metadata": {
        "colab": {
          "base_uri": "https://localhost:8080/"
        },
        "id": "5RyHI5yixX9X",
        "outputId": "87c62be8-6cc5-4f8c-d9f1-f643732d2f27"
      },
      "outputs": [
        {
          "name": "stdout",
          "output_type": "stream",
          "text": [
            "LSTM(\n",
            "  (embedding): Embedding(27071, 100)\n",
            "  (lstm): LSTM(100, 256, num_layers=2, batch_first=True, dropout=0.5, bidirectional=True)\n",
            "  (fc): Linear(in_features=512, out_features=7, bias=True)\n",
            "  (dropout): Dropout(p=0.5, inplace=False)\n",
            ")\n"
          ]
        }
      ],
      "source": [
        "# define the hyperparameters\n",
        "vocab_size = len(tokenizer.word_index) + 1\n",
        "embedding_dim = 100 \n",
        "hidden_dim = 256\n",
        "output_dim = 7\n",
        "n_layers = 2\n",
        "bidirectional = True\n",
        "dropout = 0.5\n",
        "\n",
        "# define the model\n",
        "model = LSTM(vocab_size, embedding_dim, hidden_dim, output_dim, n_layers, bidirectional, dropout)\n",
        "print(model)"
      ]
    },
    {
      "cell_type": "code",
      "execution_count": 57,
      "metadata": {
        "id": "pqyi-hOzxX9Y"
      },
      "outputs": [],
      "source": [
        "def train(model, device, trainloader, optimizer, criterion):\n",
        "\n",
        "    #  function to train the model (forward, backward, update)\n",
        "\n",
        "    model.train() # sets the mode of the PyTorch neural network model to training mode.\n",
        "    train_loss = 0\n",
        "\n",
        "    for inputs, labels in trainloader: #* Iterate through the train_loader to get the images and labels\n",
        "        inputs = inputs.to(device) \n",
        "        labels = labels.to(device) #* Move labels to the device (GPU or CPU)\n",
        "\n",
        "        optimizer.zero_grad() #* Clear gradients w.r.t. parameters\n",
        "\n",
        "        outputs = model(inputs) #* Forward pass \n",
        "\n",
        "        loss = criterion(outputs, labels) #* Calculate Loss\n",
        "        loss.backward() #* Getting gradients w.r.t. parameters (Backpropagation) #  computes the gradients of the loss function with respect to the model parameters\n",
        "\n",
        "        optimizer.step() #* Updating parameters\n",
        "        train_loss += loss.item() * inputs.size(0) #* Update training loss\n",
        "\n",
        "    return train_loss / len(trainloader) #* Return average training loss\n",
        "\n",
        "def test(model, device, testloader, criterion): \n",
        "\n",
        "    # function to test the model\n",
        "    model.eval()\n",
        "    test_loss = 0\n",
        "    correct = 0\n",
        "\n",
        "    with torch.no_grad(): \n",
        "        for inputs, labels in testloader:\n",
        "\n",
        "            inputs = inputs.to(device)\n",
        "            labels = labels.to(device)\n",
        "\n",
        "            outputs = model(inputs) #! Forward pass\n",
        "            loss = criterion(outputs, labels)\n",
        "            test_loss += loss.item() * inputs.size(0)\n",
        "\n",
        "            _, preds = torch.max(outputs, 1)\n",
        "            correct += (preds == labels).sum().item() #! Total correct predictions\n",
        "\n",
        "    return test_loss / len(testloader), correct / len(testloader.dataset) #! Return average test loss and accuracy\n"
      ]
    },
    {
      "cell_type": "code",
      "execution_count": 58,
      "metadata": {
        "colab": {
          "base_uri": "https://localhost:8080/"
        },
        "id": "Y5tza7VM8Bvt",
        "outputId": "0c72a265-6d90-4c1f-c62e-fca61e668a46"
      },
      "outputs": [
        {
          "data": {
            "text/plain": [
              "LSTM(\n",
              "  (embedding): Embedding(27071, 100)\n",
              "  (lstm): LSTM(100, 256, num_layers=2, batch_first=True, dropout=0.5, bidirectional=True)\n",
              "  (fc): Linear(in_features=512, out_features=7, bias=True)\n",
              "  (dropout): Dropout(p=0.5, inplace=False)\n",
              ")"
            ]
          },
          "execution_count": 58,
          "metadata": {},
          "output_type": "execute_result"
        }
      ],
      "source": [
        "# hyperparameters\n",
        "num_epochs = 10\n",
        "learning_rate = 0.001\n",
        "criterion = nn.CrossEntropyLoss() #* Loss function\n",
        "optimizer = optim.Adam(model.parameters(), lr=learning_rate) #* Optimizer\n",
        "device = torch.device('cuda' if torch.cuda.is_available() else 'cpu')\n",
        "model.to(device)"
      ]
    },
    {
      "cell_type": "code",
      "execution_count": 60,
      "metadata": {
        "colab": {
          "base_uri": "https://localhost:8080/"
        },
        "id": "QzyFAshhxX9Y",
        "outputId": "00ca9f79-40b8-4646-c337-7239c217140c"
      },
      "outputs": [
        {
          "name": "stderr",
          "output_type": "stream",
          "text": [
            " 10%|█         | 1/10 [00:38<05:49, 38.84s/it]"
          ]
        },
        {
          "name": "stdout",
          "output_type": "stream",
          "text": [
            "Epoch [1/10], Train Loss: 103.0135, Test Loss: 77.8412, Test Accuracy: 0.4963\n"
          ]
        },
        {
          "name": "stderr",
          "output_type": "stream",
          "text": [
            "\r 20%|██        | 2/10 [01:18<05:13, 39.24s/it]"
          ]
        },
        {
          "name": "stdout",
          "output_type": "stream",
          "text": [
            "Epoch [2/10], Train Loss: 66.8395, Test Loss: 58.5985, Test Accuracy: 0.6708\n"
          ]
        },
        {
          "name": "stderr",
          "output_type": "stream",
          "text": [
            "\r 30%|███       | 3/10 [01:59<04:39, 39.97s/it]"
          ]
        },
        {
          "name": "stdout",
          "output_type": "stream",
          "text": [
            "Epoch [3/10], Train Loss: 50.1622, Test Loss: 50.4078, Test Accuracy: 0.7174\n"
          ]
        },
        {
          "name": "stderr",
          "output_type": "stream",
          "text": [
            "\r 40%|████      | 4/10 [02:39<04:00, 40.14s/it]"
          ]
        },
        {
          "name": "stdout",
          "output_type": "stream",
          "text": [
            "Epoch [4/10], Train Loss: 38.7014, Test Loss: 48.2428, Test Accuracy: 0.7543\n"
          ]
        },
        {
          "name": "stderr",
          "output_type": "stream",
          "text": [
            "\r 50%|█████     | 5/10 [03:20<03:21, 40.24s/it]"
          ]
        },
        {
          "name": "stdout",
          "output_type": "stream",
          "text": [
            "Epoch [5/10], Train Loss: 31.8876, Test Loss: 48.3857, Test Accuracy: 0.7432\n"
          ]
        },
        {
          "name": "stderr",
          "output_type": "stream",
          "text": [
            "\r 60%|██████    | 6/10 [04:02<02:44, 41.04s/it]"
          ]
        },
        {
          "name": "stdout",
          "output_type": "stream",
          "text": [
            "Epoch [6/10], Train Loss: 23.0650, Test Loss: 49.3534, Test Accuracy: 0.7445\n"
          ]
        },
        {
          "name": "stderr",
          "output_type": "stream",
          "text": [
            "\r 70%|███████   | 7/10 [04:45<02:04, 41.48s/it]"
          ]
        },
        {
          "name": "stdout",
          "output_type": "stream",
          "text": [
            "Epoch [7/10], Train Loss: 17.4611, Test Loss: 48.4100, Test Accuracy: 0.7641\n"
          ]
        },
        {
          "name": "stderr",
          "output_type": "stream",
          "text": [
            "\r 80%|████████  | 8/10 [05:27<01:23, 41.95s/it]"
          ]
        },
        {
          "name": "stdout",
          "output_type": "stream",
          "text": [
            "Epoch [8/10], Train Loss: 12.2839, Test Loss: 50.4923, Test Accuracy: 0.7776\n"
          ]
        },
        {
          "name": "stderr",
          "output_type": "stream",
          "text": [
            "\r 90%|█████████ | 9/10 [06:09<00:41, 41.85s/it]"
          ]
        },
        {
          "name": "stdout",
          "output_type": "stream",
          "text": [
            "Epoch [9/10], Train Loss: 10.8214, Test Loss: 48.5352, Test Accuracy: 0.7862\n"
          ]
        },
        {
          "name": "stderr",
          "output_type": "stream",
          "text": [
            "100%|██████████| 10/10 [06:51<00:00, 41.11s/it]"
          ]
        },
        {
          "name": "stdout",
          "output_type": "stream",
          "text": [
            "Epoch [10/10], Train Loss: 7.2314, Test Loss: 52.5575, Test Accuracy: 0.7641\n"
          ]
        },
        {
          "name": "stderr",
          "output_type": "stream",
          "text": [
            "\n"
          ]
        }
      ],
      "source": [
        "train_losses = []\n",
        "test_losses = []\n",
        "test_accs = []\n",
        "\n",
        "for epoch in tqdm(range(num_epochs)): \n",
        "\n",
        "    train_loss = train(model, device, trainloader, optimizer, criterion)\n",
        "    test_loss, test_acc = test(model, device, testloader, criterion)\n",
        "\n",
        "    train_losses.append(train_loss)\n",
        "    test_losses.append(test_loss)\n",
        "    test_accs.append(test_acc)\n",
        "\n",
        "    print(f'Epoch [{epoch + 1}/{num_epochs}], Train Loss: {train_loss:.4f}, Test Loss: {test_loss:.4f}, Test Accuracy: {test_acc:.4f}')"
      ]
    },
    {
      "cell_type": "code",
      "execution_count": 61,
      "metadata": {
        "id": "rQaakq4mxX9Y"
      },
      "outputs": [],
      "source": [
        "# test the model\n",
        "test_loss, test_accuracy = test(model, device, testloader, criterion)\n"
      ]
    },
    {
      "cell_type": "code",
      "execution_count": 62,
      "metadata": {
        "colab": {
          "base_uri": "https://localhost:8080/",
          "height": 482
        },
        "id": "KuqmX0_QxX9Z",
        "outputId": "ed858cff-40e8-4a53-cb39-915fdc46df74"
      },
      "outputs": [
        {
          "data": {
            "image/png": "[encoded data removed]",
            "text/plain": [
              "<Figure size 1500x500 with 2 Axes>"
            ]
          },
          "metadata": {},
          "output_type": "display_data"
        }
      ],
      "source": [
        "def visualize_results(train_losses, test_losses, test_accs): #^ function to visualize the results\n",
        "\n",
        "    fig, axs = plt.subplots(1, 2, figsize=(15, 5)) #^ Create a figure and a set of subplots\n",
        "\n",
        "    axs[0].plot(train_losses, label='Train') #^ Plot the train losses in the first subplot\n",
        "    axs[0].plot(test_losses, label='Test') #^ Plot the test losses in the first subplot\n",
        "    axs[0].set_title('Loss over epochs')\n",
        "\n",
        "    axs[0].set_xlabel('Epoch')\n",
        "    axs[0].set_ylabel('Loss')\n",
        "    axs[0].legend()\n",
        "\n",
        "    axs[0].grid(True)\n",
        "    \n",
        "    axs[1].plot(test_accs, label='Test') #^ Plot the test accuracies in the second subplot\n",
        "    axs[1].set_title('Accuracy over epochs')\n",
        "    axs[1].set_xlabel('Epoch')\n",
        "\n",
        "    axs[1].set_ylabel('Accuracy')\n",
        "\n",
        "    axs[1].legend()\n",
        "    axs[1].grid(True)\n",
        "    \n",
        "    plt.tight_layout() \n",
        "    plt.show()\n",
        "\n",
        "visualize_results(train_losses, test_losses, test_accs) #! Visualize the results"
      ]
    },
    {
      "cell_type": "code",
      "execution_count": 63,
      "metadata": {
        "colab": {
          "base_uri": "https://localhost:8080/"
        },
        "id": "QWnKLjLixX9Z",
        "outputId": "1b54a4f4-a676-4e80-aa94-27dc55cbb1db"
      },
      "outputs": [
        {
          "data": {
            "text/plain": [
              "<All keys matched successfully>"
            ]
          },
          "execution_count": 63,
          "metadata": {},
          "output_type": "execute_result"
        }
      ],
      "source": [
        "# save the model\n",
        "torch.save(model.state_dict(), '/content/drive/MyDrive/Colab_Work/Pytorch/NLP Assignment/modelLSTM.pt')\n",
        "\n",
        "# load the model\n",
        "model.load_state_dict(torch.load('/content/drive/MyDrive/Colab_Work/Pytorch/NLP Assignment/modelLSTM.pt'))\n"
      ]
    },
    {
      "cell_type": "code",
      "execution_count": 64,
      "metadata": {
        "colab": {
          "base_uri": "https://localhost:8080/"
        },
        "id": "yjh4f8KSyIjG",
        "outputId": "bddfd464-aa2e-4071-f9fe-c4679760a094"
      },
      "outputs": [
        {
          "name": "stdout",
          "output_type": "stream",
          "text": [
            "              precision    recall  f1-score   support\n",
            "\n",
            "           0       0.17      0.16      0.16       129\n",
            "           1       0.13      0.13      0.13       106\n",
            "           2       0.21      0.19      0.20       134\n",
            "           3       0.11      0.11      0.11       111\n",
            "           4       0.20      0.19      0.19       108\n",
            "           5       0.16      0.20      0.17       127\n",
            "           6       0.19      0.17      0.18        99\n",
            "\n",
            "    accuracy                           0.16       814\n",
            "   macro avg       0.17      0.16      0.16       814\n",
            "weighted avg       0.17      0.16      0.17       814\n",
            "\n"
          ]
        }
      ],
      "source": [
        "# predict the test data\n",
        "y_pred = []\n",
        "\n",
        "with torch.no_grad():\n",
        "    for inputs, labels in testloader:\n",
        "        inputs, labels = inputs.to(device), labels.to(device)\n",
        "        outputs = model(inputs)\n",
        "        _, predicted = torch.max(outputs, 1)\n",
        "        y_pred.extend(predicted.tolist())\n",
        "\n",
        "# classification report\n",
        "from sklearn.metrics import classification_report\n",
        "print(classification_report(y_test, y_pred))"
      ]
    },
    {
      "attachments": {},
      "cell_type": "markdown",
      "metadata": {},
      "source": [
        "we can see that the overall accuracy of the model is 0.16, which is very low. The precision, recall, and F1-score for each category are also low, indicating that the model is not performing well in any of the categories. The macro and weighted average of the precision, recall, and F1-score are also low, indicating that the model is not performing well overall. \n",
        "\n",
        "Therefore, we need to improve the model by tweaking hyperparameters, increasing the size of the dataset, or using a different approach to classification."
      ]
    }
  ],
  "metadata": {
    "accelerator": "GPU",
    "colab": {
      "provenance": []
    },
    "gpuClass": "standard",
    "kernelspec": {
      "display_name": "pytorch",
      "language": "python",
      "name": "python3"
    },
    "language_info": {
      "codemirror_mode": {
        "name": "ipython",
        "version": 3
      },
      "file_extension": ".py",
      "mimetype": "text/x-python",
      "name": "python",
      "nbconvert_exporter": "python",
      "pygments_lexer": "ipython3",
      "version": "3.9.16"
    },
    "orig_nbformat": 4
  },
  "nbformat": 4,
  "nbformat_minor": 0
}
