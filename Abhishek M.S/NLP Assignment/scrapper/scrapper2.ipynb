{
 "cells": [
  {
   "cell_type": "code",
   "execution_count": 129,
   "metadata": {},
   "outputs": [],
   "source": [
    "from bs4 import BeautifulSoup\n",
    "import requests\n",
    "import pandas as pd"
   ]
  },
  {
   "cell_type": "code",
   "execution_count": 156,
   "metadata": {
    "id": "kS7_izxPMUPm"
   },
   "outputs": [],
   "source": [
    "def scrapper():\n",
    "    date_ = []\n",
    "    title_ = []\n",
    "    link_ = []\n",
    "    body_news_ = []\n",
    "\n",
    "    for i in range(1,7):\n",
    "            print(f\"{i} Page in progess\")\n",
    "            try:\n",
    "                response = requests.get(f\"https://www.moneycontrol.com/news/tags/survey.html/page-{i}/\")\n",
    "            except:\n",
    "                print(\"link not working\")\n",
    "            soup = BeautifulSoup(response.text)\n",
    "            news = soup.find_all(\"li\", class_ = \"clearfix\")\n",
    "            for new in news:\n",
    "                title = new.find(\"h2\")\n",
    "                try:\n",
    "                  link = title.find('a')['href']\n",
    "                except:\n",
    "                  pass\n",
    "                date = new.find(\"span\")\n",
    "                \n",
    "                \n",
    "                ### for title \n",
    "                try:             \n",
    "                    title_text = title.text\n",
    "                    title_.append(title_text)\n",
    "                except:\n",
    "                    title_.append(\"None\")\n",
    "                    \n",
    "                    \n",
    "                    \n",
    "                ### for links    \n",
    "                try:             \n",
    "                    \n",
    "                    l = link\n",
    "                    link_.append(l)\n",
    "                    #print(l)\n",
    "                    \n",
    "                    \n",
    "                except:\n",
    "                    link_.append(\"None\")\n",
    "                    \n",
    "                    \n",
    "                ### for date\n",
    "                try:             \n",
    "                    \n",
    "                    d = date.text\n",
    "                    date = d[0:-19]\n",
    "                    month,day = date.split(' ')\n",
    "                    date = day+(' ')+month\n",
    "                    date_.append(date)\n",
    "                    #print(d)\n",
    "                    \n",
    "                except:\n",
    "                    date_.append(\"None\")\n",
    "                    \n",
    "                    \n",
    "                ### code for the next page deatiled news\n",
    "                try:    \n",
    "                    resp = requests.get(l)\n",
    "                    n_url = resp.text\n",
    "                except:\n",
    "                    print(\"Link not working for next page\")\n",
    "                    \n",
    "                soup2 = BeautifulSoup(n_url)\n",
    "                body = soup2.find_all(\"div\", class_ = \"content_wrapper arti-flow\")\n",
    "\n",
    "                \n",
    "                ### for body of the news in next page\n",
    "                try:\n",
    "                    para =[]\n",
    "                    for i in body:\n",
    "                      text = i.find_all('p')\n",
    "                      for j in text:\n",
    "                        para.append(j.text)\n",
    "                    body = ''.join(para)\n",
    "                    \n",
    "                    body_news_.append(body)\n",
    "                    #print(body.text)\n",
    "                except:\n",
    "                    body_news_.append(\"None\")\n",
    "    return date_, title_, link_, body_news_"
   ]
  },
  {
   "cell_type": "code",
   "execution_count": 157,
   "metadata": {
    "id": "JI4ji2X-aXC6"
   },
   "outputs": [
    {
     "name": "stdout",
     "output_type": "stream",
     "text": [
      "1 Page in progess\n",
      "2 Page in progess\n",
      "3 Page in progess\n",
      "4 Page in progess\n",
      "5 Page in progess\n",
      "6 Page in progess\n"
     ]
    }
   ],
   "source": [
    "date_, title_, link_, body_news_ = scrapper()"
   ]
  },
  {
   "cell_type": "code",
   "execution_count": 158,
   "metadata": {
    "colab": {
     "base_uri": "https://localhost:8080/"
    },
    "id": "xJzDP6gkaY9W",
    "outputId": "744281e3-2f17-4d2d-ad41-59ea285a5aac"
   },
   "outputs": [
    {
     "name": "stdout",
     "output_type": "stream",
     "text": [
      "129\n",
      "129\n",
      "129\n",
      "129\n"
     ]
    }
   ],
   "source": [
    "print(len(date_))\n",
    "print(len(title_))\n",
    "print(len(link_))\n",
    "print(len(body_news_))"
   ]
  },
  {
   "cell_type": "code",
   "execution_count": 159,
   "metadata": {
    "id": "unNfWgwGaarI"
   },
   "outputs": [],
   "source": [
    "# Converting into DataFrame\n",
    "dict_ = {\"Date_Time\":date_, \"Title\":title_, \"Full_News\":body_news_, \"Links\": link_, \"Category\": \"Research\"}\n",
    "df = pd.DataFrame(dict_)"
   ]
  },
  {
   "cell_type": "code",
   "execution_count": 160,
   "metadata": {
    "colab": {
     "base_uri": "https://localhost:8080/",
     "height": 206
    },
    "id": "UupYASs8acXX",
    "outputId": "5d140fa2-3256-457b-8a9e-e63e62ade1f9"
   },
   "outputs": [
    {
     "data": {
      "text/html": [
       "<div>\n",
       "<style scoped>\n",
       "    .dataframe tbody tr th:only-of-type {\n",
       "        vertical-align: middle;\n",
       "    }\n",
       "\n",
       "    .dataframe tbody tr th {\n",
       "        vertical-align: top;\n",
       "    }\n",
       "\n",
       "    .dataframe thead th {\n",
       "        text-align: right;\n",
       "    }\n",
       "</style>\n",
       "<table border=\"1\" class=\"dataframe\">\n",
       "  <thead>\n",
       "    <tr style=\"text-align: right;\">\n",
       "      <th></th>\n",
       "      <th>Date_Time</th>\n",
       "      <th>Title</th>\n",
       "      <th>Full_News</th>\n",
       "      <th>Links</th>\n",
       "      <th>Category</th>\n",
       "    </tr>\n",
       "  </thead>\n",
       "  <tbody>\n",
       "    <tr>\n",
       "      <th>0</th>\n",
       "      <td>28 March</td>\n",
       "      <td>Almost 80% of early-stage startups plan to hir...</td>\n",
       "      <td>About 80 percent of early-stage startups, with...</td>\n",
       "      <td>https://www.moneycontrol.com/news/business/sta...</td>\n",
       "      <td>Research</td>\n",
       "    </tr>\n",
       "    <tr>\n",
       "      <th>1</th>\n",
       "      <td>11 March</td>\n",
       "      <td>88% Indians would trade high-paying jobs for m...</td>\n",
       "      <td>A majority of Indians would rather take a lowe...</td>\n",
       "      <td>https://www.moneycontrol.com/news/trends/88-in...</td>\n",
       "      <td>Research</td>\n",
       "    </tr>\n",
       "    <tr>\n",
       "      <th>2</th>\n",
       "      <td>22 February</td>\n",
       "      <td>Dollar hovers near six-week high as economies ...</td>\n",
       "      <td>The dollar was little changed on Wednesday, co...</td>\n",
       "      <td>https://www.moneycontrol.com/news/business/eco...</td>\n",
       "      <td>Research</td>\n",
       "    </tr>\n",
       "    <tr>\n",
       "      <th>3</th>\n",
       "      <td>16 February</td>\n",
       "      <td>91% Indian students feel professional certific...</td>\n",
       "      <td>Ninety-one per cent Indian students believe th...</td>\n",
       "      <td>https://www.moneycontrol.com/news/business/eco...</td>\n",
       "      <td>Research</td>\n",
       "    </tr>\n",
       "    <tr>\n",
       "      <th>4</th>\n",
       "      <td>09 February</td>\n",
       "      <td>58% startups believe fund-raising will get tou...</td>\n",
       "      <td>Venture debt firm InnoVen Capital in the eight...</td>\n",
       "      <td>https://www.moneycontrol.com/news/business/sta...</td>\n",
       "      <td>Research</td>\n",
       "    </tr>\n",
       "  </tbody>\n",
       "</table>\n",
       "</div>"
      ],
      "text/plain": [
       "     Date_Time                                              Title  \\\n",
       "0     28 March  Almost 80% of early-stage startups plan to hir...   \n",
       "1     11 March  88% Indians would trade high-paying jobs for m...   \n",
       "2  22 February  Dollar hovers near six-week high as economies ...   \n",
       "3  16 February  91% Indian students feel professional certific...   \n",
       "4  09 February  58% startups believe fund-raising will get tou...   \n",
       "\n",
       "                                           Full_News  \\\n",
       "0  About 80 percent of early-stage startups, with...   \n",
       "1  A majority of Indians would rather take a lowe...   \n",
       "2  The dollar was little changed on Wednesday, co...   \n",
       "3  Ninety-one per cent Indian students believe th...   \n",
       "4  Venture debt firm InnoVen Capital in the eight...   \n",
       "\n",
       "                                               Links  Category  \n",
       "0  https://www.moneycontrol.com/news/business/sta...  Research  \n",
       "1  https://www.moneycontrol.com/news/trends/88-in...  Research  \n",
       "2  https://www.moneycontrol.com/news/business/eco...  Research  \n",
       "3  https://www.moneycontrol.com/news/business/eco...  Research  \n",
       "4  https://www.moneycontrol.com/news/business/sta...  Research  "
      ]
     },
     "execution_count": 160,
     "metadata": {},
     "output_type": "execute_result"
    }
   ],
   "source": [
    "df.head()"
   ]
  },
  {
   "cell_type": "code",
   "execution_count": 161,
   "metadata": {
    "id": "WOEFrc_MaeUB"
   },
   "outputs": [],
   "source": [
    "# replace none in df with nan\n",
    "df.replace(\"None\", float(\"NaN\"), inplace = True)"
   ]
  },
  {
   "cell_type": "code",
   "execution_count": 162,
   "metadata": {
    "colab": {
     "base_uri": "https://localhost:8080/"
    },
    "id": "XCtzFNlAagTk",
    "outputId": "ffff5aff-d231-4b5f-e283-660ec9854f73"
   },
   "outputs": [
    {
     "data": {
      "text/plain": [
       "Date_Time    0\n",
       "Title        0\n",
       "Full_News    0\n",
       "Links        0\n",
       "Category     0\n",
       "dtype: int64"
      ]
     },
     "execution_count": 162,
     "metadata": {},
     "output_type": "execute_result"
    }
   ],
   "source": [
    "df.isna().sum()"
   ]
  },
  {
   "cell_type": "code",
   "execution_count": 163,
   "metadata": {
    "id": "F6cGkPpFaiJz"
   },
   "outputs": [],
   "source": [
    "df.dropna(inplace = True)"
   ]
  },
  {
   "cell_type": "code",
   "execution_count": 164,
   "metadata": {
    "colab": {
     "base_uri": "https://localhost:8080/"
    },
    "id": "yyoltobvaj37",
    "outputId": "0381b6d0-c9ef-4fca-8e75-b2d9acdb2443"
   },
   "outputs": [
    {
     "data": {
      "text/plain": [
       "Date_Time    0\n",
       "Title        0\n",
       "Full_News    0\n",
       "Links        0\n",
       "Category     0\n",
       "dtype: int64"
      ]
     },
     "execution_count": 164,
     "metadata": {},
     "output_type": "execute_result"
    }
   ],
   "source": [
    "df.isna().sum()"
   ]
  },
  {
   "cell_type": "code",
   "execution_count": 165,
   "metadata": {
    "id": "p-K9UtQialxu"
   },
   "outputs": [],
   "source": [
    "# save dataframe\n",
    "df.to_csv('research_news01.csv', index=False)"
   ]
  },
  {
   "cell_type": "code",
   "execution_count": 166,
   "metadata": {
    "colab": {
     "base_uri": "https://localhost:8080/"
    },
    "id": "bWzrWt4papXb",
    "outputId": "31f67921-4fdb-4871-ac86-89b0d224840f"
   },
   "outputs": [
    {
     "name": "stdout",
     "output_type": "stream",
     "text": [
      "<class 'pandas.core.frame.DataFrame'>\n",
      "RangeIndex: 129 entries, 0 to 128\n",
      "Data columns (total 5 columns):\n",
      " #   Column     Non-Null Count  Dtype \n",
      "---  ------     --------------  ----- \n",
      " 0   Date_Time  129 non-null    object\n",
      " 1   Title      129 non-null    object\n",
      " 2   Full_News  129 non-null    object\n",
      " 3   Links      129 non-null    object\n",
      " 4   Category   129 non-null    object\n",
      "dtypes: object(5)\n",
      "memory usage: 5.2+ KB\n"
     ]
    }
   ],
   "source": [
    "df.info()"
   ]
  },
  {
   "cell_type": "code",
   "execution_count": 167,
   "metadata": {
    "id": "slTrv3cpeNb6"
   },
   "outputs": [
    {
     "data": {
      "text/html": [
       "<div>\n",
       "<style scoped>\n",
       "    .dataframe tbody tr th:only-of-type {\n",
       "        vertical-align: middle;\n",
       "    }\n",
       "\n",
       "    .dataframe tbody tr th {\n",
       "        vertical-align: top;\n",
       "    }\n",
       "\n",
       "    .dataframe thead th {\n",
       "        text-align: right;\n",
       "    }\n",
       "</style>\n",
       "<table border=\"1\" class=\"dataframe\">\n",
       "  <thead>\n",
       "    <tr style=\"text-align: right;\">\n",
       "      <th></th>\n",
       "      <th>Date_Time</th>\n",
       "      <th>Title</th>\n",
       "      <th>Full_News</th>\n",
       "      <th>Links</th>\n",
       "      <th>Category</th>\n",
       "    </tr>\n",
       "  </thead>\n",
       "  <tbody>\n",
       "    <tr>\n",
       "      <th>0</th>\n",
       "      <td>28 March</td>\n",
       "      <td>Almost 80% of early-stage startups plan to hir...</td>\n",
       "      <td>About 80 percent of early-stage startups, with...</td>\n",
       "      <td>https://www.moneycontrol.com/news/business/sta...</td>\n",
       "      <td>Research</td>\n",
       "    </tr>\n",
       "    <tr>\n",
       "      <th>1</th>\n",
       "      <td>11 March</td>\n",
       "      <td>88% Indians would trade high-paying jobs for m...</td>\n",
       "      <td>A majority of Indians would rather take a lowe...</td>\n",
       "      <td>https://www.moneycontrol.com/news/trends/88-in...</td>\n",
       "      <td>Research</td>\n",
       "    </tr>\n",
       "    <tr>\n",
       "      <th>2</th>\n",
       "      <td>22 February</td>\n",
       "      <td>Dollar hovers near six-week high as economies ...</td>\n",
       "      <td>The dollar was little changed on Wednesday, co...</td>\n",
       "      <td>https://www.moneycontrol.com/news/business/eco...</td>\n",
       "      <td>Research</td>\n",
       "    </tr>\n",
       "    <tr>\n",
       "      <th>3</th>\n",
       "      <td>16 February</td>\n",
       "      <td>91% Indian students feel professional certific...</td>\n",
       "      <td>Ninety-one per cent Indian students believe th...</td>\n",
       "      <td>https://www.moneycontrol.com/news/business/eco...</td>\n",
       "      <td>Research</td>\n",
       "    </tr>\n",
       "    <tr>\n",
       "      <th>4</th>\n",
       "      <td>09 February</td>\n",
       "      <td>58% startups believe fund-raising will get tou...</td>\n",
       "      <td>Venture debt firm InnoVen Capital in the eight...</td>\n",
       "      <td>https://www.moneycontrol.com/news/business/sta...</td>\n",
       "      <td>Research</td>\n",
       "    </tr>\n",
       "  </tbody>\n",
       "</table>\n",
       "</div>"
      ],
      "text/plain": [
       "     Date_Time                                              Title  \\\n",
       "0     28 March  Almost 80% of early-stage startups plan to hir...   \n",
       "1     11 March  88% Indians would trade high-paying jobs for m...   \n",
       "2  22 February  Dollar hovers near six-week high as economies ...   \n",
       "3  16 February  91% Indian students feel professional certific...   \n",
       "4  09 February  58% startups believe fund-raising will get tou...   \n",
       "\n",
       "                                           Full_News  \\\n",
       "0  About 80 percent of early-stage startups, with...   \n",
       "1  A majority of Indians would rather take a lowe...   \n",
       "2  The dollar was little changed on Wednesday, co...   \n",
       "3  Ninety-one per cent Indian students believe th...   \n",
       "4  Venture debt firm InnoVen Capital in the eight...   \n",
       "\n",
       "                                               Links  Category  \n",
       "0  https://www.moneycontrol.com/news/business/sta...  Research  \n",
       "1  https://www.moneycontrol.com/news/trends/88-in...  Research  \n",
       "2  https://www.moneycontrol.com/news/business/eco...  Research  \n",
       "3  https://www.moneycontrol.com/news/business/eco...  Research  \n",
       "4  https://www.moneycontrol.com/news/business/sta...  Research  "
      ]
     },
     "execution_count": 167,
     "metadata": {},
     "output_type": "execute_result"
    }
   ],
   "source": [
    "df.head()"
   ]
  },
  {
   "cell_type": "code",
   "execution_count": 168,
   "metadata": {},
   "outputs": [
    {
     "data": {
      "text/html": [
       "<div>\n",
       "<style scoped>\n",
       "    .dataframe tbody tr th:only-of-type {\n",
       "        vertical-align: middle;\n",
       "    }\n",
       "\n",
       "    .dataframe tbody tr th {\n",
       "        vertical-align: top;\n",
       "    }\n",
       "\n",
       "    .dataframe thead th {\n",
       "        text-align: right;\n",
       "    }\n",
       "</style>\n",
       "<table border=\"1\" class=\"dataframe\">\n",
       "  <thead>\n",
       "    <tr style=\"text-align: right;\">\n",
       "      <th></th>\n",
       "      <th>Date_Time</th>\n",
       "      <th>Title</th>\n",
       "      <th>Full_News</th>\n",
       "      <th>Links</th>\n",
       "      <th>Category</th>\n",
       "    </tr>\n",
       "  </thead>\n",
       "  <tbody>\n",
       "    <tr>\n",
       "      <th>0</th>\n",
       "      <td>28 March</td>\n",
       "      <td>Almost 80% of early-stage startups plan to hir...</td>\n",
       "      <td>About 80 percent of early-stage startups, with...</td>\n",
       "      <td>https://www.moneycontrol.com/news/business/sta...</td>\n",
       "      <td>Research</td>\n",
       "    </tr>\n",
       "    <tr>\n",
       "      <th>1</th>\n",
       "      <td>11 March</td>\n",
       "      <td>88% Indians would trade high-paying jobs for m...</td>\n",
       "      <td>A majority of Indians would rather take a lowe...</td>\n",
       "      <td>https://www.moneycontrol.com/news/trends/88-in...</td>\n",
       "      <td>Research</td>\n",
       "    </tr>\n",
       "    <tr>\n",
       "      <th>2</th>\n",
       "      <td>22 February</td>\n",
       "      <td>Dollar hovers near six-week high as economies ...</td>\n",
       "      <td>The dollar was little changed on Wednesday, co...</td>\n",
       "      <td>https://www.moneycontrol.com/news/business/eco...</td>\n",
       "      <td>Research</td>\n",
       "    </tr>\n",
       "    <tr>\n",
       "      <th>3</th>\n",
       "      <td>16 February</td>\n",
       "      <td>91% Indian students feel professional certific...</td>\n",
       "      <td>Ninety-one per cent Indian students believe th...</td>\n",
       "      <td>https://www.moneycontrol.com/news/business/eco...</td>\n",
       "      <td>Research</td>\n",
       "    </tr>\n",
       "    <tr>\n",
       "      <th>4</th>\n",
       "      <td>09 February</td>\n",
       "      <td>58% startups believe fund-raising will get tou...</td>\n",
       "      <td>Venture debt firm InnoVen Capital in the eight...</td>\n",
       "      <td>https://www.moneycontrol.com/news/business/sta...</td>\n",
       "      <td>Research</td>\n",
       "    </tr>\n",
       "  </tbody>\n",
       "</table>\n",
       "</div>"
      ],
      "text/plain": [
       "     Date_Time                                              Title  \\\n",
       "0     28 March  Almost 80% of early-stage startups plan to hir...   \n",
       "1     11 March  88% Indians would trade high-paying jobs for m...   \n",
       "2  22 February  Dollar hovers near six-week high as economies ...   \n",
       "3  16 February  91% Indian students feel professional certific...   \n",
       "4  09 February  58% startups believe fund-raising will get tou...   \n",
       "\n",
       "                                           Full_News  \\\n",
       "0  About 80 percent of early-stage startups, with...   \n",
       "1  A majority of Indians would rather take a lowe...   \n",
       "2  The dollar was little changed on Wednesday, co...   \n",
       "3  Ninety-one per cent Indian students believe th...   \n",
       "4  Venture debt firm InnoVen Capital in the eight...   \n",
       "\n",
       "                                               Links  Category  \n",
       "0  https://www.moneycontrol.com/news/business/sta...  Research  \n",
       "1  https://www.moneycontrol.com/news/trends/88-in...  Research  \n",
       "2  https://www.moneycontrol.com/news/business/eco...  Research  \n",
       "3  https://www.moneycontrol.com/news/business/eco...  Research  \n",
       "4  https://www.moneycontrol.com/news/business/sta...  Research  "
      ]
     },
     "execution_count": 168,
     "metadata": {},
     "output_type": "execute_result"
    }
   ],
   "source": [
    "df1 = pd.read_csv(\"C:research_news01.csv\")\n",
    "df1.head()"
   ]
  }
 ],
 "metadata": {
  "colab": {
   "provenance": []
  },
  "kernelspec": {
   "display_name": "Python 3 (ipykernel)",
   "language": "python",
   "name": "python3"
  },
  "language_info": {
   "codemirror_mode": {
    "name": "ipython",
    "version": 3
   },
   "file_extension": ".py",
   "mimetype": "text/x-python",
   "name": "python",
   "nbconvert_exporter": "python",
   "pygments_lexer": "ipython3",
   "version": "3.9.16"
  }
 },
 "nbformat": 4,
 "nbformat_minor": 1
}
