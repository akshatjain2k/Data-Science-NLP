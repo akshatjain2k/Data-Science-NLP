{
 "cells": [
  {
   "cell_type": "code",
   "execution_count": 1,
   "metadata": {},
   "outputs": [],
   "source": [
    "import pandas as pd\n",
    "import numpy as np\n",
    "\n",
    "import re\n",
    "import nltk\n",
    "from nltk.corpus import stopwords\n",
    "from nltk.stem import WordNetLemmatizer\n",
    "from nltk.tokenize import word_tokenize\n",
    "from keras.preprocessing.text import Tokenizer\n",
    "# from tensorflow.keras.preprocessing.sequence import pad_sequences"
   ]
  },
  {
   "cell_type": "code",
   "execution_count": 2,
   "metadata": {},
   "outputs": [
    {
     "data": {
      "text/html": [
       "<div>\n",
       "<style scoped>\n",
       "    .dataframe tbody tr th:only-of-type {\n",
       "        vertical-align: middle;\n",
       "    }\n",
       "\n",
       "    .dataframe tbody tr th {\n",
       "        vertical-align: top;\n",
       "    }\n",
       "\n",
       "    .dataframe thead th {\n",
       "        text-align: right;\n",
       "    }\n",
       "</style>\n",
       "<table border=\"1\" class=\"dataframe\">\n",
       "  <thead>\n",
       "    <tr style=\"text-align: right;\">\n",
       "      <th></th>\n",
       "      <th>article_body</th>\n",
       "      <th>category</th>\n",
       "    </tr>\n",
       "  </thead>\n",
       "  <tbody>\n",
       "    <tr>\n",
       "      <th>0</th>\n",
       "      <td>Long COVID community, which is an open and gro...</td>\n",
       "      <td>Partnership</td>\n",
       "    </tr>\n",
       "    <tr>\n",
       "      <th>1</th>\n",
       "      <td>Government test prep platform Adda247 on Octob...</td>\n",
       "      <td>Funding</td>\n",
       "    </tr>\n",
       "    <tr>\n",
       "      <th>2</th>\n",
       "      <td>Private equity and venture capital investments...</td>\n",
       "      <td>Merger/Acquisition</td>\n",
       "    </tr>\n",
       "    <tr>\n",
       "      <th>3</th>\n",
       "      <td>Digital book-keeping startup Khatabook said on...</td>\n",
       "      <td>Funding</td>\n",
       "    </tr>\n",
       "    <tr>\n",
       "      <th>4</th>\n",
       "      <td>Events are always important and exciting to or...</td>\n",
       "      <td>Research</td>\n",
       "    </tr>\n",
       "  </tbody>\n",
       "</table>\n",
       "</div>"
      ],
      "text/plain": [
       "                                        article_body            category\n",
       "0  Long COVID community, which is an open and gro...         Partnership\n",
       "1  Government test prep platform Adda247 on Octob...             Funding\n",
       "2  Private equity and venture capital investments...  Merger/Acquisition\n",
       "3  Digital book-keeping startup Khatabook said on...             Funding\n",
       "4  Events are always important and exciting to or...            Research"
      ]
     },
     "execution_count": 2,
     "metadata": {},
     "output_type": "execute_result"
    }
   ],
   "source": [
    "df = pd.read_csv(r\"C:\\Users\\abhis\\Desktop\\Celebal\\Sourav\\NLP Assignment\\dataset\\not_preprocessed_data.csv\")\n",
    "df.head()\n"
   ]
  },
  {
   "cell_type": "code",
   "execution_count": 3,
   "metadata": {},
   "outputs": [
    {
     "name": "stdout",
     "output_type": "stream",
     "text": [
      "<class 'pandas.core.frame.DataFrame'>\n",
      "RangeIndex: 7068 entries, 0 to 7067\n",
      "Data columns (total 2 columns):\n",
      " #   Column        Non-Null Count  Dtype \n",
      "---  ------        --------------  ----- \n",
      " 0   article_body  7068 non-null   object\n",
      " 1   category      7068 non-null   object\n",
      "dtypes: object(2)\n",
      "memory usage: 110.6+ KB\n"
     ]
    }
   ],
   "source": [
    "df.info()"
   ]
  },
  {
   "cell_type": "code",
   "execution_count": 4,
   "metadata": {},
   "outputs": [
    {
     "data": {
      "text/plain": [
       "Partnership           1587\n",
       "IPO                   1413\n",
       "Merger/Acquisition     990\n",
       "Finance                989\n",
       "Conference News        892\n",
       "Funding                728\n",
       "Research               469\n",
       "Name: category, dtype: int64"
      ]
     },
     "execution_count": 4,
     "metadata": {},
     "output_type": "execute_result"
    }
   ],
   "source": [
    "df.category.value_counts()\n"
   ]
  },
  {
   "cell_type": "code",
   "execution_count": 5,
   "metadata": {},
   "outputs": [
    {
     "data": {
      "text/html": [
       "<div>\n",
       "<style scoped>\n",
       "    .dataframe tbody tr th:only-of-type {\n",
       "        vertical-align: middle;\n",
       "    }\n",
       "\n",
       "    .dataframe tbody tr th {\n",
       "        vertical-align: top;\n",
       "    }\n",
       "\n",
       "    .dataframe thead th {\n",
       "        text-align: right;\n",
       "    }\n",
       "</style>\n",
       "<table border=\"1\" class=\"dataframe\">\n",
       "  <thead>\n",
       "    <tr style=\"text-align: right;\">\n",
       "      <th></th>\n",
       "      <th>article_body</th>\n",
       "      <th>category</th>\n",
       "      <th>text</th>\n",
       "    </tr>\n",
       "  </thead>\n",
       "  <tbody>\n",
       "    <tr>\n",
       "      <th>0</th>\n",
       "      <td>Long COVID community, which is an open and gro...</td>\n",
       "      <td>Partnership</td>\n",
       "      <td>long covid community open growing community pe...</td>\n",
       "    </tr>\n",
       "    <tr>\n",
       "      <th>1</th>\n",
       "      <td>Government test prep platform Adda247 on Octob...</td>\n",
       "      <td>Funding</td>\n",
       "      <td>government test prep platform adda october sai...</td>\n",
       "    </tr>\n",
       "    <tr>\n",
       "      <th>2</th>\n",
       "      <td>Private equity and venture capital investments...</td>\n",
       "      <td>Merger/Acquisition</td>\n",
       "      <td>private equity venture capital investment diwa...</td>\n",
       "    </tr>\n",
       "    <tr>\n",
       "      <th>3</th>\n",
       "      <td>Digital book-keeping startup Khatabook said on...</td>\n",
       "      <td>Funding</td>\n",
       "      <td>digital book keeping startup khatabook said au...</td>\n",
       "    </tr>\n",
       "    <tr>\n",
       "      <th>4</th>\n",
       "      <td>Events are always important and exciting to or...</td>\n",
       "      <td>Research</td>\n",
       "      <td>event always important exciting organize kind ...</td>\n",
       "    </tr>\n",
       "  </tbody>\n",
       "</table>\n",
       "</div>"
      ],
      "text/plain": [
       "                                        article_body            category  \\\n",
       "0  Long COVID community, which is an open and gro...         Partnership   \n",
       "1  Government test prep platform Adda247 on Octob...             Funding   \n",
       "2  Private equity and venture capital investments...  Merger/Acquisition   \n",
       "3  Digital book-keeping startup Khatabook said on...             Funding   \n",
       "4  Events are always important and exciting to or...            Research   \n",
       "\n",
       "                                                text  \n",
       "0  long covid community open growing community pe...  \n",
       "1  government test prep platform adda october sai...  \n",
       "2  private equity venture capital investment diwa...  \n",
       "3  digital book keeping startup khatabook said au...  \n",
       "4  event always important exciting organize kind ...  "
      ]
     },
     "execution_count": 5,
     "metadata": {},
     "output_type": "execute_result"
    }
   ],
   "source": [
    "# Text Preprocessing - remove punctuations and special characters, convert to lower case, remove stopwords, lemmatize, padding for lstm model\n",
    "\n",
    "# remove punctuations and special characters\n",
    "df['text'] = df['article_body'].apply(lambda x: re.sub('[^a-zA-Z]', ' ', x))\n",
    "\n",
    "# convert to lower case\n",
    "df['text'] = df['text'].apply(lambda x: x.lower())\n",
    "\n",
    "# remove stopwords\n",
    "stop_words = set(stopwords.words('english'))\n",
    "df['text'] = df['text'].apply(lambda x: ' '.join(\n",
    "    [word for word in x.split() if word not in stop_words]))\n",
    "\n",
    "# lemmatize\n",
    "lemmatizer = WordNetLemmatizer()\n",
    "df['text'] = df['text'].apply(lambda x: ' '.join(\n",
    "    [lemmatizer.lemmatize(word) for word in x.split()]))\n",
    "df.head()\n",
    "\n",
    "# cut the text length to 2000\n",
    "\n",
    "df['text'] = df['text'].apply(lambda x: x[:2000])\n",
    "df.head()"
   ]
  },
  {
   "cell_type": "code",
   "execution_count": 6,
   "metadata": {},
   "outputs": [
    {
     "name": "stdout",
     "output_type": "stream",
     "text": [
      "55\n",
      "2000\n"
     ]
    }
   ],
   "source": [
    "# min length of text\n",
    "print(min([len(i) for i in df.text]))\n",
    "\n",
    "# max length of text\n",
    "print(max([len(i) for i in df.text]))\n"
   ]
  },
  {
   "cell_type": "code",
   "execution_count": 7,
   "metadata": {},
   "outputs": [
    {
     "data": {
      "text/plain": [
       "Partnership           600\n",
       "Funding               600\n",
       "Merger/Acquisition    600\n",
       "Conference News       600\n",
       "Finance               600\n",
       "IPO                   600\n",
       "Research              469\n",
       "Name: category, dtype: int64"
      ]
     },
     "execution_count": 7,
     "metadata": {},
     "output_type": "execute_result"
    }
   ],
   "source": [
    "# balanced dataset\n",
    "\n",
    "df = df.groupby('category').head(600)\n",
    "df.category.value_counts()"
   ]
  },
  {
   "cell_type": "code",
   "execution_count": 8,
   "metadata": {},
   "outputs": [
    {
     "data": {
      "text/plain": [
       "article_body    0\n",
       "category        0\n",
       "text            0\n",
       "dtype: int64"
      ]
     },
     "execution_count": 8,
     "metadata": {},
     "output_type": "execute_result"
    }
   ],
   "source": [
    "df.isna().sum()"
   ]
  },
  {
   "cell_type": "code",
   "execution_count": 9,
   "metadata": {},
   "outputs": [
    {
     "data": {
      "text/html": [
       "<div>\n",
       "<style scoped>\n",
       "    .dataframe tbody tr th:only-of-type {\n",
       "        vertical-align: middle;\n",
       "    }\n",
       "\n",
       "    .dataframe tbody tr th {\n",
       "        vertical-align: top;\n",
       "    }\n",
       "\n",
       "    .dataframe thead th {\n",
       "        text-align: right;\n",
       "    }\n",
       "</style>\n",
       "<table border=\"1\" class=\"dataframe\">\n",
       "  <thead>\n",
       "    <tr style=\"text-align: right;\">\n",
       "      <th></th>\n",
       "      <th>article_body</th>\n",
       "      <th>category</th>\n",
       "      <th>text</th>\n",
       "    </tr>\n",
       "  </thead>\n",
       "  <tbody>\n",
       "    <tr>\n",
       "      <th>0</th>\n",
       "      <td>Long COVID community, which is an open and gro...</td>\n",
       "      <td>1</td>\n",
       "      <td>long covid community open growing community pe...</td>\n",
       "    </tr>\n",
       "    <tr>\n",
       "      <th>1</th>\n",
       "      <td>Government test prep platform Adda247 on Octob...</td>\n",
       "      <td>5</td>\n",
       "      <td>government test prep platform adda october sai...</td>\n",
       "    </tr>\n",
       "    <tr>\n",
       "      <th>2</th>\n",
       "      <td>Private equity and venture capital investments...</td>\n",
       "      <td>2</td>\n",
       "      <td>private equity venture capital investment diwa...</td>\n",
       "    </tr>\n",
       "    <tr>\n",
       "      <th>3</th>\n",
       "      <td>Digital book-keeping startup Khatabook said on...</td>\n",
       "      <td>5</td>\n",
       "      <td>digital book keeping startup khatabook said au...</td>\n",
       "    </tr>\n",
       "    <tr>\n",
       "      <th>4</th>\n",
       "      <td>Events are always important and exciting to or...</td>\n",
       "      <td>6</td>\n",
       "      <td>event always important exciting organize kind ...</td>\n",
       "    </tr>\n",
       "  </tbody>\n",
       "</table>\n",
       "</div>"
      ],
      "text/plain": [
       "                                        article_body  category  \\\n",
       "0  Long COVID community, which is an open and gro...         1   \n",
       "1  Government test prep platform Adda247 on Octob...         5   \n",
       "2  Private equity and venture capital investments...         2   \n",
       "3  Digital book-keeping startup Khatabook said on...         5   \n",
       "4  Events are always important and exciting to or...         6   \n",
       "\n",
       "                                                text  \n",
       "0  long covid community open growing community pe...  \n",
       "1  government test prep platform adda october sai...  \n",
       "2  private equity venture capital investment diwa...  \n",
       "3  digital book keeping startup khatabook said au...  \n",
       "4  event always important exciting organize kind ...  "
      ]
     },
     "execution_count": 9,
     "metadata": {},
     "output_type": "execute_result"
    }
   ],
   "source": [
    "# use map function to map the category to numerical values\n",
    "df['category'] = df['category'].map({'IPO': 0, 'Partnership': 1, 'Merger/Acquisition': 2,\n",
    "                                    'Finance': 3, 'Conference News': 4, 'Funding': 5, \"Research\": 6})\n",
    "df.head()\n"
   ]
  },
  {
   "cell_type": "code",
   "execution_count": 10,
   "metadata": {},
   "outputs": [
    {
     "data": {
      "text/html": [
       "<div>\n",
       "<style scoped>\n",
       "    .dataframe tbody tr th:only-of-type {\n",
       "        vertical-align: middle;\n",
       "    }\n",
       "\n",
       "    .dataframe tbody tr th {\n",
       "        vertical-align: top;\n",
       "    }\n",
       "\n",
       "    .dataframe thead th {\n",
       "        text-align: right;\n",
       "    }\n",
       "</style>\n",
       "<table border=\"1\" class=\"dataframe\">\n",
       "  <thead>\n",
       "    <tr style=\"text-align: right;\">\n",
       "      <th></th>\n",
       "      <th>text</th>\n",
       "      <th>category</th>\n",
       "    </tr>\n",
       "  </thead>\n",
       "  <tbody>\n",
       "    <tr>\n",
       "      <th>0</th>\n",
       "      <td>long covid community open growing community pe...</td>\n",
       "      <td>1</td>\n",
       "    </tr>\n",
       "    <tr>\n",
       "      <th>1</th>\n",
       "      <td>government test prep platform adda october sai...</td>\n",
       "      <td>5</td>\n",
       "    </tr>\n",
       "    <tr>\n",
       "      <th>2</th>\n",
       "      <td>private equity venture capital investment diwa...</td>\n",
       "      <td>2</td>\n",
       "    </tr>\n",
       "    <tr>\n",
       "      <th>3</th>\n",
       "      <td>digital book keeping startup khatabook said au...</td>\n",
       "      <td>5</td>\n",
       "    </tr>\n",
       "    <tr>\n",
       "      <th>4</th>\n",
       "      <td>event always important exciting organize kind ...</td>\n",
       "      <td>6</td>\n",
       "    </tr>\n",
       "  </tbody>\n",
       "</table>\n",
       "</div>"
      ],
      "text/plain": [
       "                                                text  category\n",
       "0  long covid community open growing community pe...         1\n",
       "1  government test prep platform adda october sai...         5\n",
       "2  private equity venture capital investment diwa...         2\n",
       "3  digital book keeping startup khatabook said au...         5\n",
       "4  event always important exciting organize kind ...         6"
      ]
     },
     "execution_count": 10,
     "metadata": {},
     "output_type": "execute_result"
    }
   ],
   "source": [
    "# create new dataframe with only text and category\n",
    "new_df = df[['text', 'category']]\n",
    "# new_df.head()\n",
    "\n",
    "new_df.to_csv(\n",
    "    r\"C:\\Users\\abhis\\Desktop\\Celebal\\Sourav\\NLP Assignment\\dataset\\final_preprocessed_data.csv\", index=False)\n",
    "\n",
    "new_df = pd.read_csv(r\"C:\\Users\\abhis\\Desktop\\Celebal\\Sourav\\NLP Assignment\\dataset\\final_preprocessed_data.csv\")\n",
    "new_df.head()\n"
   ]
  },
  {
   "cell_type": "code",
   "execution_count": null,
   "metadata": {},
   "outputs": [],
   "source": []
  }
 ],
 "metadata": {
  "kernelspec": {
   "display_name": "pytorch",
   "language": "python",
   "name": "python3"
  },
  "language_info": {
   "codemirror_mode": {
    "name": "ipython",
    "version": 3
   },
   "file_extension": ".py",
   "mimetype": "text/x-python",
   "name": "python",
   "nbconvert_exporter": "python",
   "pygments_lexer": "ipython3",
   "version": "3.9.16"
  },
  "orig_nbformat": 4
 },
 "nbformat": 4,
 "nbformat_minor": 2
}
