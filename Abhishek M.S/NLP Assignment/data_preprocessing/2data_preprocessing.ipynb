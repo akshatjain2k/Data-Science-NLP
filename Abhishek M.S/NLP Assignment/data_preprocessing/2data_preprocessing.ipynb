{
 "cells": [
  {
   "cell_type": "code",
   "execution_count": 1,
   "metadata": {},
   "outputs": [],
   "source": [
    "import pandas as pd\n",
    "import numpy as np\n"
   ]
  },
  {
   "cell_type": "code",
   "execution_count": 2,
   "metadata": {},
   "outputs": [
    {
     "name": "stdout",
     "output_type": "stream",
     "text": [
      "Found 8 csv files\n",
      "['dataset/news_categories\\\\conference_news.csv', 'dataset/news_categories\\\\finance_news.csv', 'dataset/news_categories\\\\funding_news.csv', 'dataset/news_categories\\\\ipo_news.csv', 'dataset/news_categories\\\\lawsuit_news.csv', 'dataset/news_categories\\\\merger_news.csv', 'dataset/news_categories\\\\partnership_news.csv', 'dataset/news_categories\\\\research_news.csv']\n",
      "Merged csv file saved successfully!\n"
     ]
    }
   ],
   "source": [
    "import glob\n",
    "# merge multiple csv files into one\n",
    "\n",
    "def merge_csv_files():\n",
    "    # get all csv files from dataset folder\n",
    "    csv_files = glob.glob('dataset/news_categories/*.csv')\n",
    "    print('Found {} csv files'.format(len(csv_files)))\n",
    "    print(csv_files)\n",
    "    # read all csv files\n",
    "    csv_data = [pd.read_csv(file) for file in csv_files]\n",
    "    # merge all csv files into one\n",
    "    merged_csv = pd.concat(csv_data, ignore_index=True)\n",
    "    # save merged csv file\n",
    "    merged_csv.to_csv('dataset/final_dataset.csv', index=False)\n",
    "    print('Merged csv file saved successfully!')\n",
    "\n",
    "\n",
    "merge_csv_files()\n"
   ]
  },
  {
   "cell_type": "code",
   "execution_count": 3,
   "metadata": {},
   "outputs": [
    {
     "data": {
      "text/html": [
       "<div>\n",
       "<style scoped>\n",
       "    .dataframe tbody tr th:only-of-type {\n",
       "        vertical-align: middle;\n",
       "    }\n",
       "\n",
       "    .dataframe tbody tr th {\n",
       "        vertical-align: top;\n",
       "    }\n",
       "\n",
       "    .dataframe thead th {\n",
       "        text-align: right;\n",
       "    }\n",
       "</style>\n",
       "<table border=\"1\" class=\"dataframe\">\n",
       "  <thead>\n",
       "    <tr style=\"text-align: right;\">\n",
       "      <th></th>\n",
       "      <th>title</th>\n",
       "      <th>date</th>\n",
       "      <th>article_body</th>\n",
       "      <th>link</th>\n",
       "      <th>category</th>\n",
       "      <th>summary</th>\n",
       "      <th>company_name</th>\n",
       "      <th>funds</th>\n",
       "    </tr>\n",
       "  </thead>\n",
       "  <tbody>\n",
       "    <tr>\n",
       "      <th>0</th>\n",
       "      <td>Relyance AI Selected as Top 10 Cybersecurity F...</td>\n",
       "      <td>03/28/2023 - 01:37 PM</td>\n",
       "      <td>SAN FRANCISCO--(BUSINESS WIRE)--Relyance AI, a...</td>\n",
       "      <td>https://www.businesswire.com/news/home/2023032...</td>\n",
       "      <td>Conference News</td>\n",
       "      <td>SAN FRANCISCO--(BUSINESS WIRE)--Relyance AI, a...</td>\n",
       "      <td>['AI', 'the RSA Conference']</td>\n",
       "      <td>[]</td>\n",
       "    </tr>\n",
       "    <tr>\n",
       "      <th>1</th>\n",
       "      <td>CORRECTING and REPLACING Enterprise Connect 20...</td>\n",
       "      <td>03/28/2023 - 01:31 PM</td>\n",
       "      <td>Bandwidth and Theta Lake Tie for Overall Best ...</td>\n",
       "      <td>https://www.businesswire.com/news/home/2023032...</td>\n",
       "      <td>Conference News</td>\n",
       "      <td>Bandwidth and Theta Lake Tie for Overall Best ...</td>\n",
       "      <td>[]</td>\n",
       "      <td>[]</td>\n",
       "    </tr>\n",
       "    <tr>\n",
       "      <th>2</th>\n",
       "      <td>Henry Schein Announces Presence at the 2023 As...</td>\n",
       "      <td>03/28/2023 - 01:00 PM</td>\n",
       "      <td>MELVILLE, N.Y.--(BUSINESS WIRE)--Henry Schein,...</td>\n",
       "      <td>https://www.businesswire.com/news/home/2023032...</td>\n",
       "      <td>Conference News</td>\n",
       "      <td>MELVILLE, N.Y.--(BUSINESS WIRE)--Henry Schein,...</td>\n",
       "      <td>['MELVILLE', 'N.Y.--(BUSINESS WIRE)--Henry Sch...</td>\n",
       "      <td>[]</td>\n",
       "    </tr>\n",
       "    <tr>\n",
       "      <th>3</th>\n",
       "      <td>Multinationals consider the CIIe as a springbo...</td>\n",
       "      <td>03/28/2023 - 12:49 PM</td>\n",
       "      <td>An exhibitor (right) presents products to visi...</td>\n",
       "      <td>https://www.businesswire.com/news/home/2023032...</td>\n",
       "      <td>Conference News</td>\n",
       "      <td>An exhibitor (right) presents products to visi...</td>\n",
       "      <td>[]</td>\n",
       "      <td>[]</td>\n",
       "    </tr>\n",
       "    <tr>\n",
       "      <th>4</th>\n",
       "      <td>J-Squared Unveils the FALC-20, their AI-Infere...</td>\n",
       "      <td>03/28/2023 - 12:00 PM</td>\n",
       "      <td>TORONTO--(BUSINESS WIRE)--J-Squared and Blaize...</td>\n",
       "      <td>https://www.businesswire.com/news/home/2023032...</td>\n",
       "      <td>Conference News</td>\n",
       "      <td>TORONTO--(BUSINESS WIRE)--J-Squared and Blaize...</td>\n",
       "      <td>['FALC', 'ISCwest']</td>\n",
       "      <td>[]</td>\n",
       "    </tr>\n",
       "  </tbody>\n",
       "</table>\n",
       "</div>"
      ],
      "text/plain": [
       "                                               title                   date  \\\n",
       "0  Relyance AI Selected as Top 10 Cybersecurity F...  03/28/2023 - 01:37 PM   \n",
       "1  CORRECTING and REPLACING Enterprise Connect 20...  03/28/2023 - 01:31 PM   \n",
       "2  Henry Schein Announces Presence at the 2023 As...  03/28/2023 - 01:00 PM   \n",
       "3  Multinationals consider the CIIe as a springbo...  03/28/2023 - 12:49 PM   \n",
       "4  J-Squared Unveils the FALC-20, their AI-Infere...  03/28/2023 - 12:00 PM   \n",
       "\n",
       "                                        article_body  \\\n",
       "0  SAN FRANCISCO--(BUSINESS WIRE)--Relyance AI, a...   \n",
       "1  Bandwidth and Theta Lake Tie for Overall Best ...   \n",
       "2  MELVILLE, N.Y.--(BUSINESS WIRE)--Henry Schein,...   \n",
       "3  An exhibitor (right) presents products to visi...   \n",
       "4  TORONTO--(BUSINESS WIRE)--J-Squared and Blaize...   \n",
       "\n",
       "                                                link         category  \\\n",
       "0  https://www.businesswire.com/news/home/2023032...  Conference News   \n",
       "1  https://www.businesswire.com/news/home/2023032...  Conference News   \n",
       "2  https://www.businesswire.com/news/home/2023032...  Conference News   \n",
       "3  https://www.businesswire.com/news/home/2023032...  Conference News   \n",
       "4  https://www.businesswire.com/news/home/2023032...  Conference News   \n",
       "\n",
       "                                             summary  \\\n",
       "0  SAN FRANCISCO--(BUSINESS WIRE)--Relyance AI, a...   \n",
       "1  Bandwidth and Theta Lake Tie for Overall Best ...   \n",
       "2  MELVILLE, N.Y.--(BUSINESS WIRE)--Henry Schein,...   \n",
       "3  An exhibitor (right) presents products to visi...   \n",
       "4  TORONTO--(BUSINESS WIRE)--J-Squared and Blaize...   \n",
       "\n",
       "                                        company_name funds  \n",
       "0                       ['AI', 'the RSA Conference']    []  \n",
       "1                                                 []    []  \n",
       "2  ['MELVILLE', 'N.Y.--(BUSINESS WIRE)--Henry Sch...    []  \n",
       "3                                                 []    []  \n",
       "4                                ['FALC', 'ISCwest']    []  "
      ]
     },
     "execution_count": 3,
     "metadata": {},
     "output_type": "execute_result"
    }
   ],
   "source": [
    "df = pd.read_csv('dataset/final_dataset.csv')\n",
    "df.head()"
   ]
  },
  {
   "cell_type": "code",
   "execution_count": 4,
   "metadata": {},
   "outputs": [
    {
     "name": "stdout",
     "output_type": "stream",
     "text": [
      "<class 'pandas.core.frame.DataFrame'>\n",
      "RangeIndex: 8548 entries, 0 to 8547\n",
      "Data columns (total 8 columns):\n",
      " #   Column        Non-Null Count  Dtype \n",
      "---  ------        --------------  ----- \n",
      " 0   title         8548 non-null   object\n",
      " 1   date          8548 non-null   object\n",
      " 2   article_body  8527 non-null   object\n",
      " 3   link          8548 non-null   object\n",
      " 4   category      8548 non-null   object\n",
      " 5   summary       8524 non-null   object\n",
      " 6   company_name  8548 non-null   object\n",
      " 7   funds         8527 non-null   object\n",
      "dtypes: object(8)\n",
      "memory usage: 534.4+ KB\n"
     ]
    }
   ],
   "source": [
    "df.info()"
   ]
  },
  {
   "cell_type": "code",
   "execution_count": 5,
   "metadata": {},
   "outputs": [
    {
     "data": {
      "text/plain": [
       "Partnership           1943\n",
       "IPO                   1450\n",
       "Conference News       1186\n",
       "Finance                990\n",
       "Merger/Acquisition     990\n",
       "Funding                750\n",
       "Lawsuit News           722\n",
       "Research               517\n",
       "Name: category, dtype: int64"
      ]
     },
     "execution_count": 5,
     "metadata": {},
     "output_type": "execute_result"
    }
   ],
   "source": [
    "df.category.value_counts()"
   ]
  },
  {
   "cell_type": "code",
   "execution_count": 6,
   "metadata": {},
   "outputs": [
    {
     "data": {
      "text/plain": [
       "title            0\n",
       "date             0\n",
       "article_body    21\n",
       "link             0\n",
       "category         0\n",
       "summary         24\n",
       "company_name     0\n",
       "funds           21\n",
       "dtype: int64"
      ]
     },
     "execution_count": 6,
     "metadata": {},
     "output_type": "execute_result"
    }
   ],
   "source": [
    "# check for missing values\n",
    "df.isnull().sum()"
   ]
  },
  {
   "cell_type": "code",
   "execution_count": 7,
   "metadata": {},
   "outputs": [
    {
     "data": {
      "text/plain": [
       "title           0\n",
       "date            0\n",
       "article_body    0\n",
       "link            0\n",
       "category        0\n",
       "summary         0\n",
       "company_name    0\n",
       "funds           0\n",
       "dtype: int64"
      ]
     },
     "execution_count": 7,
     "metadata": {},
     "output_type": "execute_result"
    }
   ],
   "source": [
    "# drop missing values\n",
    "df.dropna(inplace=True)\n",
    "df.isnull().sum()"
   ]
  },
  {
   "cell_type": "code",
   "execution_count": 8,
   "metadata": {},
   "outputs": [],
   "source": [
    "# check for duplicates\n",
    "df.duplicated().sum()\n",
    "# drop duplicates\n",
    "df.drop_duplicates(inplace=True)"
   ]
  },
  {
   "cell_type": "code",
   "execution_count": 9,
   "metadata": {},
   "outputs": [
    {
     "name": "stdout",
     "output_type": "stream",
     "text": [
      "<class 'pandas.core.frame.DataFrame'>\n",
      "Int64Index: 8490 entries, 0 to 8547\n",
      "Data columns (total 8 columns):\n",
      " #   Column        Non-Null Count  Dtype \n",
      "---  ------        --------------  ----- \n",
      " 0   title         8490 non-null   object\n",
      " 1   date          8490 non-null   object\n",
      " 2   article_body  8490 non-null   object\n",
      " 3   link          8490 non-null   object\n",
      " 4   category      8490 non-null   object\n",
      " 5   summary       8490 non-null   object\n",
      " 6   company_name  8490 non-null   object\n",
      " 7   funds         8490 non-null   object\n",
      "dtypes: object(8)\n",
      "memory usage: 597.0+ KB\n"
     ]
    }
   ],
   "source": [
    "df.info()\n"
   ]
  },
  {
   "cell_type": "code",
   "execution_count": 10,
   "metadata": {},
   "outputs": [
    {
     "data": {
      "text/html": [
       "<div>\n",
       "<style scoped>\n",
       "    .dataframe tbody tr th:only-of-type {\n",
       "        vertical-align: middle;\n",
       "    }\n",
       "\n",
       "    .dataframe tbody tr th {\n",
       "        vertical-align: top;\n",
       "    }\n",
       "\n",
       "    .dataframe thead th {\n",
       "        text-align: right;\n",
       "    }\n",
       "</style>\n",
       "<table border=\"1\" class=\"dataframe\">\n",
       "  <thead>\n",
       "    <tr style=\"text-align: right;\">\n",
       "      <th></th>\n",
       "      <th>article_body</th>\n",
       "      <th>category</th>\n",
       "    </tr>\n",
       "  </thead>\n",
       "  <tbody>\n",
       "    <tr>\n",
       "      <th>0</th>\n",
       "      <td>SAN FRANCISCO--(BUSINESS WIRE)--Relyance AI, a...</td>\n",
       "      <td>Conference News</td>\n",
       "    </tr>\n",
       "    <tr>\n",
       "      <th>1</th>\n",
       "      <td>Bandwidth and Theta Lake Tie for Overall Best ...</td>\n",
       "      <td>Conference News</td>\n",
       "    </tr>\n",
       "    <tr>\n",
       "      <th>2</th>\n",
       "      <td>MELVILLE, N.Y.--(BUSINESS WIRE)--Henry Schein,...</td>\n",
       "      <td>Conference News</td>\n",
       "    </tr>\n",
       "    <tr>\n",
       "      <th>3</th>\n",
       "      <td>An exhibitor (right) presents products to visi...</td>\n",
       "      <td>Conference News</td>\n",
       "    </tr>\n",
       "    <tr>\n",
       "      <th>4</th>\n",
       "      <td>TORONTO--(BUSINESS WIRE)--J-Squared and Blaize...</td>\n",
       "      <td>Conference News</td>\n",
       "    </tr>\n",
       "  </tbody>\n",
       "</table>\n",
       "</div>"
      ],
      "text/plain": [
       "                                        article_body         category\n",
       "0  SAN FRANCISCO--(BUSINESS WIRE)--Relyance AI, a...  Conference News\n",
       "1  Bandwidth and Theta Lake Tie for Overall Best ...  Conference News\n",
       "2  MELVILLE, N.Y.--(BUSINESS WIRE)--Henry Schein,...  Conference News\n",
       "3  An exhibitor (right) presents products to visi...  Conference News\n",
       "4  TORONTO--(BUSINESS WIRE)--J-Squared and Blaize...  Conference News"
      ]
     },
     "execution_count": 10,
     "metadata": {},
     "output_type": "execute_result"
    }
   ],
   "source": [
    "# keep only article_body and category columns\n",
    "df = df[['article_body', 'category']]\n",
    "df.head()"
   ]
  },
  {
   "cell_type": "code",
   "execution_count": 11,
   "metadata": {},
   "outputs": [
    {
     "data": {
      "text/html": [
       "<div>\n",
       "<style scoped>\n",
       "    .dataframe tbody tr th:only-of-type {\n",
       "        vertical-align: middle;\n",
       "    }\n",
       "\n",
       "    .dataframe tbody tr th {\n",
       "        vertical-align: top;\n",
       "    }\n",
       "\n",
       "    .dataframe thead th {\n",
       "        text-align: right;\n",
       "    }\n",
       "</style>\n",
       "<table border=\"1\" class=\"dataframe\">\n",
       "  <thead>\n",
       "    <tr style=\"text-align: right;\">\n",
       "      <th></th>\n",
       "      <th>article_body</th>\n",
       "      <th>category</th>\n",
       "    </tr>\n",
       "  </thead>\n",
       "  <tbody>\n",
       "    <tr>\n",
       "      <th>0</th>\n",
       "      <td>Long COVID community, which is an open and gro...</td>\n",
       "      <td>Partnership</td>\n",
       "    </tr>\n",
       "    <tr>\n",
       "      <th>1</th>\n",
       "      <td>Government test prep platform Adda247 on Octob...</td>\n",
       "      <td>Funding</td>\n",
       "    </tr>\n",
       "    <tr>\n",
       "      <th>2</th>\n",
       "      <td>Private equity and venture capital investments...</td>\n",
       "      <td>Merger/Acquisition</td>\n",
       "    </tr>\n",
       "    <tr>\n",
       "      <th>3</th>\n",
       "      <td>Digital book-keeping startup Khatabook said on...</td>\n",
       "      <td>Funding</td>\n",
       "    </tr>\n",
       "    <tr>\n",
       "      <th>4</th>\n",
       "      <td>Events are always important and exciting to or...</td>\n",
       "      <td>Research</td>\n",
       "    </tr>\n",
       "  </tbody>\n",
       "</table>\n",
       "</div>"
      ],
      "text/plain": [
       "                                        article_body            category\n",
       "0  Long COVID community, which is an open and gro...         Partnership\n",
       "1  Government test prep platform Adda247 on Octob...             Funding\n",
       "2  Private equity and venture capital investments...  Merger/Acquisition\n",
       "3  Digital book-keeping startup Khatabook said on...             Funding\n",
       "4  Events are always important and exciting to or...            Research"
      ]
     },
     "execution_count": 11,
     "metadata": {},
     "output_type": "execute_result"
    }
   ],
   "source": [
    "# randomize the dataset\n",
    "df = df.sample(frac=1).reset_index(drop=True)\n",
    "df.head()"
   ]
  },
  {
   "cell_type": "code",
   "execution_count": 12,
   "metadata": {},
   "outputs": [
    {
     "data": {
      "text/plain": [
       "Partnership           1916\n",
       "IPO                   1450\n",
       "Conference News       1183\n",
       "Merger/Acquisition     990\n",
       "Finance                989\n",
       "Funding                729\n",
       "Lawsuit News           722\n",
       "Research               511\n",
       "Name: category, dtype: int64"
      ]
     },
     "execution_count": 12,
     "metadata": {},
     "output_type": "execute_result"
    }
   ],
   "source": [
    "df.category.value_counts()"
   ]
  },
  {
   "cell_type": "code",
   "execution_count": 190,
   "metadata": {},
   "outputs": [],
   "source": [
    "# drop that rows which have words less than 20 in article_body\n",
    "df = df[df.article_body.apply(lambda x: len(x.split()) > 20)]\n",
    "\n",
    "kt = df[df.category != 'Lawsuit News']\n",
    "kt.to_csv('dataset/not_preprocessed_data.csv', index=False)"
   ]
  },
  {
   "cell_type": "code",
   "execution_count": 163,
   "metadata": {},
   "outputs": [
    {
     "name": "stderr",
     "output_type": "stream",
     "text": [
      "[nltk_data] Downloading package stopwords to\n",
      "[nltk_data]     C:\\Users\\abhis\\AppData\\Roaming\\nltk_data...\n",
      "[nltk_data]   Package stopwords is already up-to-date!\n",
      "[nltk_data] Downloading package wordnet to\n",
      "[nltk_data]     C:\\Users\\abhis\\AppData\\Roaming\\nltk_data...\n",
      "[nltk_data]   Package wordnet is already up-to-date!\n"
     ]
    },
    {
     "data": {
      "text/html": [
       "<div>\n",
       "<style scoped>\n",
       "    .dataframe tbody tr th:only-of-type {\n",
       "        vertical-align: middle;\n",
       "    }\n",
       "\n",
       "    .dataframe tbody tr th {\n",
       "        vertical-align: top;\n",
       "    }\n",
       "\n",
       "    .dataframe thead th {\n",
       "        text-align: right;\n",
       "    }\n",
       "</style>\n",
       "<table border=\"1\" class=\"dataframe\">\n",
       "  <thead>\n",
       "    <tr style=\"text-align: right;\">\n",
       "      <th></th>\n",
       "      <th>article_body</th>\n",
       "      <th>category</th>\n",
       "    </tr>\n",
       "  </thead>\n",
       "  <tbody>\n",
       "    <tr>\n",
       "      <th>0</th>\n",
       "      <td>reuter u intern trade commiss said tuesday wou...</td>\n",
       "      <td>IPO</td>\n",
       "    </tr>\n",
       "    <tr>\n",
       "      <th>1</th>\n",
       "      <td>driffl global digit game marketplac announc no...</td>\n",
       "      <td>Funding</td>\n",
       "    </tr>\n",
       "    <tr>\n",
       "      <th>2</th>\n",
       "      <td>unit state canada said friday would work toget...</td>\n",
       "      <td>IPO</td>\n",
       "    </tr>\n",
       "    <tr>\n",
       "      <th>3</th>\n",
       "      <td>boston busi wire strand therapeut programm mrn...</td>\n",
       "      <td>Conference News</td>\n",
       "    </tr>\n",
       "    <tr>\n",
       "      <th>4</th>\n",
       "      <td>million initi equiti commit invest prime logis...</td>\n",
       "      <td>Partnership</td>\n",
       "    </tr>\n",
       "  </tbody>\n",
       "</table>\n",
       "</div>"
      ],
      "text/plain": [
       "                                        article_body         category\n",
       "0  reuter u intern trade commiss said tuesday wou...              IPO\n",
       "1  driffl global digit game marketplac announc no...          Funding\n",
       "2  unit state canada said friday would work toget...              IPO\n",
       "3  boston busi wire strand therapeut programm mrn...  Conference News\n",
       "4  million initi equiti commit invest prime logis...      Partnership"
      ]
     },
     "execution_count": 163,
     "metadata": {},
     "output_type": "execute_result"
    }
   ],
   "source": [
    "# perform text preprocessing on the dataset\n",
    "import re\n",
    "import nltk\n",
    "from nltk.corpus import stopwords\n",
    "from nltk.stem import WordNetLemmatizer\n",
    "from nltk.stem import PorterStemmer\n",
    "\n",
    "# download stopwords\n",
    "nltk.download('stopwords')\n",
    "# download wordnet\n",
    "nltk.download('wordnet')\n",
    "\n",
    "# initialize lemmatizer\n",
    "lemmatizer = WordNetLemmatizer()\n",
    "# initialize stemmer\n",
    "stemmer = PorterStemmer()\n",
    "\n",
    "# function to perform text preprocessing\n",
    "def text_preprocessing(text):\n",
    "    # remove non-alphabetic characters\n",
    "    text = re.sub('[^a-zA-Z]', ' ', text)\n",
    "    # convert to lowercase\n",
    "    text = text.lower()\n",
    "    # tokenize text\n",
    "    text = text.split()\n",
    "    # remove stopwords\n",
    "    text = [word for word in text if word not in stopwords.words('english')]\n",
    "    # lemmatize text\n",
    "    text = [lemmatizer.lemmatize(word) for word in text]\n",
    "    # stem text\n",
    "    text = [stemmer.stem(word) for word in text]\n",
    "    # join text\n",
    "    text = ' '.join(text)\n",
    "    return text\n",
    "\n",
    "# apply text preprocessing on article_body column\n",
    "df['article_body'] = df['article_body'].apply(text_preprocessing)\n",
    "df.head()\n",
    "\n"
   ]
  },
  {
   "cell_type": "code",
   "execution_count": 164,
   "metadata": {},
   "outputs": [],
   "source": [
    "# save preprocessed dataset\n",
    "df.to_csv('dataset/preprocessed_final_dataset.csv', index=False)"
   ]
  },
  {
   "cell_type": "code",
   "execution_count": 165,
   "metadata": {},
   "outputs": [
    {
     "data": {
      "text/html": [
       "<div>\n",
       "<style scoped>\n",
       "    .dataframe tbody tr th:only-of-type {\n",
       "        vertical-align: middle;\n",
       "    }\n",
       "\n",
       "    .dataframe tbody tr th {\n",
       "        vertical-align: top;\n",
       "    }\n",
       "\n",
       "    .dataframe thead th {\n",
       "        text-align: right;\n",
       "    }\n",
       "</style>\n",
       "<table border=\"1\" class=\"dataframe\">\n",
       "  <thead>\n",
       "    <tr style=\"text-align: right;\">\n",
       "      <th></th>\n",
       "      <th>article_body</th>\n",
       "      <th>category</th>\n",
       "    </tr>\n",
       "  </thead>\n",
       "  <tbody>\n",
       "    <tr>\n",
       "      <th>0</th>\n",
       "      <td>reuter u intern trade commiss said tuesday wou...</td>\n",
       "      <td>IPO</td>\n",
       "    </tr>\n",
       "    <tr>\n",
       "      <th>1</th>\n",
       "      <td>driffl global digit game marketplac announc no...</td>\n",
       "      <td>Funding</td>\n",
       "    </tr>\n",
       "    <tr>\n",
       "      <th>2</th>\n",
       "      <td>unit state canada said friday would work toget...</td>\n",
       "      <td>IPO</td>\n",
       "    </tr>\n",
       "    <tr>\n",
       "      <th>3</th>\n",
       "      <td>boston busi wire strand therapeut programm mrn...</td>\n",
       "      <td>Conference News</td>\n",
       "    </tr>\n",
       "    <tr>\n",
       "      <th>4</th>\n",
       "      <td>million initi equiti commit invest prime logis...</td>\n",
       "      <td>Partnership</td>\n",
       "    </tr>\n",
       "  </tbody>\n",
       "</table>\n",
       "</div>"
      ],
      "text/plain": [
       "                                        article_body         category\n",
       "0  reuter u intern trade commiss said tuesday wou...              IPO\n",
       "1  driffl global digit game marketplac announc no...          Funding\n",
       "2  unit state canada said friday would work toget...              IPO\n",
       "3  boston busi wire strand therapeut programm mrn...  Conference News\n",
       "4  million initi equiti commit invest prime logis...      Partnership"
      ]
     },
     "execution_count": 165,
     "metadata": {},
     "output_type": "execute_result"
    }
   ],
   "source": [
    "df = pd.read_csv('dataset/preprocessed_final_dataset.csv')\n",
    "\n",
    "df.head()"
   ]
  },
  {
   "cell_type": "code",
   "execution_count": 166,
   "metadata": {},
   "outputs": [
    {
     "data": {
      "text/html": [
       "<div>\n",
       "<style scoped>\n",
       "    .dataframe tbody tr th:only-of-type {\n",
       "        vertical-align: middle;\n",
       "    }\n",
       "\n",
       "    .dataframe tbody tr th {\n",
       "        vertical-align: top;\n",
       "    }\n",
       "\n",
       "    .dataframe thead th {\n",
       "        text-align: right;\n",
       "    }\n",
       "</style>\n",
       "<table border=\"1\" class=\"dataframe\">\n",
       "  <thead>\n",
       "    <tr style=\"text-align: right;\">\n",
       "      <th></th>\n",
       "      <th>article_body</th>\n",
       "      <th>category</th>\n",
       "      <th>word_count</th>\n",
       "    </tr>\n",
       "  </thead>\n",
       "  <tbody>\n",
       "    <tr>\n",
       "      <th>0</th>\n",
       "      <td>reuter u intern trade commiss said tuesday wou...</td>\n",
       "      <td>IPO</td>\n",
       "      <td>22</td>\n",
       "    </tr>\n",
       "    <tr>\n",
       "      <th>1</th>\n",
       "      <td>driffl global digit game marketplac announc no...</td>\n",
       "      <td>Funding</td>\n",
       "      <td>222</td>\n",
       "    </tr>\n",
       "    <tr>\n",
       "      <th>2</th>\n",
       "      <td>unit state canada said friday would work toget...</td>\n",
       "      <td>IPO</td>\n",
       "      <td>20</td>\n",
       "    </tr>\n",
       "    <tr>\n",
       "      <th>3</th>\n",
       "      <td>boston busi wire strand therapeut programm mrn...</td>\n",
       "      <td>Conference News</td>\n",
       "      <td>29</td>\n",
       "    </tr>\n",
       "    <tr>\n",
       "      <th>4</th>\n",
       "      <td>million initi equiti commit invest prime logis...</td>\n",
       "      <td>Partnership</td>\n",
       "      <td>24</td>\n",
       "    </tr>\n",
       "  </tbody>\n",
       "</table>\n",
       "</div>"
      ],
      "text/plain": [
       "                                        article_body         category  \\\n",
       "0  reuter u intern trade commiss said tuesday wou...              IPO   \n",
       "1  driffl global digit game marketplac announc no...          Funding   \n",
       "2  unit state canada said friday would work toget...              IPO   \n",
       "3  boston busi wire strand therapeut programm mrn...  Conference News   \n",
       "4  million initi equiti commit invest prime logis...      Partnership   \n",
       "\n",
       "   word_count  \n",
       "0          22  \n",
       "1         222  \n",
       "2          20  \n",
       "3          29  \n",
       "4          24  "
      ]
     },
     "execution_count": 166,
     "metadata": {},
     "output_type": "execute_result"
    }
   ],
   "source": [
    "# word count of each article\n",
    "df['word_count'] = df['article_body'].apply(lambda x: len(str(x).split()))\n",
    "df.head()"
   ]
  },
  {
   "cell_type": "code",
   "execution_count": 169,
   "metadata": {},
   "outputs": [
    {
     "data": {
      "text/html": [
       "<div>\n",
       "<style scoped>\n",
       "    .dataframe tbody tr th:only-of-type {\n",
       "        vertical-align: middle;\n",
       "    }\n",
       "\n",
       "    .dataframe tbody tr th {\n",
       "        vertical-align: top;\n",
       "    }\n",
       "\n",
       "    .dataframe thead th {\n",
       "        text-align: right;\n",
       "    }\n",
       "</style>\n",
       "<table border=\"1\" class=\"dataframe\">\n",
       "  <thead>\n",
       "    <tr style=\"text-align: right;\">\n",
       "      <th></th>\n",
       "      <th>article_body</th>\n",
       "      <th>category</th>\n",
       "      <th>word_count</th>\n",
       "    </tr>\n",
       "  </thead>\n",
       "  <tbody>\n",
       "    <tr>\n",
       "      <th>0</th>\n",
       "      <td>reuter u intern trade commiss said tuesday wou...</td>\n",
       "      <td>IPO</td>\n",
       "      <td>22</td>\n",
       "    </tr>\n",
       "    <tr>\n",
       "      <th>1</th>\n",
       "      <td>driffl global digit game marketplac announc no...</td>\n",
       "      <td>Funding</td>\n",
       "      <td>222</td>\n",
       "    </tr>\n",
       "    <tr>\n",
       "      <th>3</th>\n",
       "      <td>boston busi wire strand therapeut programm mrn...</td>\n",
       "      <td>Conference News</td>\n",
       "      <td>29</td>\n",
       "    </tr>\n",
       "    <tr>\n",
       "      <th>4</th>\n",
       "      <td>million initi equiti commit invest prime logis...</td>\n",
       "      <td>Partnership</td>\n",
       "      <td>24</td>\n",
       "    </tr>\n",
       "    <tr>\n",
       "      <th>7</th>\n",
       "      <td>busi wire indiain power address prime minist d...</td>\n",
       "      <td>Research</td>\n",
       "      <td>383</td>\n",
       "    </tr>\n",
       "  </tbody>\n",
       "</table>\n",
       "</div>"
      ],
      "text/plain": [
       "                                        article_body         category  \\\n",
       "0  reuter u intern trade commiss said tuesday wou...              IPO   \n",
       "1  driffl global digit game marketplac announc no...          Funding   \n",
       "3  boston busi wire strand therapeut programm mrn...  Conference News   \n",
       "4  million initi equiti commit invest prime logis...      Partnership   \n",
       "7  busi wire indiain power address prime minist d...         Research   \n",
       "\n",
       "   word_count  \n",
       "0          22  \n",
       "1         222  \n",
       "3          29  \n",
       "4          24  \n",
       "7         383  "
      ]
     },
     "execution_count": 169,
     "metadata": {},
     "output_type": "execute_result"
    }
   ],
   "source": [
    "# drop the rows which have word count less than 30\n",
    "kf = df[df['word_count'] > 20]\n",
    "kf.head()"
   ]
  },
  {
   "cell_type": "code",
   "execution_count": 170,
   "metadata": {},
   "outputs": [
    {
     "data": {
      "text/plain": [
       "Partnership           1368\n",
       "IPO                   1217\n",
       "Merger/Acquisition     990\n",
       "Finance                989\n",
       "Conference News        835\n",
       "Funding                728\n",
       "Lawsuit News           690\n",
       "Research               444\n",
       "Name: category, dtype: int64"
      ]
     },
     "execution_count": 170,
     "metadata": {},
     "output_type": "execute_result"
    }
   ],
   "source": [
    "kf.category.value_counts()"
   ]
  },
  {
   "cell_type": "code",
   "execution_count": 171,
   "metadata": {},
   "outputs": [
    {
     "data": {
      "text/plain": [
       "IPO                   600\n",
       "Funding               600\n",
       "Conference News       600\n",
       "Partnership           600\n",
       "Lawsuit News          600\n",
       "Merger/Acquisition    600\n",
       "Finance               600\n",
       "Research              444\n",
       "Name: category, dtype: int64"
      ]
     },
     "execution_count": 171,
     "metadata": {},
     "output_type": "execute_result"
    }
   ],
   "source": [
    "# number of rows per each category should be equal to 60\n",
    "kt = kf.groupby('category').head(600)\n",
    "kt.category.value_counts()"
   ]
  },
  {
   "cell_type": "code",
   "execution_count": 174,
   "metadata": {},
   "outputs": [
    {
     "data": {
      "text/html": [
       "<div>\n",
       "<style scoped>\n",
       "    .dataframe tbody tr th:only-of-type {\n",
       "        vertical-align: middle;\n",
       "    }\n",
       "\n",
       "    .dataframe tbody tr th {\n",
       "        vertical-align: top;\n",
       "    }\n",
       "\n",
       "    .dataframe thead th {\n",
       "        text-align: right;\n",
       "    }\n",
       "</style>\n",
       "<table border=\"1\" class=\"dataframe\">\n",
       "  <thead>\n",
       "    <tr style=\"text-align: right;\">\n",
       "      <th></th>\n",
       "      <th>article_body</th>\n",
       "      <th>category</th>\n",
       "    </tr>\n",
       "  </thead>\n",
       "  <tbody>\n",
       "    <tr>\n",
       "      <th>0</th>\n",
       "      <td>reuter u intern trade commiss said tuesday wou...</td>\n",
       "      <td>IPO</td>\n",
       "    </tr>\n",
       "    <tr>\n",
       "      <th>1</th>\n",
       "      <td>driffl global digit game marketplac announc no...</td>\n",
       "      <td>Funding</td>\n",
       "    </tr>\n",
       "    <tr>\n",
       "      <th>3</th>\n",
       "      <td>boston busi wire strand therapeut programm mrn...</td>\n",
       "      <td>Conference News</td>\n",
       "    </tr>\n",
       "    <tr>\n",
       "      <th>4</th>\n",
       "      <td>million initi equiti commit invest prime logis...</td>\n",
       "      <td>Partnership</td>\n",
       "    </tr>\n",
       "    <tr>\n",
       "      <th>7</th>\n",
       "      <td>busi wire indiain power address prime minist d...</td>\n",
       "      <td>Research</td>\n",
       "    </tr>\n",
       "  </tbody>\n",
       "</table>\n",
       "</div>"
      ],
      "text/plain": [
       "                                        article_body         category\n",
       "0  reuter u intern trade commiss said tuesday wou...              IPO\n",
       "1  driffl global digit game marketplac announc no...          Funding\n",
       "3  boston busi wire strand therapeut programm mrn...  Conference News\n",
       "4  million initi equiti commit invest prime logis...      Partnership\n",
       "7  busi wire indiain power address prime minist d...         Research"
      ]
     },
     "execution_count": 174,
     "metadata": {},
     "output_type": "execute_result"
    }
   ],
   "source": [
    "kt.head()"
   ]
  },
  {
   "cell_type": "code",
   "execution_count": 177,
   "metadata": {},
   "outputs": [],
   "source": [
    "\n",
    "kt.drop('word_count', axis=1, inplace=True)\n",
    "\n",
    "kt = kt[kt.category != 'Lawsuit News']\n",
    "kt.to_csv('dataset/600_data.csv', index=False)"
   ]
  },
  {
   "cell_type": "code",
   "execution_count": null,
   "metadata": {},
   "outputs": [],
   "source": []
  }
 ],
 "metadata": {
  "kernelspec": {
   "display_name": "pytorch",
   "language": "python",
   "name": "python3"
  },
  "language_info": {
   "codemirror_mode": {
    "name": "ipython",
    "version": 3
   },
   "file_extension": ".py",
   "mimetype": "text/x-python",
   "name": "python",
   "nbconvert_exporter": "python",
   "pygments_lexer": "ipython3",
   "version": "3.9.16"
  },
  "orig_nbformat": 4
 },
 "nbformat": 4,
 "nbformat_minor": 2
}
