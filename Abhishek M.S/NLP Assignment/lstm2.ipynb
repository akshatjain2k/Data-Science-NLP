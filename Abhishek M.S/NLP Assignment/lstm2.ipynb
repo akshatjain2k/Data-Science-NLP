{
  "cells": [
    {
      "cell_type": "code",
      "source": [
        "from google.colab import drive\n",
        "drive.mount('/content/drive')"
      ],
      "metadata": {
        "colab": {
          "base_uri": "https://localhost:8080/"
        },
        "id": "SG2vxWEPxoZl",
        "outputId": "969c4cfc-dfb6-41e1-c918-42c0bffda8ce"
      },
      "execution_count": 1,
      "outputs": [
        {
          "output_type": "stream",
          "name": "stdout",
          "text": [
            "Mounted at /content/drive\n"
          ]
        }
      ]
    },
    {
      "cell_type": "code",
      "source": [],
      "metadata": {
        "id": "3Moux0Czxfeb"
      },
      "execution_count": null,
      "outputs": []
    },
    {
      "cell_type": "code",
      "execution_count": 1,
      "metadata": {
        "colab": {
          "base_uri": "https://localhost:8080/"
        },
        "id": "ESBzazCsxX9R",
        "outputId": "26f60aec-44f0-49e9-9ef1-056839039d43"
      },
      "outputs": [
        {
          "output_type": "stream",
          "name": "stderr",
          "text": [
            "[nltk_data] Downloading package stopwords to /root/nltk_data...\n",
            "[nltk_data]   Package stopwords is already up-to-date!\n",
            "[nltk_data] Downloading package wordnet to /root/nltk_data...\n",
            "[nltk_data]   Package wordnet is already up-to-date!\n"
          ]
        }
      ],
      "source": [
        "# import libraries\n",
        "\n",
        "import torch.optim as optim\n",
        "import pandas as pd\n",
        "import numpy as np\n",
        "import matplotlib.pyplot as plt\n",
        "\n",
        "%matplotlib inline\n",
        "\n",
        "import re\n",
        "import nltk\n",
        "nltk.download('stopwords')\n",
        "nltk.download('wordnet')\n",
        "\n",
        "from nltk.corpus import stopwords\n",
        "from nltk.stem import WordNetLemmatizer\n",
        "from nltk.tokenize import word_tokenize\n",
        "from keras.preprocessing.text import Tokenizer\n",
        "from tensorflow.keras.preprocessing.sequence import pad_sequences\n",
        "\n",
        "from sklearn.model_selection import train_test_split\n",
        "from sklearn.metrics import classification_report, accuracy_score\n",
        "\n",
        "\n",
        "import torch\n",
        "from torch.utils.data import TensorDataset, DataLoader\n",
        "import torch.nn as nn\n",
        "import torch.nn.functional as F\n",
        "\n",
        "from tqdm import tqdm\n",
        "\n",
        "import warnings\n",
        "warnings.filterwarnings('ignore')"
      ]
    },
    {
      "cell_type": "code",
      "execution_count": 2,
      "metadata": {
        "colab": {
          "base_uri": "https://localhost:8080/",
          "height": 206
        },
        "id": "4Qg6LzgrxX9U",
        "outputId": "43db47e9-6b0e-4089-be6a-38071d506cf3"
      },
      "outputs": [
        {
          "output_type": "execute_result",
          "data": {
            "text/plain": [
              "                                                text  category\n",
              "0  long covid community open growing community pe...         1\n",
              "1  government test prep platform adda october sai...         5\n",
              "2  private equity venture capital investment diwa...         2\n",
              "3  digital book keeping startup khatabook said au...         5\n",
              "4  event always important exciting organize kind ...         6"
            ],
            "text/html": [
              "\n",
              "  <div id=\"df-0b35e2f0-ce53-4eeb-848f-d7a8184d7478\">\n",
              "    <div class=\"colab-df-container\">\n",
              "      <div>\n",
              "<style scoped>\n",
              "    .dataframe tbody tr th:only-of-type {\n",
              "        vertical-align: middle;\n",
              "    }\n",
              "\n",
              "    .dataframe tbody tr th {\n",
              "        vertical-align: top;\n",
              "    }\n",
              "\n",
              "    .dataframe thead th {\n",
              "        text-align: right;\n",
              "    }\n",
              "</style>\n",
              "<table border=\"1\" class=\"dataframe\">\n",
              "  <thead>\n",
              "    <tr style=\"text-align: right;\">\n",
              "      <th></th>\n",
              "      <th>text</th>\n",
              "      <th>category</th>\n",
              "    </tr>\n",
              "  </thead>\n",
              "  <tbody>\n",
              "    <tr>\n",
              "      <th>0</th>\n",
              "      <td>long covid community open growing community pe...</td>\n",
              "      <td>1</td>\n",
              "    </tr>\n",
              "    <tr>\n",
              "      <th>1</th>\n",
              "      <td>government test prep platform adda october sai...</td>\n",
              "      <td>5</td>\n",
              "    </tr>\n",
              "    <tr>\n",
              "      <th>2</th>\n",
              "      <td>private equity venture capital investment diwa...</td>\n",
              "      <td>2</td>\n",
              "    </tr>\n",
              "    <tr>\n",
              "      <th>3</th>\n",
              "      <td>digital book keeping startup khatabook said au...</td>\n",
              "      <td>5</td>\n",
              "    </tr>\n",
              "    <tr>\n",
              "      <th>4</th>\n",
              "      <td>event always important exciting organize kind ...</td>\n",
              "      <td>6</td>\n",
              "    </tr>\n",
              "  </tbody>\n",
              "</table>\n",
              "</div>\n",
              "      <button class=\"colab-df-convert\" onclick=\"convertToInteractive('df-0b35e2f0-ce53-4eeb-848f-d7a8184d7478')\"\n",
              "              title=\"Convert this dataframe to an interactive table.\"\n",
              "              style=\"display:none;\">\n",
              "        \n",
              "  <svg xmlns=\"http://www.w3.org/2000/svg\" height=\"24px\"viewBox=\"0 0 24 24\"\n",
              "       width=\"24px\">\n",
              "    <path d=\"M0 0h24v24H0V0z\" fill=\"none\"/>\n",
              "    <path d=\"M18.56 5.44l.94 2.06.94-2.06 2.06-.94-2.06-.94-.94-2.06-.94 2.06-2.06.94zm-11 1L8.5 8.5l.94-2.06 2.06-.94-2.06-.94L8.5 2.5l-.94 2.06-2.06.94zm10 10l.94 2.06.94-2.06 2.06-.94-2.06-.94-.94-2.06-.94 2.06-2.06.94z\"/><path d=\"M17.41 7.96l-1.37-1.37c-.4-.4-.92-.59-1.43-.59-.52 0-1.04.2-1.43.59L10.3 9.45l-7.72 7.72c-.78.78-.78 2.05 0 2.83L4 21.41c.39.39.9.59 1.41.59.51 0 1.02-.2 1.41-.59l7.78-7.78 2.81-2.81c.8-.78.8-2.07 0-2.86zM5.41 20L4 18.59l7.72-7.72 1.47 1.35L5.41 20z\"/>\n",
              "  </svg>\n",
              "      </button>\n",
              "      \n",
              "  <style>\n",
              "    .colab-df-container {\n",
              "      display:flex;\n",
              "      flex-wrap:wrap;\n",
              "      gap: 12px;\n",
              "    }\n",
              "\n",
              "    .colab-df-convert {\n",
              "      background-color: #E8F0FE;\n",
              "      border: none;\n",
              "      border-radius: 50%;\n",
              "      cursor: pointer;\n",
              "      display: none;\n",
              "      fill: #1967D2;\n",
              "      height: 32px;\n",
              "      padding: 0 0 0 0;\n",
              "      width: 32px;\n",
              "    }\n",
              "\n",
              "    .colab-df-convert:hover {\n",
              "      background-color: #E2EBFA;\n",
              "      box-shadow: 0px 1px 2px rgba(60, 64, 67, 0.3), 0px 1px 3px 1px rgba(60, 64, 67, 0.15);\n",
              "      fill: #174EA6;\n",
              "    }\n",
              "\n",
              "    [theme=dark] .colab-df-convert {\n",
              "      background-color: #3B4455;\n",
              "      fill: #D2E3FC;\n",
              "    }\n",
              "\n",
              "    [theme=dark] .colab-df-convert:hover {\n",
              "      background-color: #434B5C;\n",
              "      box-shadow: 0px 1px 3px 1px rgba(0, 0, 0, 0.15);\n",
              "      filter: drop-shadow(0px 1px 2px rgba(0, 0, 0, 0.3));\n",
              "      fill: #FFFFFF;\n",
              "    }\n",
              "  </style>\n",
              "\n",
              "      <script>\n",
              "        const buttonEl =\n",
              "          document.querySelector('#df-0b35e2f0-ce53-4eeb-848f-d7a8184d7478 button.colab-df-convert');\n",
              "        buttonEl.style.display =\n",
              "          google.colab.kernel.accessAllowed ? 'block' : 'none';\n",
              "\n",
              "        async function convertToInteractive(key) {\n",
              "          const element = document.querySelector('#df-0b35e2f0-ce53-4eeb-848f-d7a8184d7478');\n",
              "          const dataTable =\n",
              "            await google.colab.kernel.invokeFunction('convertToInteractive',\n",
              "                                                     [key], {});\n",
              "          if (!dataTable) return;\n",
              "\n",
              "          const docLinkHtml = 'Like what you see? Visit the ' +\n",
              "            '<a target=\"_blank\" href=https://colab.research.google.com/notebooks/data_table.ipynb>data table notebook</a>'\n",
              "            + ' to learn more about interactive tables.';\n",
              "          element.innerHTML = '';\n",
              "          dataTable['output_type'] = 'display_data';\n",
              "          await google.colab.output.renderOutput(dataTable, element);\n",
              "          const docLink = document.createElement('div');\n",
              "          docLink.innerHTML = docLinkHtml;\n",
              "          element.appendChild(docLink);\n",
              "        }\n",
              "      </script>\n",
              "    </div>\n",
              "  </div>\n",
              "  "
            ]
          },
          "metadata": {},
          "execution_count": 2
        }
      ],
      "source": [
        "df = pd.read_csv(r'/content/drive/MyDrive/Colab_Work/Pytorch/NLP Assignment/final_preprocessed_data.csv')\n",
        "df.head()"
      ]
    },
    {
      "cell_type": "code",
      "execution_count": 3,
      "metadata": {
        "colab": {
          "base_uri": "https://localhost:8080/"
        },
        "id": "HJ7mWp25xX9U",
        "outputId": "c9a528db-e04b-4376-f8aa-432cd75e6441"
      },
      "outputs": [
        {
          "output_type": "stream",
          "name": "stdout",
          "text": [
            "<class 'pandas.core.frame.DataFrame'>\n",
            "RangeIndex: 4069 entries, 0 to 4068\n",
            "Data columns (total 2 columns):\n",
            " #   Column    Non-Null Count  Dtype \n",
            "---  ------    --------------  ----- \n",
            " 0   text      4069 non-null   object\n",
            " 1   category  4069 non-null   int64 \n",
            "dtypes: int64(1), object(1)\n",
            "memory usage: 63.7+ KB\n"
          ]
        }
      ],
      "source": [
        "df.info()"
      ]
    },
    {
      "cell_type": "code",
      "execution_count": 4,
      "metadata": {
        "colab": {
          "base_uri": "https://localhost:8080/"
        },
        "id": "RlPE7RZZxX9V",
        "outputId": "b8d9a270-9448-4668-9c50-1f398d9a053c"
      },
      "outputs": [
        {
          "output_type": "execute_result",
          "data": {
            "text/plain": [
              "1    600\n",
              "5    600\n",
              "2    600\n",
              "4    600\n",
              "3    600\n",
              "0    600\n",
              "6    469\n",
              "Name: category, dtype: int64"
            ]
          },
          "metadata": {},
          "execution_count": 4
        }
      ],
      "source": [
        "df.category.value_counts()"
      ]
    },
    {
      "cell_type": "code",
      "execution_count": 5,
      "metadata": {
        "colab": {
          "base_uri": "https://localhost:8080/"
        },
        "id": "yLnDHuYrxX9V",
        "outputId": "9fcfbc75-5f69-456f-b75b-9cf74b9b8ade"
      },
      "outputs": [
        {
          "output_type": "execute_result",
          "data": {
            "text/plain": [
              "Index(['text', 'category'], dtype='object')"
            ]
          },
          "metadata": {},
          "execution_count": 5
        }
      ],
      "source": [
        "df.columns"
      ]
    },
    {
      "cell_type": "code",
      "source": [],
      "metadata": {
        "id": "JcS1_2KvEOk4"
      },
      "execution_count": 5,
      "outputs": []
    },
    {
      "cell_type": "code",
      "source": [
        "!wget http://nlp.stanford.edu/data/glove.6B.zip\n",
        "!unzip glove.6B.zip -d glove\n"
      ],
      "metadata": {
        "colab": {
          "base_uri": "https://localhost:8080/"
        },
        "id": "CwiM7rmSENl9",
        "outputId": "11bf86e3-5713-4ce2-f41e-cf32100271be"
      },
      "execution_count": 6,
      "outputs": [
        {
          "output_type": "stream",
          "name": "stdout",
          "text": [
            "--2023-04-02 17:52:16--  http://nlp.stanford.edu/data/glove.6B.zip\n",
            "Resolving nlp.stanford.edu (nlp.stanford.edu)... 171.64.67.140\n",
            "Connecting to nlp.stanford.edu (nlp.stanford.edu)|171.64.67.140|:80... connected.\n",
            "HTTP request sent, awaiting response... 302 Found\n",
            "Location: https://nlp.stanford.edu/data/glove.6B.zip [following]\n",
            "--2023-04-02 17:52:16--  https://nlp.stanford.edu/data/glove.6B.zip\n",
            "Connecting to nlp.stanford.edu (nlp.stanford.edu)|171.64.67.140|:443... connected.\n",
            "HTTP request sent, awaiting response... 301 Moved Permanently\n",
            "Location: https://downloads.cs.stanford.edu/nlp/data/glove.6B.zip [following]\n",
            "--2023-04-02 17:52:17--  https://downloads.cs.stanford.edu/nlp/data/glove.6B.zip\n",
            "Resolving downloads.cs.stanford.edu (downloads.cs.stanford.edu)... 171.64.64.22\n",
            "Connecting to downloads.cs.stanford.edu (downloads.cs.stanford.edu)|171.64.64.22|:443... connected.\n",
            "HTTP request sent, awaiting response... 200 OK\n",
            "Length: 862182613 (822M) [application/zip]\n",
            "Saving to: ‘glove.6B.zip.1’\n",
            "\n",
            "glove.6B.zip.1       31%[=====>              ] 259.99M  5.11MB/s    eta 1m 45s ^C\n",
            "Archive:  glove.6B.zip\n",
            "replace glove/glove.6B.50d.txt? [y]es, [n]o, [A]ll, [N]one, [r]ename: N\n"
          ]
        }
      ]
    },
    {
      "cell_type": "code",
      "source": [
        "embeddings_index = {}\n",
        "with open('glove/glove.6B.300d.txt', 'r') as f:\n",
        "    for line in f:\n",
        "        values = line.split()\n",
        "        word = values[0]\n",
        "        coefs = np.asarray(values[1:], dtype='float32')\n",
        "        embeddings_index[word] = coefs"
      ],
      "metadata": {
        "id": "THfYQTLzENbP"
      },
      "execution_count": 7,
      "outputs": []
    },
    {
      "cell_type": "code",
      "source": [
        "from tensorflow.keras.preprocessing.sequence import pad_sequences\n",
        "\n",
        "# max length of text\n",
        "max_length = max([len(i) for i in df.text])\n",
        "# print(max_length)\n",
        "\n",
        "\n",
        "tokenizer = Tokenizer()\n",
        "tokenizer.fit_on_texts(df.text)\n",
        "sequences = tokenizer.texts_to_sequences(df.text)\n",
        "padded_sequences = pad_sequences(sequences, maxlen=max_length, padding='post', truncating='post')\n",
        "\n",
        "vocab_size = len(tokenizer.word_index) + 1\n",
        "embedding_dim = 300\n",
        "\n",
        "embedding_matrix = np.zeros((vocab_size, embedding_dim))\n",
        "for word, i in tokenizer.word_index.items():\n",
        "    embedding_vector = embeddings_index.get(word)\n",
        "    if embedding_vector is not None:\n",
        "        embedding_matrix[i] = embedding_vector\n"
      ],
      "metadata": {
        "id": "7vdajXdXEaYj"
      },
      "execution_count": 8,
      "outputs": []
    },
    {
      "cell_type": "code",
      "execution_count": 9,
      "metadata": {
        "id": "VBCId8koxX9W"
      },
      "outputs": [],
      "source": [
        "# # define the lstm model\n",
        "# class LSTM(nn.Module):\n",
        "#     def __init__(self, vocab_size, embedding_dim, hidden_dim, output_dim, n_layers, bidirectional, dropout):\n",
        "#         super().__init__()\n",
        "\n",
        "#         self.embedding = nn.Embedding.from_pretrained(torch.FloatTensor(embedding_matrix), freeze=False)\n",
        "#         self.lstm = nn.LSTM(embedding_dim, hidden_dim, num_layers=n_layers,\n",
        "#                             bidirectional=bidirectional, dropout=dropout, batch_first=True)\n",
        "#         self.fc = nn.Linear(hidden_dim * 2, output_dim)\n",
        "#         self.dropout = nn.Dropout(dropout)\n",
        "\n",
        "#     def forward(self, text):\n",
        "#         embedded = self.embedding(text)\n",
        "#         output, (hidden, cell) = self.lstm(embedded)\n",
        "#         hidden = self.dropout(\n",
        "#             torch.cat((hidden[-2, :, :], hidden[-1, :, :]), dim=1))\n",
        "#         return self.fc(hidden.squeeze(0))\n",
        "\n",
        "class BetterLSTM(nn.Module):\n",
        "    def __init__(self, vocab_size, embedding_dim, hidden_dim, output_dim, n_layers, bidirectional, dropout):\n",
        "        super().__init__()\n",
        "\n",
        "        # initialize the embedding layer with pre-trained GloVe embeddings\n",
        "        self.embedding = nn.Embedding.from_pretrained(torch.FloatTensor(embedding_matrix), freeze=False)\n",
        "\n",
        "        # use a multi-layered LSTM with attention mechanisms\n",
        "        self.lstm = nn.LSTM(embedding_dim, hidden_dim, num_layers=n_layers,\n",
        "                            bidirectional=bidirectional, dropout=dropout, batch_first=True)\n",
        "        self.attention = nn.Linear(hidden_dim * 2, 1)\n",
        "\n",
        "        # use a fully connected layer with dropout and ReLU activation\n",
        "        self.fc1 = nn.Linear(hidden_dim * 2, hidden_dim)\n",
        "        self.dropout = nn.Dropout(dropout)\n",
        "        self.relu = nn.ReLU()\n",
        "\n",
        "        # use another fully connected layer for the output\n",
        "        self.fc2 = nn.Linear(hidden_dim, output_dim)\n",
        "\n",
        "    def forward(self, text):\n",
        "        embedded = self.embedding(text) # embedded = [batch size, sent len, emb dim]\n",
        "        output, (hidden, cell) = self.lstm(embedded) # output = [batch size, sent len, hid dim * num directions]\n",
        "\n",
        "        # apply attention mechanism to focus on the most relevant parts of the input\n",
        "        attn_scores = self.attention(output).squeeze(2)\n",
        "        attn_weights = F.softmax(attn_scores, dim=1).unsqueeze(2)\n",
        "        attn_output = torch.bmm(output.transpose(1, 2), attn_weights).squeeze(2)\n",
        "\n",
        "        # apply fully connected layers with dropout and ReLU activation\n",
        "        fc1_output = self.fc1(attn_output)\n",
        "        fc1_output = self.dropout(fc1_output)\n",
        "        fc1_output = self.relu(fc1_output)\n",
        "\n",
        "        # apply another fully connected layer for the output\n",
        "        output = self.fc2(fc1_output)\n",
        "\n",
        "        return output\n"
      ]
    },
    {
      "cell_type": "code",
      "execution_count": 10,
      "metadata": {
        "colab": {
          "base_uri": "https://localhost:8080/"
        },
        "id": "lYr_9XhyxX9W",
        "outputId": "3e4f6fa6-8a4f-4021-df81-62c7f829f9bb"
      },
      "outputs": [
        {
          "output_type": "stream",
          "name": "stdout",
          "text": [
            "(3255, 2000)\n",
            "(814, 2000)\n",
            "(3255,)\n",
            "(814,)\n"
          ]
        }
      ],
      "source": [
        "# split the data into train and test\n",
        "\n",
        "X_train, X_test, y_train, y_test = train_test_split(\n",
        "    padded_sequences, df.category, test_size=0.2, random_state=42)\n",
        "\n",
        "print(X_train.shape)\n",
        "print(X_test.shape)\n",
        "print(y_train.shape)\n",
        "print(y_test.shape)\n"
      ]
    },
    {
      "cell_type": "code",
      "execution_count": 11,
      "metadata": {
        "id": "YelWDoHTxX9X"
      },
      "outputs": [],
      "source": [
        "train_data = TensorDataset(torch.from_numpy(\n",
        "    X_train), torch.from_numpy(y_train.values))\n",
        "test_data = TensorDataset(torch.from_numpy(\n",
        "    X_test), torch.from_numpy(y_test.values))\n",
        "\n",
        "batch_size = 64\n",
        "\n",
        "trainloader = DataLoader(train_data, shuffle=True, batch_size=batch_size)\n",
        "testloader = DataLoader(test_data, shuffle=True, batch_size=batch_size)\n"
      ]
    },
    {
      "cell_type": "code",
      "execution_count": 17,
      "metadata": {
        "colab": {
          "base_uri": "https://localhost:8080/"
        },
        "id": "5RyHI5yixX9X",
        "outputId": "447e3078-c2ab-4c84-9daf-779e5059fdc7"
      },
      "outputs": [
        {
          "output_type": "stream",
          "name": "stdout",
          "text": [
            "BetterLSTM(\n",
            "  (embedding): Embedding(27071, 300)\n",
            "  (lstm): LSTM(300, 256, num_layers=2, batch_first=True, dropout=0.5, bidirectional=True)\n",
            "  (attention): Linear(in_features=512, out_features=1, bias=True)\n",
            "  (fc1): Linear(in_features=512, out_features=256, bias=True)\n",
            "  (dropout): Dropout(p=0.5, inplace=False)\n",
            "  (relu): ReLU()\n",
            "  (fc2): Linear(in_features=256, out_features=7, bias=True)\n",
            ")\n"
          ]
        }
      ],
      "source": [
        "# define the hyperparameters\n",
        "vocab_size = len(tokenizer.word_index) + 1\n",
        "embedding_dim = 300\n",
        "hidden_dim = 256\n",
        "output_dim = 7\n",
        "n_layers = 2\n",
        "bidirectional = True\n",
        "dropout = 0.5\n",
        "\n",
        "# define the model\n",
        "model = BetterLSTM(vocab_size, embedding_dim, hidden_dim, output_dim, n_layers, bidirectional, dropout)\n",
        "print(model)"
      ]
    },
    {
      "cell_type": "code",
      "execution_count": 18,
      "metadata": {
        "id": "pqyi-hOzxX9Y"
      },
      "outputs": [],
      "source": [
        "def train(model, device, trainloader, optimizer, criterion):\n",
        "\n",
        "    #  function to train the model (forward, backward, update)\n",
        "\n",
        "    model.train() # sets the mode of the PyTorch neural network model to training mode.\n",
        "    train_loss = 0\n",
        "\n",
        "    for inputs, labels in trainloader: #* Iterate through the train_loader to get the images and labels\n",
        "        inputs = inputs.to(device) \n",
        "        labels = labels.to(device) #* Move labels to the device (GPU or CPU)\n",
        "\n",
        "        optimizer.zero_grad() #* Clear gradients w.r.t. parameters\n",
        "\n",
        "        outputs = model(inputs) #* Forward pass \n",
        "\n",
        "        loss = criterion(outputs, labels) #* Calculate Loss\n",
        "        loss.backward() #* Getting gradients w.r.t. parameters (Backpropagation) #  computes the gradients of the loss function with respect to the model parameters\n",
        "\n",
        "        optimizer.step() #* Updating parameters\n",
        "        train_loss += loss.item() * inputs.size(0) #* Update training loss\n",
        "\n",
        "    return train_loss / len(trainloader) #* Return average training loss\n",
        "\n",
        "def test(model, device, testloader, criterion): \n",
        "\n",
        "    # function to test the model\n",
        "    model.eval()\n",
        "    test_loss = 0\n",
        "    correct = 0\n",
        "\n",
        "    with torch.no_grad(): \n",
        "        for inputs, labels in testloader:\n",
        "\n",
        "            inputs = inputs.to(device)\n",
        "            labels = labels.to(device)\n",
        "\n",
        "            outputs = model(inputs) #! Forward pass\n",
        "            loss = criterion(outputs, labels)\n",
        "            test_loss += loss.item() * inputs.size(0)\n",
        "\n",
        "            _, preds = torch.max(outputs, 1)\n",
        "            correct += (preds == labels).sum().item() #! Total correct predictions\n",
        "\n",
        "    return test_loss / len(testloader), correct / len(testloader.dataset) #! Return average test loss and accuracy\n"
      ]
    },
    {
      "cell_type": "code",
      "source": [
        "# hyperparameters\n",
        "num_epochs = 10\n",
        "learning_rate = 0.001\n",
        "criterion = nn.CrossEntropyLoss()\n",
        "optimizer = optim.Adam(model.parameters(), lr=learning_rate)\n",
        "device = torch.device('cuda' if torch.cuda.is_available() else 'cpu')\n",
        "model.to(device)"
      ],
      "metadata": {
        "colab": {
          "base_uri": "https://localhost:8080/"
        },
        "id": "Y5tza7VM8Bvt",
        "outputId": "cb36eda4-1c8a-415f-c044-1ce09608f14c"
      },
      "execution_count": 19,
      "outputs": [
        {
          "output_type": "execute_result",
          "data": {
            "text/plain": [
              "BetterLSTM(\n",
              "  (embedding): Embedding(27071, 300)\n",
              "  (lstm): LSTM(300, 256, num_layers=2, batch_first=True, dropout=0.5, bidirectional=True)\n",
              "  (attention): Linear(in_features=512, out_features=1, bias=True)\n",
              "  (fc1): Linear(in_features=512, out_features=256, bias=True)\n",
              "  (dropout): Dropout(p=0.5, inplace=False)\n",
              "  (relu): ReLU()\n",
              "  (fc2): Linear(in_features=256, out_features=7, bias=True)\n",
              ")"
            ]
          },
          "metadata": {},
          "execution_count": 19
        }
      ]
    },
    {
      "cell_type": "code",
      "execution_count": 20,
      "metadata": {
        "colab": {
          "base_uri": "https://localhost:8080/"
        },
        "id": "QzyFAshhxX9Y",
        "outputId": "77c90458-b3d2-4e98-87cc-a4476a69ef5b"
      },
      "outputs": [
        {
          "output_type": "stream",
          "name": "stderr",
          "text": [
            " 10%|█         | 1/10 [00:46<06:54, 46.02s/it]"
          ]
        },
        {
          "output_type": "stream",
          "name": "stdout",
          "text": [
            "Epoch [1/10], Train Loss: 106.7084, Test Loss: 91.7122, Test Accuracy: 0.3194\n"
          ]
        },
        {
          "output_type": "stream",
          "name": "stderr",
          "text": [
            "\r 20%|██        | 2/10 [01:34<06:17, 47.18s/it]"
          ]
        },
        {
          "output_type": "stream",
          "name": "stdout",
          "text": [
            "Epoch [2/10], Train Loss: 80.5551, Test Loss: 67.3982, Test Accuracy: 0.5651\n"
          ]
        },
        {
          "output_type": "stream",
          "name": "stderr",
          "text": [
            "\r 30%|███       | 3/10 [02:23<05:37, 48.22s/it]"
          ]
        },
        {
          "output_type": "stream",
          "name": "stdout",
          "text": [
            "Epoch [3/10], Train Loss: 56.4159, Test Loss: 54.5519, Test Accuracy: 0.7088\n"
          ]
        },
        {
          "output_type": "stream",
          "name": "stderr",
          "text": [
            "\r 40%|████      | 4/10 [03:12<04:51, 48.63s/it]"
          ]
        },
        {
          "output_type": "stream",
          "name": "stdout",
          "text": [
            "Epoch [4/10], Train Loss: 35.8747, Test Loss: 44.7099, Test Accuracy: 0.7703\n"
          ]
        },
        {
          "output_type": "stream",
          "name": "stderr",
          "text": [
            "\r 50%|█████     | 5/10 [04:02<04:04, 48.89s/it]"
          ]
        },
        {
          "output_type": "stream",
          "name": "stdout",
          "text": [
            "Epoch [5/10], Train Loss: 22.7271, Test Loss: 51.7669, Test Accuracy: 0.7469\n"
          ]
        },
        {
          "output_type": "stream",
          "name": "stderr",
          "text": [
            "\r 60%|██████    | 6/10 [04:51<03:15, 48.97s/it]"
          ]
        },
        {
          "output_type": "stream",
          "name": "stdout",
          "text": [
            "Epoch [6/10], Train Loss: 15.9761, Test Loss: 43.8919, Test Accuracy: 0.8022\n"
          ]
        },
        {
          "output_type": "stream",
          "name": "stderr",
          "text": [
            "\r 70%|███████   | 7/10 [05:40<02:27, 49.16s/it]"
          ]
        },
        {
          "output_type": "stream",
          "name": "stdout",
          "text": [
            "Epoch [7/10], Train Loss: 8.7378, Test Loss: 43.0929, Test Accuracy: 0.8194\n"
          ]
        },
        {
          "output_type": "stream",
          "name": "stderr",
          "text": [
            "\r 80%|████████  | 8/10 [06:29<01:38, 49.15s/it]"
          ]
        },
        {
          "output_type": "stream",
          "name": "stdout",
          "text": [
            "Epoch [8/10], Train Loss: 6.0808, Test Loss: 48.9384, Test Accuracy: 0.8059\n"
          ]
        },
        {
          "output_type": "stream",
          "name": "stderr",
          "text": [
            "\r 90%|█████████ | 9/10 [07:18<00:49, 49.11s/it]"
          ]
        },
        {
          "output_type": "stream",
          "name": "stdout",
          "text": [
            "Epoch [9/10], Train Loss: 5.2169, Test Loss: 48.5094, Test Accuracy: 0.8182\n"
          ]
        },
        {
          "output_type": "stream",
          "name": "stderr",
          "text": [
            "100%|██████████| 10/10 [08:08<00:00, 48.82s/it]"
          ]
        },
        {
          "output_type": "stream",
          "name": "stdout",
          "text": [
            "Epoch [10/10], Train Loss: 2.8763, Test Loss: 56.0659, Test Accuracy: 0.8305\n"
          ]
        },
        {
          "output_type": "stream",
          "name": "stderr",
          "text": [
            "\n"
          ]
        }
      ],
      "source": [
        "train_losses = []\n",
        "test_losses = []\n",
        "test_accs = []\n",
        "\n",
        "for epoch in tqdm(range(num_epochs)): \n",
        "\n",
        "    train_loss = train(model, device, trainloader, optimizer, criterion)\n",
        "    test_loss, test_acc = test(model, device, testloader, criterion)\n",
        "\n",
        "    train_losses.append(train_loss)\n",
        "    test_losses.append(test_loss)\n",
        "    test_accs.append(test_acc)\n",
        "\n",
        "    print(f'Epoch [{epoch + 1}/{num_epochs}], Train Loss: {train_loss:.4f}, Test Loss: {test_loss:.4f}, Test Accuracy: {test_acc:.4f}')"
      ]
    },
    {
      "cell_type": "code",
      "execution_count": 21,
      "metadata": {
        "id": "rQaakq4mxX9Y"
      },
      "outputs": [],
      "source": [
        "# test the model\n",
        "test_loss, test_accuracy = test(model, device, testloader, criterion)\n"
      ]
    },
    {
      "cell_type": "code",
      "execution_count": 22,
      "metadata": {
        "colab": {
          "base_uri": "https://localhost:8080/",
          "height": 482
        },
        "id": "KuqmX0_QxX9Z",
        "outputId": "eb446fbd-56d6-4e2b-fbc5-139e84e3960a"
      },
      "outputs": [
        {
          "output_type": "display_data",
          "data": {
            "text/plain": [
              "<Figure size 1500x500 with 2 Axes>"
            ],
            "image/png": "[encoded data removed]"
          },
          "metadata": {}
        }
      ],
      "source": [
        "def visualize_results(train_losses, test_losses, test_accs): #^ function to visualize the results\n",
        "\n",
        "    fig, axs = plt.subplots(1, 2, figsize=(15, 5)) #^ Create a figure and a set of subplots\n",
        "\n",
        "    axs[0].plot(train_losses, label='Train') #^ Plot the train losses in the first subplot\n",
        "    axs[0].plot(test_losses, label='Test') #^ Plot the test losses in the first subplot\n",
        "    axs[0].set_title('Loss over epochs')\n",
        "\n",
        "    axs[0].set_xlabel('Epoch')\n",
        "    axs[0].set_ylabel('Loss')\n",
        "    axs[0].legend()\n",
        "\n",
        "    axs[0].grid(True)\n",
        "    \n",
        "    axs[1].plot(test_accs, label='Test') #^ Plot the test accuracies in the second subplot\n",
        "    axs[1].set_title('Accuracy over epochs')\n",
        "    axs[1].set_xlabel('Epoch')\n",
        "\n",
        "    axs[1].set_ylabel('Accuracy')\n",
        "\n",
        "    axs[1].legend()\n",
        "    axs[1].grid(True)\n",
        "    \n",
        "    plt.tight_layout() \n",
        "    plt.show()\n",
        "\n",
        "visualize_results(train_losses, test_losses, test_accs) #! Visualize the results"
      ]
    },
    {
      "cell_type": "code",
      "execution_count": 23,
      "metadata": {
        "colab": {
          "base_uri": "https://localhost:8080/"
        },
        "id": "QWnKLjLixX9Z",
        "outputId": "4dc979a9-36f7-4f24-8876-01e3e8387525"
      },
      "outputs": [
        {
          "output_type": "execute_result",
          "data": {
            "text/plain": [
              "<All keys matched successfully>"
            ]
          },
          "metadata": {},
          "execution_count": 23
        }
      ],
      "source": [
        "# save the model\n",
        "torch.save(model.state_dict(), '/content/drive/MyDrive/Colab_Work/Pytorch/NLP Assignment/bettermodelLSTM.pt')\n",
        "\n",
        "# load the model\n",
        "model.load_state_dict(torch.load('/content/drive/MyDrive/Colab_Work/Pytorch/NLP Assignment/bettermodelLSTM.pt'))\n"
      ]
    },
    {
      "cell_type": "code",
      "source": [
        "# predict the test data\n",
        "y_pred = []\n",
        "\n",
        "with torch.no_grad():\n",
        "    for inputs, labels in testloader:\n",
        "        inputs, labels = inputs.to(device), labels.to(device)\n",
        "        outputs = model(inputs)\n",
        "        _, predicted = torch.max(outputs, 1)\n",
        "        y_pred.extend(predicted.tolist())\n",
        "\n",
        "# classification report\n",
        "from sklearn.metrics import classification_report\n",
        "print(classification_report(y_test, y_pred))"
      ],
      "metadata": {
        "colab": {
          "base_uri": "https://localhost:8080/"
        },
        "id": "yjh4f8KSyIjG",
        "outputId": "6ff01b06-965c-4c22-896a-1ef1d9a07892"
      },
      "execution_count": 24,
      "outputs": [
        {
          "output_type": "stream",
          "name": "stdout",
          "text": [
            "              precision    recall  f1-score   support\n",
            "\n",
            "           0       0.18      0.19      0.19       129\n",
            "           1       0.11      0.11      0.11       106\n",
            "           2       0.13      0.14      0.14       134\n",
            "           3       0.12      0.14      0.13       111\n",
            "           4       0.15      0.16      0.15       108\n",
            "           5       0.17      0.14      0.16       127\n",
            "           6       0.11      0.10      0.11        99\n",
            "\n",
            "    accuracy                           0.14       814\n",
            "   macro avg       0.14      0.14      0.14       814\n",
            "weighted avg       0.14      0.14      0.14       814\n",
            "\n"
          ]
        }
      ]
    },
    {
      "cell_type": "code",
      "source": [],
      "metadata": {
        "id": "hU7EKpyg0h5_"
      },
      "execution_count": null,
      "outputs": []
    }
  ],
  "metadata": {
    "kernelspec": {
      "display_name": "pytorch",
      "language": "python",
      "name": "python3"
    },
    "language_info": {
      "codemirror_mode": {
        "name": "ipython",
        "version": 3
      },
      "file_extension": ".py",
      "mimetype": "text/x-python",
      "name": "python",
      "nbconvert_exporter": "python",
      "pygments_lexer": "ipython3",
      "version": "3.9.16"
    },
    "orig_nbformat": 4,
    "colab": {
      "provenance": []
    },
    "accelerator": "GPU",
    "gpuClass": "standard"
  },
  "nbformat": 4,
  "nbformat_minor": 0
}